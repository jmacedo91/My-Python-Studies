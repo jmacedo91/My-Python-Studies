{
  "nbformat": 4,
  "nbformat_minor": 0,
  "metadata": {
    "colab": {
      "name": "Day 10 - Functions with Outputs.ipynb",
      "provenance": [],
      "authorship_tag": "ABX9TyM5mlx6LA0AipIC6dOpu+ec",
      "include_colab_link": true
    },
    "kernelspec": {
      "name": "python3",
      "display_name": "Python 3"
    },
    "language_info": {
      "name": "python"
    }
  },
  "cells": [
    {
      "cell_type": "markdown",
      "metadata": {
        "id": "view-in-github",
        "colab_type": "text"
      },
      "source": [
        "<a href=\"https://colab.research.google.com/github/jmacedo91/Python-100-Days-of-Code/blob/main/Day_10_Functions_with_Outputs.ipynb\" target=\"_parent\"><img src=\"https://colab.research.google.com/assets/colab-badge.svg\" alt=\"Open In Colab\"/></a>"
      ]
    },
    {
      "cell_type": "markdown",
      "source": [
        "***\n",
        "# <font color=u size=8>Day 10 - Functions with Outputs</font>\n",
        "***"
      ],
      "metadata": {
        "id": "_liOGj2TmUp3"
      }
    },
    {
      "cell_type": "markdown",
      "source": [
        "##More Functions"
      ],
      "metadata": {
        "id": "mL_pVGh6rXp_"
      }
    },
    {
      "cell_type": "code",
      "source": [
        "# Function with inputs\n",
        "def my_function(something): \n",
        "  print(something)\n",
        "\n",
        "my_function(\"jonathan\")"
      ],
      "metadata": {
        "colab": {
          "base_uri": "https://localhost:8080/"
        },
        "id": "dHFLY3JAmY6b",
        "outputId": "927e5f54-7dc6-4a65-8a74-e94a1d425abf"
      },
      "execution_count": null,
      "outputs": [
        {
          "output_type": "stream",
          "name": "stdout",
          "text": [
            "jonathan\n"
          ]
        }
      ]
    },
    {
      "cell_type": "code",
      "source": [
        "# Functions with Outputs\n",
        "def my_function():\n",
        "  result = 3 * 2\n",
        "  return result\n",
        "\n",
        "my_function()"
      ],
      "metadata": {
        "colab": {
          "base_uri": "https://localhost:8080/"
        },
        "id": "F5XJ4y_Qruw_",
        "outputId": "0bdadb5a-f6bd-4a63-e337-474b79b87213"
      },
      "execution_count": null,
      "outputs": [
        {
          "output_type": "execute_result",
          "data": {
            "text/plain": [
              "6"
            ]
          },
          "metadata": {},
          "execution_count": 4
        }
      ]
    },
    {
      "cell_type": "code",
      "source": [
        "def format_name(f_name, l_name):\n",
        "  formated_f_name = f_name.title()\n",
        "  formated_l_name = l_name.title()\n",
        "  return f\"{formated_f_name} {formated_l_name}\""
      ],
      "metadata": {
        "id": "6hWLHE5IsIlg"
      },
      "execution_count": null,
      "outputs": []
    },
    {
      "cell_type": "code",
      "source": [
        "formated_string = format_name(\"jonathan\", \"silva\")\n",
        "print(formated_string)"
      ],
      "metadata": {
        "colab": {
          "base_uri": "https://localhost:8080/"
        },
        "id": "TIVW-HHctZ-o",
        "outputId": "1b7f4225-60e4-4778-a00f-b8a3876a55a3"
      },
      "execution_count": null,
      "outputs": [
        {
          "output_type": "stream",
          "name": "stdout",
          "text": [
            "Jonathan Silva\n"
          ]
        }
      ]
    },
    {
      "cell_type": "markdown",
      "source": [
        "## Multiple Return Values"
      ],
      "metadata": {
        "id": "aAddjvG5wYcW"
      }
    },
    {
      "cell_type": "code",
      "source": [
        "def format_name(f_name, l_name):\n",
        "  if f_name == \"\" or l_name == \"\":\n",
        "    return \"You didn't provide valid inputs.\"\n",
        "  formated_f_name = f_name.title()\n",
        "  formated_l_name = l_name.title()\n",
        "  return f\"Result: {formated_f_name} {formated_l_name}\"\n",
        "\n",
        "print(format_name(input(\"What is your first name? \"), input(\"What is your last name? \")))"
      ],
      "metadata": {
        "colab": {
          "base_uri": "https://localhost:8080/"
        },
        "id": "WOja803Atdu9",
        "outputId": "8b66ca52-c501-473a-c41b-100c6af772be"
      },
      "execution_count": null,
      "outputs": [
        {
          "output_type": "stream",
          "name": "stdout",
          "text": [
            "What is your first name? \n",
            "What is your last name? \n",
            "You didn't provide valid inputs.\n"
          ]
        }
      ]
    },
    {
      "cell_type": "markdown",
      "source": [
        "### Exercise 01 - Days in Month"
      ],
      "metadata": {
        "id": "c4HXY8Gt2AqV"
      }
    },
    {
      "cell_type": "markdown",
      "source": [
        "In the starting code, you'll find the solution from the Leap Year challenge. First, convert this function is_leap() so that instead of printing \"Leap year.\" or \"Not leap year.\" it should return True if it is a leap year and return False if it is not a leap year.\n",
        "\n",
        "You are then going to create a function called days_in_month() which will take a year and a month as inputs, e.g.\n",
        "\n",
        "days_in_month(year=2022, month=2)\n",
        "And it will use this information to work out the number of days in the month, then return that as the output, e.g.:\n",
        "\n",
        "28\n",
        "The List month_days contains the number of days in a month from January to December for a non-leap year. A leap year has 29 days in February."
      ],
      "metadata": {
        "id": "kpXQJk2W3LkK"
      }
    },
    {
      "cell_type": "markdown",
      "source": [
        ">Look at the function call at the bottom of the code to see the positional arguments. The order is very important.\n",
        "\n",
        ">Feel free to choose your own parameter names.\n",
        "\n",
        ">Remember that month_days is a List and Lists in Python start at position 0. So the number of days in January is month_days[0]\n",
        "\n",
        ">Be careful with indentation."
      ],
      "metadata": {
        "id": "zkmLaNtA3hsJ"
      }
    },
    {
      "cell_type": "code",
      "source": [
        "def is_leap(year):\n",
        "  if year % 4 == 0:\n",
        "    if year % 100 == 0:\n",
        "      if year % 400 == 0:\n",
        "        return True\n",
        "      else:\n",
        "        return False\n",
        "    else:\n",
        "      return True\n",
        "  else:\n",
        "    return False\n",
        "\n",
        "def days_in_month(year, month):\n",
        "  if month > 12 or month < 1:\n",
        "    return \"Invalid month.\"\n",
        "  month_days = [31, 28, 31, 30, 31, 30, 31, 31, 30, 31, 30, 31]\n",
        "  index_month = month - 1\n",
        "  if is_leap(year):\n",
        "    if index_month == 1:\n",
        "      return month_days[index_month] + 1\n",
        "  else:\n",
        "    return month_days[index_month]\n",
        "  \n",
        "  \n",
        "#🚨 Do NOT change any of the code below \n",
        "year = int(input(\"Enter a year: \"))\n",
        "month = int(input(\"Enter a month: \"))\n",
        "days = days_in_month(year, month)\n",
        "print(days)"
      ],
      "metadata": {
        "colab": {
          "base_uri": "https://localhost:8080/"
        },
        "id": "QaJId4DL1hWs",
        "outputId": "d540e5f7-92f5-4ef9-848c-1bf7a52db03c"
      },
      "execution_count": null,
      "outputs": [
        {
          "output_type": "stream",
          "name": "stdout",
          "text": [
            "Enter a year: 2021\n",
            "Enter a month: 12\n",
            "31\n"
          ]
        }
      ]
    },
    {
      "cell_type": "markdown",
      "source": [
        "## Docstrings"
      ],
      "metadata": {
        "id": "5ojIGI_u7PZl"
      }
    },
    {
      "cell_type": "code",
      "source": [
        "def format_name(f_name, l_name):\n",
        "  \"\"\"Take a first and last name and format it\n",
        "  to return the title case version od the name.\"\"\" # Docstring\n",
        "  if f_name == \"\" or l_name == \"\":\n",
        "    return \"You didn't provide valid inputs.\"\n",
        "  formated_f_name = f_name.title()\n",
        "  formated_l_name = l_name.title()\n",
        "  return f\"Result: {formated_f_name} {formated_l_name}\"\n",
        "\n",
        "print(format_name(input(\"What is your first name? \"), input(\"What is your last name? \")))"
      ],
      "metadata": {
        "id": "6CFOyNJi7QsY",
        "colab": {
          "base_uri": "https://localhost:8080/"
        },
        "outputId": "391f074f-ba12-443a-aa3b-bbf03671e44c"
      },
      "execution_count": null,
      "outputs": [
        {
          "output_type": "stream",
          "name": "stdout",
          "text": [
            "What is your first name? Jonathan\n",
            "What is your last name? Macedo\n",
            "Result: Jonathan Macedo\n"
          ]
        }
      ]
    },
    {
      "cell_type": "markdown",
      "source": [
        "# Calculator Part 1: Combining Dictionaries and Functions"
      ],
      "metadata": {
        "id": "NUy9nB1j_FqF"
      }
    },
    {
      "cell_type": "code",
      "source": [
        "# Add\n",
        "def add(n1, n2):\n",
        "  return n1 + n2\n",
        "\n",
        "# Substract\n",
        "def substract(n1, n2):\n",
        "  return n1 - n2\n",
        "\n",
        "# Multiply\n",
        "def multiply(n1, n2):\n",
        "  return n1 * n2\n",
        "\n",
        "# Divide\n",
        "def divide(n1, n2):\n",
        "  return n1 / n2\n",
        "\n",
        "operations = {\n",
        "    \"+\": add, \n",
        "    \"-\": substract, \n",
        "    \"*\": multiply, \n",
        "    \"/\": divide\n",
        "}\n",
        "\n",
        "num1 = int(input(\"What's the first number? \"))\n",
        "for symbol in operations:\n",
        "  print(symbol)\n",
        "operation_symbol = input(\"Pick an operation from the line above: \")\n",
        "num2 = int(input(\"What's the second number? \"))\n",
        "calculation_function = operations[operation_symbol]\n",
        "answer = operations[operation_symbol](num1, num2)\n",
        "\n",
        "print(f\"{num1} {operation_symbol} {num2} = {answer}\")\n"
      ],
      "metadata": {
        "colab": {
          "base_uri": "https://localhost:8080/"
        },
        "id": "B2_tzXwT9ArI",
        "outputId": "06c1594e-ff94-4c72-c412-a2cd0cdd6b06"
      },
      "execution_count": null,
      "outputs": [
        {
          "output_type": "stream",
          "name": "stdout",
          "text": [
            "What's the first number? 50\n",
            "+\n",
            "-\n",
            "*\n",
            "/\n",
            "Pick an operation from the line above: *\n",
            "What's the second number? 10\n",
            "50 * 10 = 500\n"
          ]
        }
      ]
    },
    {
      "cell_type": "markdown",
      "source": [
        "## Print vs Return"
      ],
      "metadata": {
        "id": "x25OFpXRIj5J"
      }
    },
    {
      "cell_type": "code",
      "source": [
        "# Add\n",
        "def add(n1, n2):\n",
        "  return n1 + n2\n",
        "\n",
        "# Substract\n",
        "def substract(n1, n2):\n",
        "  return n1 - n2\n",
        "\n",
        "# Multiply\n",
        "def multiply(n1, n2):\n",
        "  return n1 * n2\n",
        "\n",
        "# Divide\n",
        "def divide(n1, n2):\n",
        "  return n1 / n2\n",
        "\n",
        "operations = {\n",
        "    \"+\": add, \n",
        "    \"-\": substract, \n",
        "    \"*\": multiply, \n",
        "    \"/\": divide\n",
        "}\n",
        "\n",
        "num1 = int(input(\"What's the first number? \"))\n",
        "for symbol in operations:\n",
        "  print(symbol)\n",
        "operation_symbol = input(\"Pick an operation from the line above: \")\n",
        "num2 = int(input(\"What's the second number? \"))\n",
        "calculation_function = operations[operation_symbol]\n",
        "first_answer = operations[operation_symbol](num1, num2)\n",
        "\n",
        "print(f\"{num1} {operation_symbol} {num2} = {first_answer}\")\n",
        "\n",
        "operation_symbol = input(\"Pick another operation: \")\n",
        "num3 = int(input(\"What's the next number?: \"))\n",
        "calculation_function = operations[operation_symbol]\n",
        "second_answer = operations[operation_symbol](first_answer, num3)\n",
        "\n",
        "print(f\"{first_answer} {operation_symbol} {num3} = {second_answer}\")"
      ],
      "metadata": {
        "id": "DjJetfWUE5QV",
        "colab": {
          "base_uri": "https://localhost:8080/"
        },
        "outputId": "697e44bb-e814-4622-faba-c458761af4b9"
      },
      "execution_count": 4,
      "outputs": [
        {
          "output_type": "stream",
          "name": "stdout",
          "text": [
            "What's the first number? 3\n",
            "+\n",
            "-\n",
            "*\n",
            "/\n",
            "Pick an operation from the line above: +\n",
            "What's the second number? 2\n",
            "3 + 2 = 5\n",
            "Pick another operation: *\n",
            "What's the next number?: 3\n",
            "5 * 3 = 15\n"
          ]
        }
      ]
    },
    {
      "cell_type": "markdown",
      "source": [
        "## While Loops, Flags and Recursion"
      ],
      "metadata": {
        "id": "lFKZipYbgvZq"
      }
    },
    {
      "cell_type": "code",
      "source": [
        "# Add\n",
        "def add(n1, n2):\n",
        "  return n1 + n2\n",
        "\n",
        "# Substract\n",
        "def substract(n1, n2):\n",
        "  return n1 - n2\n",
        "\n",
        "# Multiply\n",
        "def multiply(n1, n2):\n",
        "  return n1 * n2\n",
        "\n",
        "# Divide\n",
        "def divide(n1, n2):\n",
        "  return n1 / n2\n",
        "\n",
        "operations = {\n",
        "    \"+\": add, \n",
        "    \"-\": substract, \n",
        "    \"*\": multiply, \n",
        "    \"/\": divide\n",
        "}\n",
        "\n",
        "should_continue = True\n",
        "num = int(input(\"What's the first number?: \"))\n",
        "for symbol in operations:\n",
        "  print(symbol)\n",
        "\n",
        "while should_continue:\n",
        "  operation_symbol = input(\"Pick an operation: \")\n",
        "  num2 = int(input(\"What's the next number?: \"))\n",
        "  calculation_function = operations[operation_symbol]\n",
        "  answer = calculation_function(num, num2)\n",
        "\n",
        "  print(f\"{num} {operation_symbol} {num2} = {answer}\")\n",
        "\n",
        "  continue_calculating = input(f\"Type 'y' to continue calculating with {answer}, or type 'n' to exit: \").lower()\n",
        "\n",
        "  if continue_calculating == 'n':\n",
        "    print(\"Good bye.\")\n",
        "    should_continue = False\n",
        "  else:\n",
        "    num = answer"
      ],
      "metadata": {
        "id": "Il2tUpUYg2Jk"
      },
      "execution_count": 1,
      "outputs": []
    },
    {
      "cell_type": "markdown",
      "source": [
        "## Calculator Finishing Touches and Bug Fixies"
      ],
      "metadata": {
        "id": "U9hYKiHTD8R8"
      }
    },
    {
      "cell_type": "code",
      "source": [
        "# Add\n",
        "def add(n1, n2):\n",
        "  return n1 + n2\n",
        "\n",
        "# Substract\n",
        "def substract(n1, n2):\n",
        "  return n1 - n2\n",
        "\n",
        "# Multiply\n",
        "def multiply(n1, n2):\n",
        "  return n1 * n2\n",
        "\n",
        "# Divide\n",
        "def divide(n1, n2):\n",
        "  return n1 / n2\n",
        "\n",
        "operations = {\n",
        "    \"+\": add, \n",
        "    \"-\": substract, \n",
        "    \"*\": multiply, \n",
        "    \"/\": divide\n",
        "}\n",
        "\n",
        "from art_calculator import logo\n",
        "from IPython.display import clear_output\n",
        "\n",
        "def calculator():\n",
        "  print(logo)\n",
        "\n",
        "  should_continue = True\n",
        "  num = float(input(\"What's the first number?: \"))\n",
        "  for symbol in operations:\n",
        "    print(symbol)\n",
        "\n",
        "  while should_continue:\n",
        "    operation_symbol = input(\"Pick an operation: \")\n",
        "    num2 = float(input(\"What's the next number?: \"))\n",
        "    calculation_function = operations[operation_symbol]\n",
        "    answer = calculation_function(num, num2)\n",
        "\n",
        "    print(f\"{num} {operation_symbol} {num2} = {answer}\")\n",
        "\n",
        "    continue_calculating = input(f\"Type 'y' to continue calculating with {answer}, or type 'n' to exit: \").lower()\n",
        "\n",
        "    if continue_calculating == 'n':\n",
        "      print(\"Good bye.\")\n",
        "      should_continue = False\n",
        "      clear_output()\n",
        "    else:\n",
        "      num = answer\n",
        "\n",
        "calculator()"
      ],
      "metadata": {
        "id": "0YhrgeHNEE9M"
      },
      "execution_count": 11,
      "outputs": []
    },
    {
      "cell_type": "code",
      "source": [
        ""
      ],
      "metadata": {
        "id": "NkoxgTo9Exxt"
      },
      "execution_count": null,
      "outputs": []
    }
  ]
}