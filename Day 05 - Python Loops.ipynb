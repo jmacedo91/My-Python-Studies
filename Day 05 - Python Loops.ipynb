{
  "nbformat": 4,
  "nbformat_minor": 0,
  "metadata": {
    "colab": {
      "name": "Day 05 - For loops - Password Generator.ipynb",
      "provenance": [],
      "toc_visible": true,
      "authorship_tag": "ABX9TyNsST5qEWDRT1X8NLKNdjbi",
      "include_colab_link": true
    },
    "kernelspec": {
      "name": "python3",
      "display_name": "Python 3"
    },
    "language_info": {
      "name": "python"
    }
  },
  "cells": [
    {
      "cell_type": "markdown",
      "metadata": {
        "id": "view-in-github",
        "colab_type": "text"
      },
      "source": [
        "<a href=\"https://colab.research.google.com/github/jmacedo91/Python-100-Days-of-Code/blob/main/Day_05_For_loops_Password_Generator.ipynb\" target=\"_parent\"><img src=\"https://colab.research.google.com/assets/colab-badge.svg\" alt=\"Open In Colab\"/></a>"
      ]
    },
    {
      "cell_type": "markdown",
      "source": [
        "***\n",
        "# <font color=u size=8>Day 05 - Beginner - Python Loops</font>\n",
        "***"
      ],
      "metadata": {
        "id": "gJXbb_14sJAc"
      }
    },
    {
      "cell_type": "markdown",
      "source": [
        "## Using the for Loop with Python Lists"
      ],
      "metadata": {
        "id": "CDKAe-54sVjv"
      }
    },
    {
      "cell_type": "code",
      "source": [
        "fruits = [\"Apple\", \"Peach\", \"Pear\"]"
      ],
      "metadata": {
        "id": "NydZTiIAtdJ7"
      },
      "execution_count": null,
      "outputs": []
    },
    {
      "cell_type": "code",
      "source": [
        "for fruit in fruits:\n",
        "  print(fruit)"
      ],
      "metadata": {
        "colab": {
          "base_uri": "https://localhost:8080/"
        },
        "id": "rWsXx0_PtiRa",
        "outputId": "29f1589a-8a34-4fa8-a643-31e5ec47a2e8"
      },
      "execution_count": null,
      "outputs": [
        {
          "output_type": "stream",
          "name": "stdout",
          "text": [
            "Apple\n",
            "Peach\n",
            "Pear\n"
          ]
        }
      ]
    },
    {
      "cell_type": "code",
      "source": [
        "for fruit in fruits:\n",
        "  print(fruit)\n",
        "  print(fruit + \" Pie\")"
      ],
      "metadata": {
        "colab": {
          "base_uri": "https://localhost:8080/"
        },
        "id": "iBzwhjvquKtR",
        "outputId": "49cf6795-5193-41e0-bcd0-b59a3107d305"
      },
      "execution_count": null,
      "outputs": [
        {
          "output_type": "stream",
          "name": "stdout",
          "text": [
            "Apple\n",
            "Apple Pie\n",
            "Peach\n",
            "Peach Pie\n",
            "Pear\n",
            "Pear Pie\n"
          ]
        }
      ]
    },
    {
      "cell_type": "markdown",
      "source": [
        "###Exercise 1"
      ],
      "metadata": {
        "id": "sJHb5HeyS_h7"
      }
    },
    {
      "cell_type": "markdown",
      "source": [
        "You are going to write a program that calculates the average student height from a List of heights.\n",
        "\n",
        "e.g. student_heights = [180, 124, 165, 173, 189, 169, 146]\n",
        "\n",
        "The average height can be calculated by adding all the heights together and dividing by the total number of heights.\n",
        "\n",
        "e.g.\n",
        "\n",
        "180 + 124 + 165 + 173 + 189 + 169 + 146 = 1146\n",
        "\n",
        "There are a total of 7 heights in student_heights\n",
        "\n",
        "1146 ÷ 7 = 163.71428571428572\n",
        "\n",
        "Average height rounded to the nearest whole number = 164\n",
        "\n",
        "Important You should not use the sum() or len() functions in your answer. You should try to replicate their functionality using what you have learnt about for loops."
      ],
      "metadata": {
        "id": "eys5TG549OH_"
      }
    },
    {
      "cell_type": "code",
      "execution_count": null,
      "metadata": {
        "id": "-iEXuInyQsah",
        "colab": {
          "base_uri": "https://localhost:8080/"
        },
        "outputId": "3d1a24e7-f76f-404e-ce30-3be999f241b3"
      },
      "outputs": [
        {
          "output_type": "stream",
          "name": "stdout",
          "text": [
            "Input a list of student heights 156 178 165 171 187\n",
            "171\n"
          ]
        }
      ],
      "source": [
        "# 🚨 Don't change the code below 👇\n",
        "student_heights = input(\"Input a list of student heights \").split()\n",
        "for n in range(0, len(student_heights)):\n",
        "  student_heights[n] = int(student_heights[n])\n",
        "# 🚨 Don't change the code above 👆\n",
        "\n",
        "\n",
        "#Write your code below this row 👇\n",
        "sum_height = 0\n",
        "total_students = 0\n",
        "\n",
        "for height in student_heights:\n",
        "  sum_height += height\n",
        "\n",
        "for students in student_heights:\n",
        "  total_students += 1\n",
        "\n",
        "average = round(sum_height / total_students)\n",
        "\n",
        "print(average)\n",
        "\n",
        "# Exemple Input 156 178 165 171 187"
      ]
    },
    {
      "cell_type": "markdown",
      "source": [
        "### Exercise 2"
      ],
      "metadata": {
        "id": "nGLmI3719DnT"
      }
    },
    {
      "cell_type": "markdown",
      "source": [
        "You are going to write a program that calculates the highest score from a List of scores.\n",
        "\n",
        "e.g. student_scores = [78, 65, 89, 86, 55, 91, 64, 89]\n",
        "\n",
        "Important you are not allowed to use the max or min functions. The output words must match the example. i.e\n",
        "\n",
        "The highest score in the class is: x"
      ],
      "metadata": {
        "id": "Qj7qr7uD9fY-"
      }
    },
    {
      "cell_type": "code",
      "source": [
        "# 🚨 Don't change the code below 👇\n",
        "student_scores = input(\"Input a list of student scores \").split()\n",
        "for n in range(0, len(student_scores)):\n",
        "  student_scores[n] = int(student_scores[n])\n",
        "print(student_scores)\n",
        "# 🚨 Don't change the code above 👆\n",
        "\n",
        "#Write your code below this row 👇\n",
        "max_score = 0\n",
        "\n",
        "for score in student_scores:\n",
        "  if score > max_score:\n",
        "    max_score = score\n",
        "\n",
        "print(f'The highest score in the class is: {max_score}') # Exemple input 78 65 89 86 55 91 64 89"
      ],
      "metadata": {
        "colab": {
          "base_uri": "https://localhost:8080/"
        },
        "id": "U0mEM6XfTBVT",
        "outputId": "818ceadc-919a-4315-a444-ef8631706515"
      },
      "execution_count": null,
      "outputs": [
        {
          "output_type": "stream",
          "name": "stdout",
          "text": [
            "Input a list of student scores 78 65 89 86 55 91 64 89\n",
            "[78, 65, 89, 86, 55, 91, 64, 89]\n",
            "The highest score in the class is: 91\n"
          ]
        }
      ]
    },
    {
      "cell_type": "markdown",
      "source": [
        "##For Loops and the range() function"
      ],
      "metadata": {
        "id": "wz8LRm8j5_Xi"
      }
    },
    {
      "cell_type": "code",
      "source": [
        "soma = 0\n",
        "for i in range(1, 101):\n",
        "  soma += i\n",
        "\n",
        "soma"
      ],
      "metadata": {
        "colab": {
          "base_uri": "https://localhost:8080/"
        },
        "id": "31laxLQp6l9w",
        "outputId": "cd7865be-7b8f-4c47-fa65-16e57db7364a"
      },
      "execution_count": null,
      "outputs": [
        {
          "output_type": "execute_result",
          "data": {
            "text/plain": [
              "5050"
            ]
          },
          "metadata": {},
          "execution_count": 18
        }
      ]
    },
    {
      "cell_type": "code",
      "source": [
        "for i in range(1, 11, 2):\n",
        "  print(i)"
      ],
      "metadata": {
        "colab": {
          "base_uri": "https://localhost:8080/"
        },
        "id": "UiVDwD2l-t8h",
        "outputId": "4c2c9ef2-7383-4a32-bc35-677cb384c872"
      },
      "execution_count": null,
      "outputs": [
        {
          "output_type": "stream",
          "name": "stdout",
          "text": [
            "1\n",
            "3\n",
            "5\n",
            "7\n",
            "9\n"
          ]
        }
      ]
    },
    {
      "cell_type": "markdown",
      "source": [
        "### Exercise 3"
      ],
      "metadata": {
        "id": "x_C1qMi-B8mY"
      }
    },
    {
      "cell_type": "markdown",
      "source": [
        "You are going to write a program that calculates the sum of all the even numbers from 1 to 100. Thus, the first even number would be 2 and the last one is 100:\n",
        "\n",
        "i.e. 2 + 4 + 6 + 8 +10 ... + 98 + 100\n",
        "\n",
        "Important, there should only be 1 print statement in your console output. It should just print the final total and not every step of the calculation."
      ],
      "metadata": {
        "id": "W5LSM6YTCBRh"
      }
    },
    {
      "cell_type": "code",
      "source": [
        "#Write your code below this row 👇\n",
        "total_even = 0\n",
        "for number in range(1, 101):\n",
        "  if (number % 2) == 0:\n",
        "    total_even += number\n",
        "\n",
        "print(total_even)"
      ],
      "metadata": {
        "colab": {
          "base_uri": "https://localhost:8080/"
        },
        "id": "0Eg0LuyNB-Dw",
        "outputId": "4dac216b-1a5a-42d6-b935-b4dc3a99a9e5"
      },
      "execution_count": null,
      "outputs": [
        {
          "output_type": "stream",
          "name": "stdout",
          "text": [
            "2550\n"
          ]
        }
      ]
    },
    {
      "cell_type": "code",
      "source": [
        "#Write your code below this row 👇\n",
        "total_even = 0\n",
        "for number in range(2, 101, 2):\n",
        "  total_even += number\n",
        "\n",
        "print(total_even)"
      ],
      "metadata": {
        "colab": {
          "base_uri": "https://localhost:8080/"
        },
        "id": "qNsK73ErCFO1",
        "outputId": "55f4ead7-4f3b-4624-f856-fe01a4fbb808"
      },
      "execution_count": null,
      "outputs": [
        {
          "output_type": "stream",
          "name": "stdout",
          "text": [
            "2550\n"
          ]
        }
      ]
    },
    {
      "cell_type": "markdown",
      "source": [
        "### Exercise 4"
      ],
      "metadata": {
        "id": "NllC6d9ZyZHk"
      }
    },
    {
      "cell_type": "markdown",
      "source": [
        "You are going to write a program that automatically prints the solution to the FizzBuzz game.\n",
        "\n",
        "Your program should print each number from 1 to 100 in turn.\n",
        "\n",
        "When the number is divisible by 3 then instead of printing the number it should print \"Fizz\".\n",
        "\n",
        "`When the number is divisible by 5, then instead of printing the number it should print \"Buzz\".` \n",
        "\n",
        "`And if the number is divisible by both 3 and 5 e.g. 15 then instead of the number it should print \"FizzBuzz\"`\n",
        "\n",
        "e.g. it might start off like this:\n",
        "\n",
        "`1\n",
        "2\n",
        "Fizz\n",
        "4\n",
        "Buzz\n",
        "Fizz\n",
        "7\n",
        "8\n",
        "Fizz\n",
        "Buzz\n",
        "11\n",
        "Fizz\n",
        "13\n",
        "14\n",
        "FizzBuzz`\n",
        "`1\n",
        "2\n",
        "Fizz\n",
        "4\n",
        "Buzz\n",
        "Fizz\n",
        "7\n",
        "8\n",
        "Fizz\n",
        "Buzz\n",
        "11\n",
        "Fizz\n",
        "13\n",
        "14\n",
        "FizzBuzz`\n",
        ".... etc."
      ],
      "metadata": {
        "id": "tL0_NPo0ycGH"
      }
    },
    {
      "cell_type": "code",
      "source": [
        "#Write your code below this row 👇\n",
        "for number in range(1, 101):\n",
        "  if number % 3 == 0 and number % 5 == 0:\n",
        "    print('FizzBuzz')\n",
        "  elif number % 3 == 0:\n",
        "    print('Fizz')\n",
        "  elif number % 5 == 0:\n",
        "    print('Buzz')\n",
        "  else:\n",
        "    print(number)"
      ],
      "metadata": {
        "colab": {
          "base_uri": "https://localhost:8080/"
        },
        "id": "pczDE8zByamA",
        "outputId": "e12c7af7-95cb-4254-ab2c-8fe2bf03d6c6"
      },
      "execution_count": null,
      "outputs": [
        {
          "output_type": "stream",
          "name": "stdout",
          "text": [
            "1\n",
            "2\n",
            "Fizz\n",
            "4\n",
            "Buzz\n",
            "Fizz\n",
            "7\n",
            "8\n",
            "Fizz\n",
            "Buzz\n",
            "11\n",
            "Fizz\n",
            "13\n",
            "14\n",
            "FizzBuzz\n",
            "16\n",
            "17\n",
            "Fizz\n",
            "19\n",
            "Buzz\n",
            "Fizz\n",
            "22\n",
            "23\n",
            "Fizz\n",
            "Buzz\n",
            "26\n",
            "Fizz\n",
            "28\n",
            "29\n",
            "FizzBuzz\n",
            "31\n",
            "32\n",
            "Fizz\n",
            "34\n",
            "Buzz\n",
            "Fizz\n",
            "37\n",
            "38\n",
            "Fizz\n",
            "Buzz\n",
            "41\n",
            "Fizz\n",
            "43\n",
            "44\n",
            "FizzBuzz\n",
            "46\n",
            "47\n",
            "Fizz\n",
            "49\n",
            "Buzz\n",
            "Fizz\n",
            "52\n",
            "53\n",
            "Fizz\n",
            "Buzz\n",
            "56\n",
            "Fizz\n",
            "58\n",
            "59\n",
            "FizzBuzz\n",
            "61\n",
            "62\n",
            "Fizz\n",
            "64\n",
            "Buzz\n",
            "Fizz\n",
            "67\n",
            "68\n",
            "Fizz\n",
            "Buzz\n",
            "71\n",
            "Fizz\n",
            "73\n",
            "74\n",
            "FizzBuzz\n",
            "76\n",
            "77\n",
            "Fizz\n",
            "79\n",
            "Buzz\n",
            "Fizz\n",
            "82\n",
            "83\n",
            "Fizz\n",
            "Buzz\n",
            "86\n",
            "Fizz\n",
            "88\n",
            "89\n",
            "FizzBuzz\n",
            "91\n",
            "92\n",
            "Fizz\n",
            "94\n",
            "Buzz\n",
            "Fizz\n",
            "97\n",
            "98\n",
            "Fizz\n",
            "Buzz\n"
          ]
        }
      ]
    },
    {
      "cell_type": "markdown",
      "source": [
        "#Day 05 Project: Creating a Password Generator"
      ],
      "metadata": {
        "id": "1jasWYkp0PIK"
      }
    },
    {
      "cell_type": "code",
      "source": [
        "#Password Generator Project\n",
        "import random\n",
        "letters = ['a', 'b', 'c', 'd', 'e', 'f', 'g', 'h', 'i', 'j', 'k', 'l', 'm', 'n', 'o', 'p', 'q', 'r', 's', 't', 'u', 'v', 'w', 'x', 'y', 'z', 'A', 'B', 'C', 'D', 'E', 'F', 'G', 'H', 'I', 'J', 'K', 'L', 'M', 'N', 'O', 'P', 'Q', 'R', 'S', 'T', 'U', 'V', 'W', 'X', 'Y', 'Z']\n",
        "numbers = ['0', '1', '2', '3', '4', '5', '6', '7', '8', '9']\n",
        "symbols = ['!', '#', '$', '%', '&', '(', ')', '*', '+']\n",
        "\n",
        "print(\"Welcome to the PyPassword Generator!\")\n",
        "nr_letters= int(input(\"How many letters would you like in your password?\\n\")) \n",
        "nr_symbols = int(input(f\"How many symbols would you like?\\n\"))\n",
        "nr_numbers = int(input(f\"How many numbers would you like?\\n\"))\n",
        "\n",
        "#Eazy Level - Order not randomised:\n",
        "#e.g. 4 letter, 2 symbol, 2 number = JduE&!91\n",
        "password = []\n",
        "\n",
        "for letter in range(1, nr_letters + 1):\n",
        "  password.append(letters[random.randint(0, len(letters) - 1)])\n",
        "\n",
        "for symbol in range(1, nr_symbols + 1):\n",
        "  password.append(numbers[random.randint(0, len(numbers) - 1)])\n",
        "\n",
        "for number in range(1, nr_numbers + 1):\n",
        "  password.append(symbols[random.randint(0, len(symbols) - 1)])\n",
        "\n",
        "final_password = ''.join(password)\n",
        "\n",
        "print(f'Your password is {final_password}')\n",
        "\n",
        "#Hard Level - Order of characters randomised:\n",
        "#e.g. 4 letter, 2 symbol, 2 number = g^2jk8&P"
      ],
      "metadata": {
        "colab": {
          "base_uri": "https://localhost:8080/"
        },
        "id": "sonbsoPY0S-q",
        "outputId": "4cbb086c-4d28-4a8e-8ed2-cedb4912e42e"
      },
      "execution_count": null,
      "outputs": [
        {
          "output_type": "stream",
          "name": "stdout",
          "text": [
            "Welcome to the PyPassword Generator!\n",
            "How many letters would you like in your password?\n",
            "3\n",
            "How many symbols would you like?\n",
            "3\n",
            "How many numbers would you like?\n",
            "3\n",
            "Your password is EtO049$(#\n"
          ]
        }
      ]
    },
    {
      "cell_type": "code",
      "source": [
        "#Password Generator Project\n",
        "import random\n",
        "letters = ['a', 'b', 'c', 'd', 'e', 'f', 'g', 'h', 'i', 'j', 'k', 'l', 'm', 'n', 'o', 'p', 'q', 'r', 's', 't', 'u', 'v', 'w', 'x', 'y', 'z', 'A', 'B', 'C', 'D', 'E', 'F', 'G', 'H', 'I', 'J', 'K', 'L', 'M', 'N', 'O', 'P', 'Q', 'R', 'S', 'T', 'U', 'V', 'W', 'X', 'Y', 'Z']\n",
        "numbers = ['0', '1', '2', '3', '4', '5', '6', '7', '8', '9']\n",
        "symbols = ['!', '#', '$', '%', '&', '(', ')', '*', '+']\n",
        "\n",
        "print(\"Welcome to the PyPassword Generator!\")\n",
        "nr_letters= int(input(\"How many letters would you like in your password?\\n\")) \n",
        "nr_symbols = int(input(f\"How many symbols would you like?\\n\"))\n",
        "nr_numbers = int(input(f\"How many numbers would you like?\\n\"))\n",
        "\n",
        "#Eazy Level - Order not randomised:\n",
        "#e.g. 4 letter, 2 symbol, 2 number = JduE&!91\n",
        "password = []\n",
        "\n",
        "for letter in range(1, nr_letters + 1):\n",
        "  password.append(letters[random.randint(0, len(letters) - 1)]) # random.choice()\n",
        "\n",
        "for symbol in range(1, nr_symbols + 1):\n",
        "  password.append(numbers[random.randint(0, len(numbers) - 1)]) # random.choice()\n",
        "\n",
        "for number in range(1, nr_numbers + 1):\n",
        "  password.append(symbols[random.randint(0, len(symbols) - 1)]) # random.choice()\n",
        "\n",
        "random.shuffle(password)\n",
        "\n",
        "final_password = ''.join(password)\n",
        "\n",
        "print(f'Your password is {final_password}')\n",
        "\n",
        "#Hard Level - Order of characters randomised:\n",
        "#e.g. 4 letter, 2 symbol, 2 number = g^2jk8&P"
      ],
      "metadata": {
        "colab": {
          "base_uri": "https://localhost:8080/"
        },
        "id": "YX055PkReQlO",
        "outputId": "eed799d6-9b84-4155-ae56-8f2e68aaf9f6"
      },
      "execution_count": null,
      "outputs": [
        {
          "output_type": "stream",
          "name": "stdout",
          "text": [
            "Welcome to the PyPassword Generator!\n",
            "How many letters would you like in your password?\n",
            "4\n",
            "How many symbols would you like?\n",
            "2\n",
            "How many numbers would you like?\n",
            "2\n",
            "Your password is (zJDM02!\n"
          ]
        }
      ]
    }
  ]
}