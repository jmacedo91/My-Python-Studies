{
  "nbformat": 4,
  "nbformat_minor": 0,
  "metadata": {
    "colab": {
      "name": "Day 09 - Dictionaries, Nesting and Secret Auction.ipynb",
      "provenance": [],
      "authorship_tag": "ABX9TyNgF2d9aFhA0CMTtIHM4B58",
      "include_colab_link": true
    },
    "kernelspec": {
      "name": "python3",
      "display_name": "Python 3"
    },
    "language_info": {
      "name": "python"
    }
  },
  "cells": [
    {
      "cell_type": "markdown",
      "metadata": {
        "id": "view-in-github",
        "colab_type": "text"
      },
      "source": [
        "<a href=\"https://colab.research.google.com/github/jmacedo91/Python-100-Days-of-Code/blob/main/Day_09_Dictionaries%2C_Nesting_and_Secret_Auction.ipynb\" target=\"_parent\"><img src=\"https://colab.research.google.com/assets/colab-badge.svg\" alt=\"Open In Colab\"/></a>"
      ]
    },
    {
      "cell_type": "markdown",
      "source": [
        "***\n",
        "# <font color=u size=8>Day 09 - Dictionaries, Nesting and Secret Auction</font>\n",
        "***"
      ],
      "metadata": {
        "id": "ciDqVqI67wKC"
      }
    },
    {
      "cell_type": "markdown",
      "source": [
        "## The Python Dictionary: Deep Dive"
      ],
      "metadata": {
        "id": "jspA52aLKvAH"
      }
    },
    {
      "cell_type": "code",
      "execution_count": null,
      "metadata": {
        "id": "pMPJtFSm7Uvr"
      },
      "outputs": [],
      "source": [
        "# {Key: Value}\n",
        "programming_dictionary = {\n",
        "    \"Bug\": \"An error in a program that prevents the program from running as expected.\", \n",
        "    \"Function\": \"A piece of code that you can easily call over and over again.\",\n",
        "    \"Loop\": \"The action of doing something over and over again\"\n",
        "}"
      ]
    },
    {
      "cell_type": "markdown",
      "source": [
        "### Retrieving items from dictionary"
      ],
      "metadata": {
        "id": "XLx0RTFEONnO"
      }
    },
    {
      "cell_type": "code",
      "source": [
        "programming_dictionary[\"Bug\"]"
      ],
      "metadata": {
        "colab": {
          "base_uri": "https://localhost:8080/",
          "height": 35
        },
        "id": "-KpplhS5NLSf",
        "outputId": "86ac2569-f7a7-45aa-988f-54e42a1fe480"
      },
      "execution_count": null,
      "outputs": [
        {
          "output_type": "execute_result",
          "data": {
            "text/plain": [
              "'An error in a program that prevents the program from running as expected.'"
            ],
            "application/vnd.google.colaboratory.intrinsic+json": {
              "type": "string"
            }
          },
          "metadata": {},
          "execution_count": 8
        }
      ]
    },
    {
      "cell_type": "code",
      "source": [
        "programming_dictionary = {\n",
        "    \"Bug\": \"An error in a program that prevents the program from running as expected.\", \n",
        "    \"Function\": \"A piece of code that you can easily call over and over again.\",\n",
        "    \"Loop\": \"The action of doing something over and over again\",\n",
        "    123: \"They're integers\"\n",
        "}"
      ],
      "metadata": {
        "id": "3JLnLLNkNPaK"
      },
      "execution_count": null,
      "outputs": []
    },
    {
      "cell_type": "code",
      "source": [
        "programming_dictionary[123]"
      ],
      "metadata": {
        "colab": {
          "base_uri": "https://localhost:8080/",
          "height": 35
        },
        "id": "uERJWQ0qOCBy",
        "outputId": "efe42e87-2ff0-4028-b519-4764a1a858ff"
      },
      "execution_count": null,
      "outputs": [
        {
          "output_type": "execute_result",
          "data": {
            "text/plain": [
              "\"They're integers\""
            ],
            "application/vnd.google.colaboratory.intrinsic+json": {
              "type": "string"
            }
          },
          "metadata": {},
          "execution_count": 7
        }
      ]
    },
    {
      "cell_type": "markdown",
      "source": [
        "### Add new items to dictionary"
      ],
      "metadata": {
        "id": "qoC_ajS7OXuH"
      }
    },
    {
      "cell_type": "code",
      "source": [
        "programming_dictionary = {\n",
        "    \"Bug\": \"An error in a program that prevents the program from running as expected.\", \n",
        "    \"Function\": \"A piece of code that you can easily call over and over again.\"\n",
        "}"
      ],
      "metadata": {
        "id": "emqFFW2HOEuz"
      },
      "execution_count": null,
      "outputs": []
    },
    {
      "cell_type": "code",
      "source": [
        "programming_dictionary"
      ],
      "metadata": {
        "colab": {
          "base_uri": "https://localhost:8080/"
        },
        "id": "DOpwpgdGTqB-",
        "outputId": "f3c13fcb-d196-4193-d6b5-74b82bebd6b6"
      },
      "execution_count": null,
      "outputs": [
        {
          "output_type": "execute_result",
          "data": {
            "text/plain": [
              "{'Bug': 'An error in a program that prevents the program from running as expected.',\n",
              " 'Function': 'A piece of code that you can easily call over and over again.'}"
            ]
          },
          "metadata": {},
          "execution_count": 13
        }
      ]
    },
    {
      "cell_type": "code",
      "source": [
        "programming_dictionary[\"Loop\"] = \"The action of doing something over and over again\""
      ],
      "metadata": {
        "id": "aazG5_zmTe97"
      },
      "execution_count": null,
      "outputs": []
    },
    {
      "cell_type": "code",
      "source": [
        "programming_dictionary"
      ],
      "metadata": {
        "colab": {
          "base_uri": "https://localhost:8080/"
        },
        "id": "FhV5FYlbTnR6",
        "outputId": "c34501bc-1c16-42af-9da8-68335b0c8d75"
      },
      "execution_count": null,
      "outputs": [
        {
          "output_type": "execute_result",
          "data": {
            "text/plain": [
              "{'Bug': 'An error in a program that prevents the program from running as expected.',\n",
              " 'Function': 'A piece of code that you can easily call over and over again.',\n",
              " 'Loop': 'The action of doing something over and over again'}"
            ]
          },
          "metadata": {},
          "execution_count": 15
        }
      ]
    },
    {
      "cell_type": "markdown",
      "source": [
        "###Create an empty dicitonary"
      ],
      "metadata": {
        "id": "rktkeqKWT7zG"
      }
    },
    {
      "cell_type": "code",
      "source": [
        "empty_dictionary = {}"
      ],
      "metadata": {
        "id": "1iPdHh9bTn0h"
      },
      "execution_count": null,
      "outputs": []
    },
    {
      "cell_type": "markdown",
      "source": [
        "### Wipe an existing dicionary"
      ],
      "metadata": {
        "id": "Fk-ACmN3VrFB"
      }
    },
    {
      "cell_type": "code",
      "source": [
        "programming_dictionary = {}\n",
        "print(programming_dictionary)"
      ],
      "metadata": {
        "colab": {
          "base_uri": "https://localhost:8080/"
        },
        "id": "XZ8JvhuIVqDU",
        "outputId": "970a9f7f-980e-4364-f3cf-bd80d0f02142"
      },
      "execution_count": null,
      "outputs": [
        {
          "output_type": "stream",
          "name": "stdout",
          "text": [
            "{}\n"
          ]
        }
      ]
    },
    {
      "cell_type": "markdown",
      "source": [
        "### Edit an item in a dictionary"
      ],
      "metadata": {
        "id": "dNRvjCKPWDiI"
      }
    },
    {
      "cell_type": "code",
      "source": [
        "programming_dictionary[\"Bug\"] = \"A moth in your computer.\""
      ],
      "metadata": {
        "id": "C6nwn69OV3Mw"
      },
      "execution_count": null,
      "outputs": []
    },
    {
      "cell_type": "code",
      "source": [
        "print(programming_dictionary)"
      ],
      "metadata": {
        "colab": {
          "base_uri": "https://localhost:8080/"
        },
        "id": "cSWE8zEvWjoq",
        "outputId": "59b63373-b971-47fa-f8be-a6be538e918f"
      },
      "execution_count": null,
      "outputs": [
        {
          "output_type": "stream",
          "name": "stdout",
          "text": [
            "{'Bug': 'A moth in your computer.'}\n"
          ]
        }
      ]
    },
    {
      "cell_type": "markdown",
      "source": [
        "### Loop through a dictionary"
      ],
      "metadata": {
        "id": "OcelwuQPWrMN"
      }
    },
    {
      "cell_type": "code",
      "source": [
        "programming_dictionary = {\n",
        "    \"Bug\": \"An error in a program that prevents the program from running as expected.\", \n",
        "    \"Function\": \"A piece of code that you can easily call over and over again.\",\n",
        "    \"Loop\": \"The action of doing something over and over again\"\n",
        "}\n",
        "\n",
        "for thing in programming_dictionary:\n",
        "  print(thing)"
      ],
      "metadata": {
        "colab": {
          "base_uri": "https://localhost:8080/"
        },
        "id": "z3UNZ5fnW1b2",
        "outputId": "876204b0-d1be-4be8-a68b-167eb3453a88"
      },
      "execution_count": null,
      "outputs": [
        {
          "output_type": "stream",
          "name": "stdout",
          "text": [
            "Bug\n",
            "Function\n",
            "Loop\n"
          ]
        }
      ]
    },
    {
      "cell_type": "code",
      "source": [
        "for key in programming_dictionary:\n",
        "  print(key)\n",
        "  print(programming_dictionary[key])"
      ],
      "metadata": {
        "colab": {
          "base_uri": "https://localhost:8080/"
        },
        "id": "zvaEud6HXBCn",
        "outputId": "5862fa45-0bba-4bba-fa6a-94204bfa1c90"
      },
      "execution_count": null,
      "outputs": [
        {
          "output_type": "stream",
          "name": "stdout",
          "text": [
            "Bug\n",
            "An error in a program that prevents the program from running as expected.\n",
            "Function\n",
            "A piece of code that you can easily call over and over again.\n",
            "Loop\n",
            "The action of doing something over and over again\n"
          ]
        }
      ]
    },
    {
      "cell_type": "markdown",
      "source": [
        "### Exercise 01 - Grading Program"
      ],
      "metadata": {
        "id": "FRg-XS_CXp6V"
      }
    },
    {
      "cell_type": "markdown",
      "source": [
        "You have access to a database of student_scores in the format of a dictionary. The keys in student_scores are the names of the students and the values are their exam scores.\n",
        "\n",
        "Write a program that converts their scores to grades. By the end of your program, you should have a new dictionary called student_grades that should contain student names for keys and their grades for values. The final version of the student_grades dictionary will be checked.\n",
        "\n",
        "DO NOT modify lines 1-7 to change the existing student_scores dictionary.\n",
        "\n",
        "DO NOT write any print statements.\n",
        "\n",
        "This is the scoring criteria:\n",
        "\n",
        ">Scores 91 - 100: Grade = \"Outstanding\"\n",
        "\n",
        ">Scores 81 - 90: Grade = \"Exceeds Expectations\"\n",
        "\n",
        ">Scores 71 - 80: Grade = \"Acceptable\"\n",
        "\n",
        ">Scores 70 or lower: Grade = \"Fail\""
      ],
      "metadata": {
        "id": "XZbeo0GKkNNY"
      }
    },
    {
      "cell_type": "code",
      "source": [
        "# My Way\n",
        "student_scores = {\n",
        "  \"Harry\": 81,\n",
        "  \"Ron\": 78,\n",
        "  \"Hermione\": 99, \n",
        "  \"Draco\": 74,\n",
        "  \"Neville\": 62,\n",
        "}\n",
        "# 🚨 Don't change the code above 👆\n",
        "\n",
        "#TODO-1: Create an empty dictionary called student_grades.\n",
        "\n",
        "student_grades = {}\n",
        "\n",
        "#TODO-2: Write your code below to add the grades to student_grades.👇\n",
        "for student in student_scores:\n",
        "  if student_scores[student] >= 91:\n",
        "    student_grades[student] = \"Outstanding\"\n",
        "  elif student_scores[student] >= 81 and student_scores[student] <= 90:\n",
        "    student_grades[student] = \"Exceeds Expectations\"\n",
        "  elif student_scores[student] >= 71 and student_scores[student] <= 80:\n",
        "    student_grades[student] = \"Acceptable\"\n",
        "  else:\n",
        "    student_grades[student] = \"Fail\"\n",
        "\n",
        "# 🚨 Don't change the code below 👇\n",
        "print(student_grades)"
      ],
      "metadata": {
        "colab": {
          "base_uri": "https://localhost:8080/"
        },
        "id": "J5sL3M2aXx4R",
        "outputId": "110901ae-7fa8-4eb0-afc9-c7a3f87f85b4"
      },
      "execution_count": null,
      "outputs": [
        {
          "output_type": "stream",
          "name": "stdout",
          "text": [
            "{'Harry': 'Exceeds Expectations', 'Ron': 'Acceptable', 'Hermione': 'Outstanding', 'Draco': 'Acceptable', 'Neville': 'Fail'}\n"
          ]
        }
      ]
    },
    {
      "cell_type": "code",
      "source": [
        "# Teacher's Way\n",
        "student_scores = {\n",
        "  \"Harry\": 81,\n",
        "  \"Ron\": 78,\n",
        "  \"Hermione\": 99, \n",
        "  \"Draco\": 74,\n",
        "  \"Neville\": 62,\n",
        "}\n",
        "# 🚨 Don't change the code above 👆\n",
        "\n",
        "#TODO-1: Create an empty dictionary called student_grades.\n",
        "\n",
        "student_grades = {}\n",
        "\n",
        "#TODO-2: Write your code below to add the grades to student_grades.👇\n",
        "for student in student_scores:\n",
        "  score = student_scores[student]\n",
        "  if score > 90:\n",
        "    student_grades[student] = \"Outstanding\"\n",
        "  elif score > 80:\n",
        "    student_grades[student] = \"Exceeds Expectations\"\n",
        "  elif score > 70:\n",
        "    student_grades[student] = \"Acceptable\"\n",
        "  else:\n",
        "    student_grades[student] = \"Fail\"\n",
        "\n",
        "# 🚨 Don't change the code below 👇\n",
        "print(student_grades)"
      ],
      "metadata": {
        "colab": {
          "base_uri": "https://localhost:8080/"
        },
        "id": "tC86Ij-76rNT",
        "outputId": "07965c35-5482-45a8-b078-243ab3cda6b9"
      },
      "execution_count": null,
      "outputs": [
        {
          "output_type": "stream",
          "name": "stdout",
          "text": [
            "{'Harry': 'Exceeds Expectations', 'Ron': 'Acceptable', 'Hermione': 'Outstanding', 'Draco': 'Acceptable', 'Neville': 'Fail'}\n"
          ]
        }
      ]
    },
    {
      "cell_type": "markdown",
      "source": [
        "## Nesting Lists and Dictionaries"
      ],
      "metadata": {
        "id": "pcSCtQ8o7O5g"
      }
    },
    {
      "cell_type": "code",
      "source": [
        "capitals = {\n",
        "    \"France\": \"Paris\",\n",
        "    \"Germany\": \"Berlin\",\n",
        "}\n",
        "\n",
        "capitals"
      ],
      "metadata": {
        "id": "29zgjb8o3Rw7",
        "colab": {
          "base_uri": "https://localhost:8080/"
        },
        "outputId": "f31b02c1-fc4a-426d-cd22-60f8bc681e32"
      },
      "execution_count": null,
      "outputs": [
        {
          "output_type": "execute_result",
          "data": {
            "text/plain": [
              "{'France': 'Paris', 'Germany': 'Berlin'}"
            ]
          },
          "metadata": {},
          "execution_count": 3
        }
      ]
    },
    {
      "cell_type": "code",
      "source": [
        "travel_log = {\n",
        "    \"France\": [\"Paris\", \"Lille\", \"Dijon\"],\n",
        "    \"Germany\": [\"Berlin\", \"Hamburg\", \"Stuttgart\"]\n",
        "}\n",
        "\n",
        "travel_log"
      ],
      "metadata": {
        "colab": {
          "base_uri": "https://localhost:8080/"
        },
        "id": "IAT1mdvKphS6",
        "outputId": "ea2ac9cf-b7d8-4ad3-dd9b-1bceb9e73d38"
      },
      "execution_count": null,
      "outputs": [
        {
          "output_type": "execute_result",
          "data": {
            "text/plain": [
              "{'France': ['Paris', 'Lille', 'Dijon'],\n",
              " 'Germany': ['Berlin', 'Hamburg', 'Stuttgart']}"
            ]
          },
          "metadata": {},
          "execution_count": 3
        }
      ]
    },
    {
      "cell_type": "code",
      "source": [
        "travel_log = {\n",
        "    \"France\": {\"cities_visited\": [\"Paris\", \"Lille\", \"Dijon\"], \"total_visits\": 12},\n",
        "    \"Germany\": {\"cities_visited\": [\"Berlin\", \"Hamburg\", \"Stuttgart\"], \"total_visits\": 5}\n",
        "}\n",
        "\n",
        "travel_log"
      ],
      "metadata": {
        "id": "sSdlKgvbpiEH",
        "colab": {
          "base_uri": "https://localhost:8080/"
        },
        "outputId": "b3b31c1f-b055-489e-d8d7-d83c733450e0"
      },
      "execution_count": null,
      "outputs": [
        {
          "output_type": "execute_result",
          "data": {
            "text/plain": [
              "{'France': {'cities_visited': ['Paris', 'Lille', 'Dijon'], 'total_visits': 12},\n",
              " 'Germany': {'cities_visited': ['Berlin', 'Hamburg', 'Stuttgart'],\n",
              "  'total_visits': 5}}"
            ]
          },
          "metadata": {},
          "execution_count": 4
        }
      ]
    },
    {
      "cell_type": "markdown",
      "source": [
        "###Nesting Dictionary in a List"
      ],
      "metadata": {
        "id": "3bBf8vjAAfrn"
      }
    },
    {
      "cell_type": "code",
      "source": [
        "travel_log = [\n",
        "    {\n",
        "      \"country\": \"France\", \n",
        "      \"cities_visited\": [\"Paris\", \"Lille\", \"Dijon\"], \n",
        "      \"total_visits\": 12\n",
        "    },\n",
        "    {\n",
        "      \"country\": \"Germany\", \n",
        "      \"cities_visited\": [\"Berlin\", \"Hamburg\", \"Stuttgart\"], \n",
        "      \"total_visits\": 5\n",
        "    }\n",
        "]\n",
        "\n",
        "travel_log"
      ],
      "metadata": {
        "id": "EsF1ZhHtAUwW",
        "colab": {
          "base_uri": "https://localhost:8080/"
        },
        "outputId": "26294bdf-9212-4871-f296-4e997720450d"
      },
      "execution_count": null,
      "outputs": [
        {
          "output_type": "execute_result",
          "data": {
            "text/plain": [
              "[{'cities_visited': ['Paris', 'Lille', 'Dijon'],\n",
              "  'country': 'France',\n",
              "  'total_visits': 12},\n",
              " {'cities_visited': ['Berlin', 'Hamburg', 'Stuttgart'],\n",
              "  'country': 'Germany',\n",
              "  'total_visits': 5}]"
            ]
          },
          "metadata": {},
          "execution_count": 22
        }
      ]
    },
    {
      "cell_type": "code",
      "source": [
        "travel_log[0]"
      ],
      "metadata": {
        "colab": {
          "base_uri": "https://localhost:8080/"
        },
        "id": "MP2AUlB-u8Ti",
        "outputId": "5175b591-151f-4eb8-d3d2-98e896711751"
      },
      "execution_count": null,
      "outputs": [
        {
          "output_type": "execute_result",
          "data": {
            "text/plain": [
              "{'cities_visited': ['Paris', 'Lille', 'Dijon'],\n",
              " 'country': 'France',\n",
              " 'total_visits': 12}"
            ]
          },
          "metadata": {},
          "execution_count": 5
        }
      ]
    },
    {
      "cell_type": "markdown",
      "source": [
        "### Exercise 02 - Dictionary in List"
      ],
      "metadata": {
        "id": "e97QH0Jjve-i"
      }
    },
    {
      "cell_type": "markdown",
      "source": [
        "Instructions\n",
        "\n",
        "You are going to write a program that adds to a travel_log. You can see a travel_log which is a List that contains 2 Dictionaries.\n",
        "\n",
        "Write a function that will work with the following line of code on line 21 to add the entry for Russia to the travel_log.\n",
        "\n",
        "add_new_country(\"Russia\", 2, [\"Moscow\", \"Saint Petersburg\"])\n",
        ">You've visited Russia 2 times.\n",
        "\n",
        ">You've been to Moscow and Saint Petersburg.\n",
        "\n",
        "DO NOT modify the travel_log directly. You need to create a function that modifies it."
      ],
      "metadata": {
        "id": "veC50ykFv-xI"
      }
    },
    {
      "cell_type": "markdown",
      "source": [
        "Hints\n",
        "\n",
        "> Look at the function call above to see what the name of the function should be.\n",
        "\n",
        "> The inputs for the function are positional arguments. The order is very important.\n",
        "\n",
        "> Feel free to choose your own parameter names."
      ],
      "metadata": {
        "id": "1sbD7NhgwH7A"
      }
    },
    {
      "cell_type": "code",
      "source": [
        "travel_log = [\n",
        "{\n",
        "  \"country\": \"France\",\n",
        "  \"visits\": 12,\n",
        "  \"cities\": [\"Paris\", \"Lille\", \"Dijon\"]\n",
        "},\n",
        "{\n",
        "  \"country\": \"Germany\",\n",
        "  \"visits\": 5,\n",
        "  \"cities\": [\"Berlin\", \"Hamburg\", \"Stuttgart\"]\n",
        "},\n",
        "]\n",
        "#🚨 Do NOT change the code above\n",
        "\n",
        "#TODO: Write the function that will allow new countries\n",
        "#to be added to the travel_log. 👇\n",
        "def add_new_country(country_visited, times_visited, cities_visited):\n",
        "  new_register = {}\n",
        "  new_register[\"country\"] = country_visited\n",
        "  new_register[\"visits\"] = times_visited\n",
        "  new_register[\"cities\"] = cities_visited\n",
        "  travel_log.append(new_register)\n",
        "\n",
        "#🚨 Do not change the code below\n",
        "add_new_country(\"Russia\", 2, [\"Moscow\", \"Saint Petersburg\"])\n",
        "print(travel_log)"
      ],
      "metadata": {
        "colab": {
          "base_uri": "https://localhost:8080/"
        },
        "id": "R8l5qkXcu_-2",
        "outputId": "a186da15-eaf3-49f8-d40b-af763b9de9e6"
      },
      "execution_count": null,
      "outputs": [
        {
          "output_type": "stream",
          "name": "stdout",
          "text": [
            "[{'country': 'France', 'visits': 12, 'cities': ['Paris', 'Lille', 'Dijon']}, {'country': 'Germany', 'visits': 5, 'cities': ['Berlin', 'Hamburg', 'Stuttgart']}, {'country': 'Russia', 'visits': 2, 'cities': ['Moscow', 'Saint Petersburg']}]\n"
          ]
        }
      ]
    },
    {
      "cell_type": "code",
      "source": [
        "travel_log "
      ],
      "metadata": {
        "colab": {
          "base_uri": "https://localhost:8080/"
        },
        "id": "KwYPkJFayK98",
        "outputId": "53254624-4fe4-4ddb-f8e9-7adbab7d87f1"
      },
      "execution_count": null,
      "outputs": [
        {
          "output_type": "execute_result",
          "data": {
            "text/plain": [
              "[{'cities': ['Paris', 'Lille', 'Dijon'], 'country': 'France', 'visits': 12},\n",
              " {'cities': ['Berlin', 'Hamburg', 'Stuttgart'],\n",
              "  'country': 'Germany',\n",
              "  'visits': 5},\n",
              " {'cities': ['Moscow', 'Saint Petersburg'], 'country': 'Russia', 'visits': 2}]"
            ]
          },
          "metadata": {},
          "execution_count": 29
        }
      ]
    },
    {
      "cell_type": "markdown",
      "source": [
        "# Day 09 Final Project - Secret Auction 🔨"
      ],
      "metadata": {
        "id": "AdZKZF1JRhJB"
      }
    },
    {
      "cell_type": "markdown",
      "source": [
        "![flowchart-day9.png](data:image/png;base64,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)"
      ],
      "metadata": {
        "id": "TGyBbWL-R6JX"
      }
    },
    {
      "cell_type": "code",
      "source": [
        "!pip install replit"
      ],
      "metadata": {
        "colab": {
          "base_uri": "https://localhost:8080/"
        },
        "id": "5hYsnjYeSWcX",
        "outputId": "c4b1b4ff-b6e0-4b08-ff43-f70eb442990e"
      },
      "execution_count": null,
      "outputs": [
        {
          "output_type": "stream",
          "name": "stdout",
          "text": [
            "Looking in indexes: https://pypi.org/simple, https://us-python.pkg.dev/colab-wheels/public/simple/\n",
            "Collecting replit\n",
            "  Downloading replit-1.2.11-py3-none-any.whl (7.0 kB)\n",
            "Installing collected packages: replit\n",
            "Successfully installed replit-1.2.11\n"
          ]
        }
      ]
    },
    {
      "cell_type": "code",
      "source": [
        "from google.colab import files"
      ],
      "metadata": {
        "id": "1PdpKMOtTDt-"
      },
      "execution_count": null,
      "outputs": []
    },
    {
      "cell_type": "code",
      "source": [
        "files.upload()"
      ],
      "metadata": {
        "id": "l7FlHiEyTJhF"
      },
      "execution_count": null,
      "outputs": []
    },
    {
      "cell_type": "code",
      "source": [
        "from IPython.display import clear_output \n",
        "#HINT: You can call clear() to clear the output in the console.\n",
        "from art_auction import logo\n",
        "\n",
        "def secret_auction():\n",
        "  bids = {}\n",
        "  name = input(\"What is your name? \").lower()\n",
        "  bid = int(input(\"What is your bid? $\"))\n",
        "  bids[\"name\"] = name\n",
        "  bids[\"bid\"] = bid\n",
        "  all_bids.append(bids)\n",
        "\n",
        "\n",
        "print(logo)\n",
        "print(\"Welcome to the secret auction program.\")\n",
        "\n",
        "end_auction = False\n",
        "all_bids = []\n",
        "highest_bid = 0\n",
        "\n",
        "while not end_auction:\n",
        "  secret_auction()\n",
        "  other_bidders = input(\"Are there any bidders? Type 'yes' or 'no'.\\n\").lower()\n",
        "  if other_bidders == \"no\":\n",
        "    end_auction = True\n",
        "  clear_output()\n",
        "\n",
        "for dictionary in all_bids:\n",
        "  if dictionary[\"bid\"] > highest_bid:\n",
        "    highest_bid = dictionary[\"bid\"]\n",
        "\n",
        "for dictionary in all_bids:\n",
        "  if dictionary[\"bid\"] == highest_bid:\n",
        "    winner = dictionary[\"name\"]\n",
        "    print(f\"The winner is {winner} with a bid of ${highest_bid}.\")"
      ],
      "metadata": {
        "colab": {
          "base_uri": "https://localhost:8080/"
        },
        "id": "iFqfdl4lPO-a",
        "outputId": "40a96ed8-e9ee-45c0-e8a8-b8840cf89e2e"
      },
      "execution_count": null,
      "outputs": [
        {
          "output_type": "stream",
          "name": "stdout",
          "text": [
            "The winner is ozzy with a bid of $433\n"
          ]
        }
      ]
    },
    {
      "cell_type": "code",
      "source": [
        "#Teacher's Way\n",
        "from IPython.display import clear_output \n",
        "#HINT: You can call clear() to clear the output in the console.\n",
        "from art_auction import logo\n",
        "print(logo)\n",
        "\n",
        "bids = {}\n",
        "bidding_finished = False\n",
        "\n",
        "def find_highest_bidder(bidding_record):\n",
        "  highest_bid = 0\n",
        "  winner = \"\"\n",
        "  for bidder in bidding_record:\n",
        "    bid_amount = bidding_record[bidder]\n",
        "    if bid_amount > highest_bid:\n",
        "      highest_bid = bid_amount\n",
        "      winner = bidder\n",
        "  print(f\"The winner is {winner} with a bid of ${highest_bid}\")\n",
        "\n",
        "\n",
        "while not bidding_finished:\n",
        "  name = input(\"What is your name? \")\n",
        "  price = int(input(\"What is your bid? $\"))\n",
        "  bids[name] = price\n",
        "  should_continue = input(\"Are there any bidders? Type 'yes' or 'no'.\\n\")\n",
        "  if should_continue == 'no':\n",
        "    bidding_finished = True\n",
        "  elif should_continue == 'yes':\n",
        "    clear_output()\n",
        "\n",
        "find_highest_bidder(bids)"
      ],
      "metadata": {
        "colab": {
          "base_uri": "https://localhost:8080/"
        },
        "id": "ErzUppuReunN",
        "outputId": "3e72431e-e101-481d-8c64-dd28e20f71b3"
      },
      "execution_count": null,
      "outputs": [
        {
          "output_type": "stream",
          "name": "stdout",
          "text": [
            "What is your name? james\n",
            "What is your bid? $321\n",
            "Are there any bidders? Type 'yes' or 'no'.\n",
            "no\n",
            "The winner is james with a bid of $321\n"
          ]
        }
      ]
    },
    {
      "cell_type": "code",
      "source": [
        ""
      ],
      "metadata": {
        "id": "7OXOhiltTQ2b"
      },
      "execution_count": null,
      "outputs": []
    }
  ]
}