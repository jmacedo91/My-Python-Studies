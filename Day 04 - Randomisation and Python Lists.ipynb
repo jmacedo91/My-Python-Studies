{
  "nbformat": 4,
  "nbformat_minor": 0,
  "metadata": {
    "colab": {
      "name": "Day 04 - Randomization - Rock, Paper, Scissor.ipynb",
      "provenance": [],
      "toc_visible": true,
      "authorship_tag": "ABX9TyP7HORSAtmSvCRjyUrWWENL",
      "include_colab_link": true
    },
    "kernelspec": {
      "name": "python3",
      "display_name": "Python 3"
    },
    "language_info": {
      "name": "python"
    }
  },
  "cells": [
    {
      "cell_type": "markdown",
      "metadata": {
        "id": "view-in-github",
        "colab_type": "text"
      },
      "source": [
        "<a href=\"https://colab.research.google.com/github/jmacedo91/Python-100-Days-of-Code/blob/main/Day_04_Randomization_Rock%2C_Paper%2C_Scissor.ipynb\" target=\"_parent\"><img src=\"https://colab.research.google.com/assets/colab-badge.svg\" alt=\"Open In Colab\"/></a>"
      ]
    },
    {
      "cell_type": "markdown",
      "source": [
        "***\n",
        "# <font color=u size=8>Day 04 - Beginner - Randomisation and Python Lists</font>\n",
        "***"
      ],
      "metadata": {
        "id": "FJNtFsmhPUxB"
      }
    },
    {
      "cell_type": "markdown",
      "source": [
        "## Random Module"
      ],
      "metadata": {
        "id": "RJa-gfKLB-vB"
      }
    },
    {
      "cell_type": "markdown",
      "source": [
        "<a href='https://en.wikipedia.org/wiki/Mersenne_Twister'>Mersenne Twister</a>\n",
        "\n",
        "<a href='https://www.khanacademy.org/computing/computer-science/cryptography/crypt/v/random-vs-pseudorandom-number-generators'>Pseudo Numbers</a>\n",
        "\n",
        "<a href='https://www.askpython.com/python-modules/python-random-module-generate-random-numbers-sequences'>Ask Python Documentation</a>"
      ],
      "metadata": {
        "id": "GD72TLnq2ZjN"
      }
    },
    {
      "cell_type": "code",
      "execution_count": null,
      "metadata": {
        "colab": {
          "base_uri": "https://localhost:8080/"
        },
        "id": "ybIBbc5W03xl",
        "outputId": "c269cef2-2f5d-42e6-9f96-772b11ca7cc3"
      },
      "outputs": [
        {
          "output_type": "stream",
          "name": "stdout",
          "text": [
            "8\n"
          ]
        }
      ],
      "source": [
        "import random # random module\n",
        "\n",
        "random_integer = random.randint(1, 10) # Including the last number\n",
        "print(random_integer)"
      ]
    },
    {
      "cell_type": "code",
      "source": [
        "random_float = random.random() # The number 1 isn't include 0.00000 - 0.99999...\n",
        "print(random_float)"
      ],
      "metadata": {
        "colab": {
          "base_uri": "https://localhost:8080/"
        },
        "id": "XkWouFcdCwJq",
        "outputId": "e49d17f9-193f-4cfd-88fe-5d2028eea858"
      },
      "execution_count": null,
      "outputs": [
        {
          "output_type": "stream",
          "name": "stdout",
          "text": [
            "0.8792689138847529\n"
          ]
        }
      ]
    },
    {
      "cell_type": "code",
      "source": [
        "random_float = random.random() * 500\n",
        "print(random_float)"
      ],
      "metadata": {
        "colab": {
          "base_uri": "https://localhost:8080/"
        },
        "id": "uwZu3XwlCHz2",
        "outputId": "7fe98762-193b-40e8-a552-4febf24501f3"
      },
      "execution_count": null,
      "outputs": [
        {
          "output_type": "stream",
          "name": "stdout",
          "text": [
            "361.0197318570421\n"
          ]
        }
      ]
    },
    {
      "cell_type": "markdown",
      "source": [
        "### Exercise 1 - Heads or Tails"
      ],
      "metadata": {
        "id": "zl2nQTia1l0J"
      }
    },
    {
      "cell_type": "code",
      "source": [
        "import random\n",
        "\n",
        "coin = random.randint(0, 1)\n",
        "if coin == 0:\n",
        "  print('Tails')\n",
        "else:\n",
        "  print('Heads')"
      ],
      "metadata": {
        "colab": {
          "base_uri": "https://localhost:8080/"
        },
        "id": "YogYQVZzR2kc",
        "outputId": "9173cd5e-f6f3-473c-8f93-c7640e43ec3c"
      },
      "execution_count": null,
      "outputs": [
        {
          "output_type": "stream",
          "name": "stdout",
          "text": [
            "Heads\n"
          ]
        }
      ]
    },
    {
      "cell_type": "code",
      "source": [
        "#Write your code below this line 👇\n",
        "import random\n",
        "\n",
        "choice = input('Heads or Tails?: ').lower()\n",
        "coin = random.randint(0, 1)\n",
        "\n",
        "if coin == 0:\n",
        "  print('Tails')\n",
        "else:\n",
        "  print('Heads')\n",
        " \n",
        "\n",
        "if choice == 'tails':\n",
        "  if coin == 0:\n",
        "    print('You win!')\n",
        "  else:\n",
        "    print('You lose')\n",
        "else:\n",
        "  if coin == 1:\n",
        "    print('You win!')\n",
        "  else:\n",
        "    print('You lose.')\n",
        "#Hint: Remember to import the random module first. 🎲"
      ],
      "metadata": {
        "id": "bn0MmVi66BQp",
        "colab": {
          "base_uri": "https://localhost:8080/"
        },
        "outputId": "4d7b64b0-5c18-4895-fce3-c9ea608fb331"
      },
      "execution_count": null,
      "outputs": [
        {
          "output_type": "stream",
          "name": "stdout",
          "text": [
            "Heads or Tails?: tails\n",
            "Tails\n",
            "You win!\n"
          ]
        }
      ]
    },
    {
      "cell_type": "markdown",
      "source": [
        "## Understanding the Offset and Appending Items to Lists"
      ],
      "metadata": {
        "id": "9r4DajGwU2tP"
      }
    },
    {
      "cell_type": "code",
      "source": [
        "states_of_america = [\"Delaware\", \"Pennsylvania\", \"New Jersey\", \"Georgia\", \"Connecticut\", \"Massachusetts\",\n",
        "                     \"Maryland\", \"South Carolina\", \"New Hampshire\", \"Virginia\", \"New York\", \"North Carolina\",\n",
        "                     \"Rhode Island\", \"Vermont\", \"Kentucky\", \"Tennessee\", \"Ohio\", \"Louisiana\",\n",
        "                     \"Indiana\", \"Mississippi\", \"Illinois\", \"Alabama\", \"Maine\", \"Missouri\",\n",
        "                     \"Arkansas\", \"Michigan\", \"Florida\", \"Texas\", \"Iowa\", \"Wisconsin\",\n",
        "                     \"California\", \"Minnesota\", \"Oregon\", \"Kansas\", \"West Virginia\", \"Nevada\",\n",
        "                     \"Nebraska\", \"Colorado\", \"North Dakota\", \"South Dakota\", \"Montana\", \"Washington\",\n",
        "                     \"Idaho\", \"Wyoming\", \"Utah\", \"Oklahoma\", \"New Mexico\", \"Arizona\",\n",
        "                     \"Alaska\", \"Hawaii\"]\n",
        "\n",
        "print(states_of_america[-1])"
      ],
      "metadata": {
        "colab": {
          "base_uri": "https://localhost:8080/"
        },
        "id": "WkW0KI_uU3wc",
        "outputId": "11172645-60f0-43ab-85b1-739e5ad929ef"
      },
      "execution_count": null,
      "outputs": [
        {
          "output_type": "stream",
          "name": "stdout",
          "text": [
            "Hawaii\n"
          ]
        }
      ]
    },
    {
      "cell_type": "code",
      "source": [
        "states_of_america[0]"
      ],
      "metadata": {
        "colab": {
          "base_uri": "https://localhost:8080/",
          "height": 35
        },
        "id": "5pv_oIa0VHGX",
        "outputId": "5b9fc618-457d-472f-ba6a-6c856e53e70d"
      },
      "execution_count": null,
      "outputs": [
        {
          "output_type": "execute_result",
          "data": {
            "application/vnd.google.colaboratory.intrinsic+json": {
              "type": "string"
            },
            "text/plain": [
              "'Delaware'"
            ]
          },
          "metadata": {},
          "execution_count": 50
        }
      ]
    },
    {
      "cell_type": "code",
      "source": [
        "states_of_america[2]"
      ],
      "metadata": {
        "colab": {
          "base_uri": "https://localhost:8080/",
          "height": 35
        },
        "id": "xHAE1XzrVM_f",
        "outputId": "3dfc51ce-927f-4252-be8a-d903d50f9147"
      },
      "execution_count": null,
      "outputs": [
        {
          "output_type": "execute_result",
          "data": {
            "application/vnd.google.colaboratory.intrinsic+json": {
              "type": "string"
            },
            "text/plain": [
              "'New Jersey'"
            ]
          },
          "metadata": {},
          "execution_count": 51
        }
      ]
    },
    {
      "cell_type": "code",
      "source": [
        "states_of_america[-1]"
      ],
      "metadata": {
        "colab": {
          "base_uri": "https://localhost:8080/",
          "height": 35
        },
        "id": "Wgd6Uxe5VOyt",
        "outputId": "26d5755d-36d8-4873-d081-903fbe1faf37"
      },
      "execution_count": null,
      "outputs": [
        {
          "output_type": "execute_result",
          "data": {
            "application/vnd.google.colaboratory.intrinsic+json": {
              "type": "string"
            },
            "text/plain": [
              "'Hawaii'"
            ]
          },
          "metadata": {},
          "execution_count": 52
        }
      ]
    },
    {
      "cell_type": "code",
      "source": [
        "states_of_america[1] = \"Pencilvania\"\n",
        "states_of_america"
      ],
      "metadata": {
        "colab": {
          "base_uri": "https://localhost:8080/"
        },
        "id": "dYiB1s7rVQau",
        "outputId": "cad17338-d56d-42e8-ca82-870d9207dbd6"
      },
      "execution_count": null,
      "outputs": [
        {
          "output_type": "execute_result",
          "data": {
            "text/plain": [
              "['Delaware',\n",
              " 'Pencilvania',\n",
              " 'New Jersey',\n",
              " 'Georgia',\n",
              " 'Connecticut',\n",
              " 'Massachusetts',\n",
              " 'Maryland',\n",
              " 'South Carolina',\n",
              " 'New Hampshire',\n",
              " 'Virginia',\n",
              " 'New York',\n",
              " 'North Carolina',\n",
              " 'Rhode Island',\n",
              " 'Vermont',\n",
              " 'Kentucky',\n",
              " 'Tennessee',\n",
              " 'Ohio',\n",
              " 'Louisiana',\n",
              " 'Indiana',\n",
              " 'Mississippi',\n",
              " 'Illinois',\n",
              " 'Alabama',\n",
              " 'Maine',\n",
              " 'Missouri',\n",
              " 'Arkansas',\n",
              " 'Michigan',\n",
              " 'Florida',\n",
              " 'Texas',\n",
              " 'Iowa',\n",
              " 'Wisconsin',\n",
              " 'California',\n",
              " 'Minnesota',\n",
              " 'Oregon',\n",
              " 'Kansas',\n",
              " 'West Virginia',\n",
              " 'Nevada',\n",
              " 'Nebraska',\n",
              " 'Colorado',\n",
              " 'North Dakota',\n",
              " 'South Dakota',\n",
              " 'Montana',\n",
              " 'Washington',\n",
              " 'Idaho',\n",
              " 'Wyoming',\n",
              " 'Utah',\n",
              " 'Oklahoma',\n",
              " 'New Mexico',\n",
              " 'Arizona',\n",
              " 'Alaska',\n",
              " 'Hawaii']"
            ]
          },
          "metadata": {},
          "execution_count": 55
        }
      ]
    },
    {
      "cell_type": "code",
      "source": [
        "states_of_america.append('Angelaland')"
      ],
      "metadata": {
        "id": "fbLblyqSVpho"
      },
      "execution_count": null,
      "outputs": []
    },
    {
      "cell_type": "code",
      "source": [
        "states_of_america"
      ],
      "metadata": {
        "colab": {
          "base_uri": "https://localhost:8080/"
        },
        "id": "zZ-VTHWLVxxo",
        "outputId": "eb7c4c50-e9fc-4401-eb4e-2daf16f493ba"
      },
      "execution_count": null,
      "outputs": [
        {
          "output_type": "execute_result",
          "data": {
            "text/plain": [
              "['Delaware',\n",
              " 'Pencilvania',\n",
              " 'New Jersey',\n",
              " 'Georgia',\n",
              " 'Connecticut',\n",
              " 'Massachusetts',\n",
              " 'Maryland',\n",
              " 'South Carolina',\n",
              " 'New Hampshire',\n",
              " 'Virginia',\n",
              " 'New York',\n",
              " 'North Carolina',\n",
              " 'Rhode Island',\n",
              " 'Vermont',\n",
              " 'Kentucky',\n",
              " 'Tennessee',\n",
              " 'Ohio',\n",
              " 'Louisiana',\n",
              " 'Indiana',\n",
              " 'Mississippi',\n",
              " 'Illinois',\n",
              " 'Alabama',\n",
              " 'Maine',\n",
              " 'Missouri',\n",
              " 'Arkansas',\n",
              " 'Michigan',\n",
              " 'Florida',\n",
              " 'Texas',\n",
              " 'Iowa',\n",
              " 'Wisconsin',\n",
              " 'California',\n",
              " 'Minnesota',\n",
              " 'Oregon',\n",
              " 'Kansas',\n",
              " 'West Virginia',\n",
              " 'Nevada',\n",
              " 'Nebraska',\n",
              " 'Colorado',\n",
              " 'North Dakota',\n",
              " 'South Dakota',\n",
              " 'Montana',\n",
              " 'Washington',\n",
              " 'Idaho',\n",
              " 'Wyoming',\n",
              " 'Utah',\n",
              " 'Oklahoma',\n",
              " 'New Mexico',\n",
              " 'Arizona',\n",
              " 'Alaska',\n",
              " 'Hawaii',\n",
              " 'Angelaland']"
            ]
          },
          "metadata": {},
          "execution_count": 57
        }
      ]
    },
    {
      "cell_type": "code",
      "source": [
        "states_of_america.extend(['Angelaland', 'Jack Bauer Land'])"
      ],
      "metadata": {
        "id": "Gor8gNcbV9qJ"
      },
      "execution_count": null,
      "outputs": []
    },
    {
      "cell_type": "code",
      "source": [
        "states_of_america"
      ],
      "metadata": {
        "colab": {
          "base_uri": "https://localhost:8080/"
        },
        "id": "-fmrQgayWHpZ",
        "outputId": "1ec7ab49-6c89-459f-f4be-5c4a1bca1e46"
      },
      "execution_count": null,
      "outputs": [
        {
          "output_type": "execute_result",
          "data": {
            "text/plain": [
              "['Delaware',\n",
              " 'Pencilvania',\n",
              " 'New Jersey',\n",
              " 'Georgia',\n",
              " 'Connecticut',\n",
              " 'Massachusetts',\n",
              " 'Maryland',\n",
              " 'South Carolina',\n",
              " 'New Hampshire',\n",
              " 'Virginia',\n",
              " 'New York',\n",
              " 'North Carolina',\n",
              " 'Rhode Island',\n",
              " 'Vermont',\n",
              " 'Kentucky',\n",
              " 'Tennessee',\n",
              " 'Ohio',\n",
              " 'Louisiana',\n",
              " 'Indiana',\n",
              " 'Mississippi',\n",
              " 'Illinois',\n",
              " 'Alabama',\n",
              " 'Maine',\n",
              " 'Missouri',\n",
              " 'Arkansas',\n",
              " 'Michigan',\n",
              " 'Florida',\n",
              " 'Texas',\n",
              " 'Iowa',\n",
              " 'Wisconsin',\n",
              " 'California',\n",
              " 'Minnesota',\n",
              " 'Oregon',\n",
              " 'Kansas',\n",
              " 'West Virginia',\n",
              " 'Nevada',\n",
              " 'Nebraska',\n",
              " 'Colorado',\n",
              " 'North Dakota',\n",
              " 'South Dakota',\n",
              " 'Montana',\n",
              " 'Washington',\n",
              " 'Idaho',\n",
              " 'Wyoming',\n",
              " 'Utah',\n",
              " 'Oklahoma',\n",
              " 'New Mexico',\n",
              " 'Arizona',\n",
              " 'Alaska',\n",
              " 'Hawaii',\n",
              " 'Angelaland',\n",
              " 'Angelaland',\n",
              " 'Jack Bauer Land']"
            ]
          },
          "metadata": {},
          "execution_count": 59
        }
      ]
    },
    {
      "cell_type": "markdown",
      "source": [
        "### Exercise 2 - Who will pay the bill?"
      ],
      "metadata": {
        "id": "cZ7cFyb4WwnR"
      }
    },
    {
      "cell_type": "code",
      "source": [
        "# Split string method\n",
        "names_string = input(\"Give me everybody's names, separated by a comma. \")\n",
        "names = names_string.split(\", \")\n",
        "# 🚨 Don't change the code above 👆\n",
        "\n",
        "#Write your code below this line 👇\n",
        "import random\n",
        "name = random.randint(0, (len(names) - 1))\n",
        "print(f\"{names[name]} is going to buy the meal today!\")"
      ],
      "metadata": {
        "colab": {
          "base_uri": "https://localhost:8080/"
        },
        "id": "wfiUkifZWwE2",
        "outputId": "879a4493-5125-4ed6-ecce-11bd43169241"
      },
      "execution_count": null,
      "outputs": [
        {
          "output_type": "stream",
          "name": "stdout",
          "text": [
            "Give me everybody's names, separated by a comma. Jonathan, Luciana, Ozzy\n",
            "Jonathan is going to buy the meal today!\n"
          ]
        }
      ]
    },
    {
      "cell_type": "markdown",
      "source": [
        "Using random.choice(list)"
      ],
      "metadata": {
        "id": "YYbceTsQPwyl"
      }
    },
    {
      "cell_type": "code",
      "source": [
        "# Split string method\n",
        "names_string = input(\"Give me everybody's names, separated by a comma. \")\n",
        "names = names_string.split(\", \")\n",
        "# 🚨 Don't change the code above 👆\n",
        "\n",
        "#Write your code below this line 👇\n",
        "import random\n",
        "print(f\"{random.choice(names)} is going to buy the meal today!\")"
      ],
      "metadata": {
        "colab": {
          "base_uri": "https://localhost:8080/"
        },
        "id": "UHqiYDNMPR4v",
        "outputId": "de7eeb92-2f97-49cb-dd01-5d4742369689"
      },
      "execution_count": null,
      "outputs": [
        {
          "output_type": "stream",
          "name": "stdout",
          "text": [
            "Give me everybody's names, separated by a comma. banana, maça, biscoito\n",
            "banana is going to buy the meal today!\n"
          ]
        }
      ]
    },
    {
      "cell_type": "markdown",
      "source": [
        "## Index Errors and Working with Nested Lists"
      ],
      "metadata": {
        "id": "yWUV1zzdyEPN"
      }
    },
    {
      "cell_type": "code",
      "source": [
        "animals = [[\"Dog\", \"Cat\", \"Guinea Pig\"], [\"Chicken\", \"Hawk\", \"Pelican\"], [\"Lizard\", \"Turtle\", \"Alligator\"]]"
      ],
      "metadata": {
        "id": "gXyIRMh9aO17"
      },
      "execution_count": null,
      "outputs": []
    },
    {
      "cell_type": "code",
      "source": [
        "felines = animals[0]\n",
        "felines"
      ],
      "metadata": {
        "colab": {
          "base_uri": "https://localhost:8080/"
        },
        "id": "VkJQQljlcPZf",
        "outputId": "1e75af9a-e461-4634-90c5-de1cfc6ff201"
      },
      "execution_count": null,
      "outputs": [
        {
          "output_type": "execute_result",
          "data": {
            "text/plain": [
              "['Dog', 'Cat', 'Guinea Pig']"
            ]
          },
          "metadata": {},
          "execution_count": 6
        }
      ]
    },
    {
      "cell_type": "code",
      "source": [
        "birds = animals[1]\n",
        "birds"
      ],
      "metadata": {
        "colab": {
          "base_uri": "https://localhost:8080/"
        },
        "id": "dx2Cc3TecVia",
        "outputId": "5ef99209-054a-433e-f2ae-92b64e3b2062"
      },
      "execution_count": null,
      "outputs": [
        {
          "output_type": "execute_result",
          "data": {
            "text/plain": [
              "['Chicken', 'Hawk', 'Pelican']"
            ]
          },
          "metadata": {},
          "execution_count": 7
        }
      ]
    },
    {
      "cell_type": "code",
      "source": [
        "reptiles = animals[2]\n",
        "reptiles"
      ],
      "metadata": {
        "colab": {
          "base_uri": "https://localhost:8080/"
        },
        "id": "uksV_-NWc3yZ",
        "outputId": "378e00cd-e912-4c16-d59f-73c48992e08d"
      },
      "execution_count": null,
      "outputs": [
        {
          "output_type": "execute_result",
          "data": {
            "text/plain": [
              "['Lizard', 'Turtle', 'Alligator']"
            ]
          },
          "metadata": {},
          "execution_count": 8
        }
      ]
    },
    {
      "cell_type": "code",
      "source": [
        "hawk = animals[1][1]\n",
        "hawk"
      ],
      "metadata": {
        "colab": {
          "base_uri": "https://localhost:8080/",
          "height": 35
        },
        "id": "QlHIIFRzc9Tz",
        "outputId": "9dbafb7a-c4d0-465c-a035-0aa9d841bb77"
      },
      "execution_count": null,
      "outputs": [
        {
          "output_type": "execute_result",
          "data": {
            "text/plain": [
              "'Hawk'"
            ],
            "application/vnd.google.colaboratory.intrinsic+json": {
              "type": "string"
            }
          },
          "metadata": {},
          "execution_count": 9
        }
      ]
    },
    {
      "cell_type": "code",
      "source": [
        "turtle = animals[2][1]\n",
        "turtle"
      ],
      "metadata": {
        "colab": {
          "base_uri": "https://localhost:8080/",
          "height": 35
        },
        "id": "AqYrTPhWdHOQ",
        "outputId": "f86327e4-0706-447c-a856-f6dc4193eca8"
      },
      "execution_count": null,
      "outputs": [
        {
          "output_type": "execute_result",
          "data": {
            "text/plain": [
              "'Turtle'"
            ],
            "application/vnd.google.colaboratory.intrinsic+json": {
              "type": "string"
            }
          },
          "metadata": {},
          "execution_count": 12
        }
      ]
    },
    {
      "cell_type": "markdown",
      "source": [
        "### Exercise 3 - Treasure Map"
      ],
      "metadata": {
        "id": "jsXbyw38-a9W"
      }
    },
    {
      "cell_type": "code",
      "source": [
        "# 🚨 Don't change the code below 👇\n",
        "row1 = [\"⬜️\",\"⬜️\",\"⬜️\"]\n",
        "row2 = [\"⬜️\",\"⬜️\",\"⬜️\"]\n",
        "row3 = [\"⬜️\",\"⬜️\",\"⬜️\"]\n",
        "map = [row1, row2, row3]\n",
        "print(f\"{row1}\\n{row2}\\n{row3}\")\n",
        "position = input(\"Where do you want to put the treasure? \")\n",
        "# 🚨 Don't change the code above 👆\n",
        "\n",
        "#Write your code below this row 👇\n",
        "column = int(position[0]) - 1\n",
        "row = int(position[1]) - 1\n",
        "\n",
        "map[row][column] = \"X\"\n",
        "#Write your code above this row 👆\n",
        "\n",
        "# 🚨 Don't change the code below 👇\n",
        "print(f\"{row1}\\n{row2}\\n{row3}\")"
      ],
      "metadata": {
        "id": "1L1cAtWZZHIH",
        "colab": {
          "base_uri": "https://localhost:8080/"
        },
        "outputId": "e938afc6-dcf7-4997-995c-818c85837fb5"
      },
      "execution_count": null,
      "outputs": [
        {
          "output_type": "stream",
          "name": "stdout",
          "text": [
            "['⬜️', '⬜️', '⬜️']\n",
            "['⬜️', '⬜️', '⬜️']\n",
            "['⬜️', '⬜️', '⬜️']\n",
            "Where do you want to put the treasure? 31\n",
            "['⬜️', '⬜️', 'X']\n",
            "['⬜️', '⬜️', '⬜️']\n",
            "['⬜️', '⬜️', '⬜️']\n"
          ]
        }
      ]
    },
    {
      "cell_type": "markdown",
      "source": [
        "# Day 04 Project: Rock, Paper, Scissor"
      ],
      "metadata": {
        "id": "tlmbnBnfID53"
      }
    },
    {
      "cell_type": "code",
      "source": [
        "rock = '''\n",
        "    _______\n",
        "---'   ____)\n",
        "      (_____)\n",
        "      (_____)\n",
        "      (____)\n",
        "---.__(___)\n",
        "'''\n",
        "\n",
        "paper = '''\n",
        "    _______\n",
        "---'   ____)____\n",
        "          ______)\n",
        "          _______)\n",
        "         _______)\n",
        "---.__________)\n",
        "'''\n",
        "\n",
        "scissors = '''\n",
        "    _______\n",
        "---'   ____)____\n",
        "          ______)\n",
        "       __________)\n",
        "      (____)\n",
        "---.__(___)\n",
        "'''\n",
        "\n",
        "#Write your code below this line 👇\n",
        "import random\n",
        "\n",
        "# My chose\n",
        "user_choice = int(input(\"What do you choose? Type 0 for Rock, 1 for Paper or 2 for Scissors. \"))\n",
        "\n",
        "if user_choice == 0:\n",
        "  print(rock)\n",
        "elif user_choice == 1:\n",
        "  print(paper)\n",
        "elif user_choice == 2:\n",
        "  print(scissors)\n",
        "\n",
        "# Computer chose\n",
        "computer = random.randint(0, 2)\n",
        "\n",
        "print('\\n\\nComputer Chose')\n",
        "if computer == 0:\n",
        "  print(rock)\n",
        "elif computer == 1:\n",
        "  print(paper)\n",
        "else:\n",
        "  print(scissors)\n",
        "\n",
        "if (user_choice == 0 and computer == 1) or (user_choice == 1 and computer == 2) or (user_choice == 2 and computer == 0):\n",
        "  print('You lose!')\n",
        "elif user_choice == computer:\n",
        "  print('It\\'s a draw!')\n",
        "elif (user_choice >= 3 or user_choice < 0):\n",
        "  print('\\n\\nYou type an invalid number, you lose!')\n",
        "else:\n",
        "  print('You win!')"
      ],
      "metadata": {
        "colab": {
          "base_uri": "https://localhost:8080/"
        },
        "id": "zOVonV-EENlg",
        "outputId": "7c28d956-f569-42b1-979e-5e8cb4486e66"
      },
      "execution_count": null,
      "outputs": [
        {
          "output_type": "stream",
          "name": "stdout",
          "text": [
            "What do you choose? Type 0 for Rock, 1 for Paper or 2 for Scissors. 2\n",
            "\n",
            "    _______\n",
            "---'   ____)____\n",
            "          ______)\n",
            "       __________)\n",
            "      (____)\n",
            "---.__(___)\n",
            "\n",
            "\n",
            "\n",
            "Computer Chose\n",
            "\n",
            "    _______\n",
            "---'   ____)\n",
            "      (_____)\n",
            "      (_____)\n",
            "      (____)\n",
            "---.__(___)\n",
            "\n",
            "You lose!\n"
          ]
        }
      ]
    },
    {
      "cell_type": "code",
      "source": [
        "rock = '''\n",
        "    _______\n",
        "---'   ____)\n",
        "      (_____)\n",
        "      (_____)\n",
        "      (____)\n",
        "---.__(___)\n",
        "'''\n",
        "\n",
        "paper = '''\n",
        "    _______\n",
        "---'   ____)____\n",
        "          ______)\n",
        "          _______)\n",
        "         _______)\n",
        "---.__________)\n",
        "'''\n",
        "\n",
        "scissors = '''\n",
        "    _______\n",
        "---'   ____)____\n",
        "          ______)\n",
        "       __________)\n",
        "      (____)\n",
        "---.__(___)\n",
        "'''\n",
        "\n",
        "#Write your code below this line 👇\n",
        "import random\n",
        "\n",
        "# My chose\n",
        "game_images = [rock, paper, scissors]\n",
        "\n",
        "user_choice = int(input(\"What do you choose? Type 0 for Rock, 1 for Paper or 2 for Scissors. \"))\n",
        "\n",
        "if user_choice >= 3 or user_choice < 0:\n",
        "  print('\\nYou type an invalid number, you lose!')\n",
        "else:\n",
        "  print(f'\\nYou chose:')\n",
        "  print(game_images[user_choice])\n",
        "\n",
        "computer_choice = random.randint(0, 2)\n",
        "print(f'\\nComputer chose:')\n",
        "print(game_images[computer_choice])\n",
        "\n",
        "if user_choice == 0 and computer_choice == 2:\n",
        "  print('You win!')\n",
        "elif computer_choice == 0 and user_choice == 2:\n",
        "  print('You lose')\n",
        "elif computer_choice > user_choice:\n",
        "  print('You lose')\n",
        "elif user_choice > computer_choice:\n",
        "  print('You win!')\n",
        "elif computer_choice == user_choice:\n",
        "  print('It\\'s a draw!')\n"
      ],
      "metadata": {
        "colab": {
          "base_uri": "https://localhost:8080/"
        },
        "id": "B1fSaMz2-FbT",
        "outputId": "0fbe90c4-53f4-4cee-ea98-ee0dd2ebb7f8"
      },
      "execution_count": null,
      "outputs": [
        {
          "output_type": "stream",
          "name": "stdout",
          "text": [
            "What do you choose? Type 0 for Rock, 1 for Paper or 2 for Scissors. 3\n",
            "\n",
            "You type an invalid number, you lose!\n",
            "\n",
            "Computer chose:\n",
            "\n",
            "    _______\n",
            "---'   ____)\n",
            "      (_____)\n",
            "      (_____)\n",
            "      (____)\n",
            "---.__(___)\n",
            "\n",
            "You win!\n"
          ]
        }
      ]
    }
  ]
}