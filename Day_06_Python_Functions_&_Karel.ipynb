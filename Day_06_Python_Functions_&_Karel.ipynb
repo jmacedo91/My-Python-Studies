{
  "nbformat": 4,
  "nbformat_minor": 0,
  "metadata": {
    "colab": {
      "name": "Day 06 - Python Functions & Karel.ipynb",
      "provenance": [],
      "authorship_tag": "ABX9TyOVHl98RF68Ra+92bCQqJ2f",
      "include_colab_link": true
    },
    "kernelspec": {
      "name": "python3",
      "display_name": "Python 3"
    },
    "language_info": {
      "name": "python"
    }
  },
  "cells": [
    {
      "cell_type": "markdown",
      "metadata": {
        "id": "view-in-github",
        "colab_type": "text"
      },
      "source": [
        "<a href=\"https://colab.research.google.com/github/jmacedo91/Python-100-Days-of-Code/blob/main/Day_06_Python_Functions_%26_Karel.ipynb\" target=\"_parent\"><img src=\"https://colab.research.google.com/assets/colab-badge.svg\" alt=\"Open In Colab\"/></a>"
      ]
    },
    {
      "cell_type": "markdown",
      "source": [
        "***\n",
        "# <font color=u size=8>Day 06 - Beginner - Python Functions & Karel</font>\n",
        "***"
      ],
      "metadata": {
        "id": "RGg8c3C5QOXH"
      }
    },
    {
      "cell_type": "markdown",
      "source": [
        "## Defining and Calling Python Functions"
      ],
      "metadata": {
        "id": "C6pJGzFNQhEl"
      }
    },
    {
      "cell_type": "code",
      "execution_count": null,
      "metadata": {
        "colab": {
          "base_uri": "https://localhost:8080/"
        },
        "id": "B6c1tLw9sbIL",
        "outputId": "75e30a2d-d867-46ed-a1d4-c04572af4d02"
      },
      "outputs": [
        {
          "output_type": "stream",
          "name": "stdout",
          "text": [
            "Hello\n",
            "Bye\n"
          ]
        }
      ],
      "source": [
        "def my_function():\n",
        "  print('Hello')\n",
        "  print('Bye')\n",
        "\n",
        "my_function()"
      ]
    },
    {
      "cell_type": "code",
      "source": [
        "def imc(x, y):\n",
        "  imc = round(x / (y ** 2), 2)\n",
        "  return imc\n",
        "\n",
        "imc(60, 1.7)"
      ],
      "metadata": {
        "colab": {
          "base_uri": "https://localhost:8080/"
        },
        "id": "LLIMoZ5ks9aE",
        "outputId": "ee1cfeab-8157-48a8-dedc-e42c1a00f8e8"
      },
      "execution_count": null,
      "outputs": [
        {
          "output_type": "execute_result",
          "data": {
            "text/plain": [
              "20.76"
            ]
          },
          "metadata": {},
          "execution_count": 2
        }
      ]
    },
    {
      "cell_type": "code",
      "source": [
        "def area_circulo(r):\n",
        "  area = 3.141 * (r ** 2)\n",
        "  return area"
      ],
      "metadata": {
        "id": "c2igzombtedK"
      },
      "execution_count": null,
      "outputs": []
    },
    {
      "cell_type": "code",
      "source": [
        "area_circulo(5)"
      ],
      "metadata": {
        "colab": {
          "base_uri": "https://localhost:8080/"
        },
        "id": "qqj9Zne7-CH8",
        "outputId": "cfac6bb4-7b9c-40f2-dc6a-eed71ec8a37f"
      },
      "execution_count": null,
      "outputs": [
        {
          "output_type": "execute_result",
          "data": {
            "text/plain": [
              "78.525"
            ]
          },
          "metadata": {},
          "execution_count": 4
        }
      ]
    },
    {
      "cell_type": "code",
      "source": [
        "def volume_cilindro(r, h):\n",
        "  volume = area_circulo(r) * h\n",
        "  return volume"
      ],
      "metadata": {
        "id": "nZ4i6cG6-EmC"
      },
      "execution_count": null,
      "outputs": []
    },
    {
      "cell_type": "code",
      "source": [
        "volume_cilindro(5, 10)"
      ],
      "metadata": {
        "colab": {
          "base_uri": "https://localhost:8080/"
        },
        "id": "Jj5PPcJl-W2U",
        "outputId": "c297e497-deac-4bae-839c-c78b5a7df3c6"
      },
      "execution_count": null,
      "outputs": [
        {
          "output_type": "execute_result",
          "data": {
            "text/plain": [
              "785.25"
            ]
          },
          "metadata": {},
          "execution_count": 6
        }
      ]
    },
    {
      "cell_type": "markdown",
      "source": [
        "#While Loops"
      ],
      "metadata": {
        "id": "_LwjfuY3veXH"
      }
    },
    {
      "cell_type": "code",
      "source": [
        "teste = 10\n",
        "while teste > 0:\n",
        "  print(teste)\n",
        "  teste -=1"
      ],
      "metadata": {
        "id": "IvC3UTir-bkW",
        "colab": {
          "base_uri": "https://localhost:8080/"
        },
        "outputId": "82a73a12-79c3-4864-c63f-1b603a113e74"
      },
      "execution_count": null,
      "outputs": [
        {
          "output_type": "stream",
          "name": "stdout",
          "text": [
            "10\n",
            "9\n",
            "8\n",
            "7\n",
            "6\n",
            "5\n",
            "4\n",
            "3\n",
            "2\n",
            "1\n"
          ]
        }
      ]
    },
    {
      "cell_type": "code",
      "source": [
        ""
      ],
      "metadata": {
        "id": "uyNqsmmjwfd_"
      },
      "execution_count": null,
      "outputs": []
    }
  ]
}