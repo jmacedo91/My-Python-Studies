{
  "nbformat": 4,
  "nbformat_minor": 0,
  "metadata": {
    "colab": {
      "name": "Day 08 - Function Parameters and Caesar Cipher.ipynb",
      "provenance": [],
      "collapsed_sections": [],
      "toc_visible": true,
      "authorship_tag": "ABX9TyMp/n9loAMcFry/KKUH9SA3",
      "include_colab_link": true
    },
    "kernelspec": {
      "name": "python3",
      "display_name": "Python 3"
    },
    "language_info": {
      "name": "python"
    }
  },
  "cells": [
    {
      "cell_type": "markdown",
      "metadata": {
        "id": "view-in-github",
        "colab_type": "text"
      },
      "source": [
        "<a href=\"https://colab.research.google.com/github/jmacedo91/Python-100-Days-of-Code/blob/main/Day_08_Function_Parameters_and_Caesar_Cipher.ipynb\" target=\"_parent\"><img src=\"https://colab.research.google.com/assets/colab-badge.svg\" alt=\"Open In Colab\"/></a>"
      ]
    },
    {
      "cell_type": "markdown",
      "source": [
        "***\n",
        "# <font color=u size=8>Day 08 - Function Parameters and Caesar Cipher</font>\n",
        "***"
      ],
      "metadata": {
        "id": "G4P7N0iujnot"
      }
    },
    {
      "cell_type": "markdown",
      "source": [
        "## Functions with Inputs"
      ],
      "metadata": {
        "id": "Os9INrXrj72h"
      }
    },
    {
      "cell_type": "code",
      "source": [
        "def my_function():\n",
        "  print(\"Hello\")\n",
        "\n",
        "my_function()"
      ],
      "metadata": {
        "colab": {
          "base_uri": "https://localhost:8080/"
        },
        "id": "gx6gTQuXjqGi",
        "outputId": "75adcf16-12ee-41cc-8c0a-7485d8c0c304"
      },
      "execution_count": null,
      "outputs": [
        {
          "output_type": "stream",
          "name": "stdout",
          "text": [
            "Hello\n"
          ]
        }
      ]
    },
    {
      "cell_type": "code",
      "source": [
        "def greet():\n",
        "  print(\"Hello Angela\")\n",
        "  print(\"How do you do Jack Bauer?\")\n",
        "  print(\"Isn't the weather nice today?\")"
      ],
      "metadata": {
        "id": "6BBc2V_EkE2Y"
      },
      "execution_count": null,
      "outputs": []
    },
    {
      "cell_type": "code",
      "source": [
        "greet()"
      ],
      "metadata": {
        "colab": {
          "base_uri": "https://localhost:8080/"
        },
        "id": "FFDNIg2Fkiyl",
        "outputId": "23cd6fed-ffe9-445e-82e2-8c65307d1c2f"
      },
      "execution_count": null,
      "outputs": [
        {
          "output_type": "stream",
          "name": "stdout",
          "text": [
            "Hello Angela\n",
            "How do you do Jack Bauer?\n",
            "Isn't the weather nice today?\n"
          ]
        }
      ]
    },
    {
      "cell_type": "code",
      "source": [
        "def greet_with_name(name):\n",
        "  print(f\"Hello {name}\")\n",
        "  print(f\"How do you do {name}\")"
      ],
      "metadata": {
        "id": "_YI6y0EPkkKt"
      },
      "execution_count": null,
      "outputs": []
    },
    {
      "cell_type": "code",
      "source": [
        "greet_with_name(\"Billie\")"
      ],
      "metadata": {
        "id": "0f9Mb4-jloaW",
        "outputId": "05edbd5f-a1bb-4592-e9b4-6a3c396841cb",
        "colab": {
          "base_uri": "https://localhost:8080/"
        }
      },
      "execution_count": null,
      "outputs": [
        {
          "output_type": "stream",
          "name": "stdout",
          "text": [
            "Hello Billie\n",
            "How do you do Billie\n"
          ]
        }
      ]
    },
    {
      "cell_type": "markdown",
      "source": [
        "## Positional vs Keyword Arguments"
      ],
      "metadata": {
        "id": "JsnIktRzOI18"
      }
    },
    {
      "cell_type": "code",
      "source": [
        "def greet_with_name(name, location):\n",
        "  print(f\"Hello {name}.\")\n",
        "  print(f\"What is it in like {location}?\")"
      ],
      "metadata": {
        "id": "R_PLb4OGlroK"
      },
      "execution_count": null,
      "outputs": []
    },
    {
      "cell_type": "code",
      "source": [
        "greet_with_name(\"Jack Bauer\", \"Nowhere\")"
      ],
      "metadata": {
        "colab": {
          "base_uri": "https://localhost:8080/"
        },
        "id": "c0ei10OJPEuB",
        "outputId": "5b9dca96-3b7b-429d-d412-3e7f94be3e07"
      },
      "execution_count": null,
      "outputs": [
        {
          "output_type": "stream",
          "name": "stdout",
          "text": [
            "Hello Jack Bauer.\n",
            "What is it in like Nowhere?\n"
          ]
        }
      ]
    },
    {
      "cell_type": "code",
      "source": [
        "greet_with_name(\"Nowhere\", \"Jack Bauer\") #Positional Argument"
      ],
      "metadata": {
        "colab": {
          "base_uri": "https://localhost:8080/"
        },
        "id": "VkA1ExmLPPKw",
        "outputId": "e506d769-5f19-4e18-efd5-098eb05966a1"
      },
      "execution_count": null,
      "outputs": [
        {
          "output_type": "stream",
          "name": "stdout",
          "text": [
            "Hello Nowhere.\n",
            "What is it in like Jack Bauer?\n"
          ]
        }
      ]
    },
    {
      "cell_type": "code",
      "source": [
        "greet_with_name(location = \"Nowhere\", name = \"Jack Bauer\") # Keyword Arguments"
      ],
      "metadata": {
        "colab": {
          "base_uri": "https://localhost:8080/"
        },
        "id": "r5RHOt7oQSju",
        "outputId": "43a82aae-22ed-400d-90a7-cc4ae56a3f42"
      },
      "execution_count": null,
      "outputs": [
        {
          "output_type": "stream",
          "name": "stdout",
          "text": [
            "Hello Jack Bauer.\n",
            "What is it in like Nowhere?\n"
          ]
        }
      ]
    },
    {
      "cell_type": "markdown",
      "source": [
        "### Execise 01 - Paint Area Calculator"
      ],
      "metadata": {
        "id": "_cbdFNzwQ4wO"
      }
    },
    {
      "cell_type": "markdown",
      "source": [
        "You are painting a wall. The instructions on the paint can says that 1 can of paint can cover 5 square meters of wall. Given a random height and width of wall, calculate how many cans of paint you'll need to buy.\n",
        "\n",
        "number of cans = (wall height ✖️ wall width) ÷ coverage per can.\n",
        "\n",
        "e.g. Height = 2, Width = 4, Coverage = 5\n",
        "\n",
        "number of cans = (2 ✖️ 4) ÷ 5\n",
        "\n",
        "But because you can't buy 0.6 of a can of paint, the result should be rounded up to 2 cans.\n",
        "\n",
        "IMPORTANT: Notice the name of the function and parameters must match those on line 13 for the code to work."
      ],
      "metadata": {
        "id": "zMfrqKszRU8R"
      }
    },
    {
      "cell_type": "code",
      "source": [
        "#Write your code below this line 👇\n",
        "import math\n",
        "\n",
        "def paint_calc(height, width, cover):\n",
        "  area = test_h * test_w\n",
        "  num_of_cans = area / cover\n",
        "  print(f\"You'll need {math.ceil(num_of_cans)} cans of paint.\") # math.ceil round up the float numbers\n",
        "\n",
        "#Write your code above this line 👆\n",
        "# Define a function called paint_calc() so that the code below works.   \n",
        "\n",
        "# 🚨 Don't change the code below 👇\n",
        "test_h = int(input(\"Height of wall: \"))\n",
        "test_w = int(input(\"Width of wall: \"))\n",
        "coverage = 5\n",
        "paint_calc(height=test_h, width=test_w, cover=coverage)"
      ],
      "metadata": {
        "colab": {
          "base_uri": "https://localhost:8080/"
        },
        "id": "OW2sGRA-QZbC",
        "outputId": "559e3bf7-a143-4bff-ee41-257393376ac7"
      },
      "execution_count": null,
      "outputs": [
        {
          "output_type": "stream",
          "name": "stdout",
          "text": [
            "Height of wall: 3\n",
            "Width of wall: 3\n",
            "You'll need 2 cans of paint.\n"
          ]
        }
      ]
    },
    {
      "cell_type": "markdown",
      "source": [
        "### Exercise 02 - Prime Number Checker"
      ],
      "metadata": {
        "id": "CXlbhJmoWa4Z"
      }
    },
    {
      "cell_type": "markdown",
      "source": [
        "Prime numbers are numbers that can only be cleanly divided by itself and 1.\n",
        "\n",
        "https://en.wikipedia.org/wiki/Prime_number\n",
        "\n",
        "You need to write a function that checks whether if the number passed into it is a prime number or not.\n",
        "\n",
        "e.g. 2 is a prime number because it's only divisible by 1 and 2.\n",
        "\n",
        "But 4 is not a prime number because you can divide it by 1, 2 or 4.\n",
        "\n",
        "https://cdn.fs.teachablecdn.com/s0gceS97QD6MP5RUT49H\n",
        "\n",
        "Here are the numbers up to 100, prime numbers are highlighted in yellow:\n",
        "\n",
        "https://cdn.fs.teachablecdn.com/NZqVclSt2qAe8KhTsUtw"
      ],
      "metadata": {
        "id": "8DXjUTy2X-BU"
      }
    },
    {
      "cell_type": "code",
      "source": [
        "#Write your code below this line 👇 - My Way\n",
        "def prime_checker(number):\n",
        "  prime_numbers = []\n",
        "  for i in range(1, number + 1):\n",
        "    if number % i == 0:\n",
        "      prime_numbers.append(i)\n",
        "  if len(prime_numbers) == 2:\n",
        "    print(\"It's a prime number.\")\n",
        "  else:\n",
        "    print(\"It's not a prime number.\")\n",
        "#Write your code above this line 👆\n",
        "    \n",
        "#Do NOT change any of the code below👇\n",
        "n = int(input(\"Check this number: \"))\n",
        "prime_checker(number=n)"
      ],
      "metadata": {
        "id": "dH1aZVPLWaSC",
        "colab": {
          "base_uri": "https://localhost:8080/"
        },
        "outputId": "10146dfe-5509-4408-d57b-c5a5f584f631"
      },
      "execution_count": null,
      "outputs": [
        {
          "output_type": "stream",
          "name": "stdout",
          "text": [
            "Check this number: 758311\n",
            "It's not a prime number.\n"
          ]
        }
      ]
    },
    {
      "cell_type": "code",
      "source": [
        "#Write your code below this line 👇 - Teacher's Way\n",
        "def prime_checker(number):\n",
        "  is_prime = True\n",
        "  for i in range(2, number):\n",
        "    if number % i == 0:\n",
        "      is_prime = False\n",
        "  if is_prime:\n",
        "    print(\"It's a prime number.\")\n",
        "  else:\n",
        "    print(\"It's not a prime number.\")\n",
        "#Write your code above this line 👆\n",
        "    \n",
        "#Do NOT change any of the code below👇\n",
        "n = int(input(\"Check this number: \"))\n",
        "prime_checker(number=n)"
      ],
      "metadata": {
        "id": "_CEspi9MS841"
      },
      "execution_count": null,
      "outputs": []
    },
    {
      "cell_type": "markdown",
      "source": [
        "## Caesar Cipher Part 1 - Encryption"
      ],
      "metadata": {
        "id": "8oqLkjlQlEW-"
      }
    },
    {
      "cell_type": "code",
      "source": [
        "# My Way\n",
        "alphabet = ['a', 'b', 'c', 'd', 'e', 'f', 'g', 'h', 'i', 'j', 'k', 'l', 'm', 'n', 'o', 'p', 'q', 'r', 's', 't', 'u', 'v', 'w', 'x', 'y', 'z']\n",
        "\n",
        "direction = input(\"Type 'encode' to encrypt, type 'decode' to decrypt:\\n\")\n",
        "text = input(\"Type your message:\\n\").lower()\n",
        "shift = int(input(\"Type the shift number:\\n\"))\n",
        "\n",
        "#TODO-1: Create a function called 'encrypt' that takes the 'text' and 'shift' as inputs.\n",
        "def encrypt(text, shift):\n",
        "  encrypted_letters = list()\n",
        "  for i in text:\n",
        "    for j in range(len(alphabet)):\n",
        "      if i == alphabet[j]:\n",
        "        if (j + shift) >= len(alphabet):\n",
        "          encrypted_letters.append(alphabet[(j + shift) - len(alphabet)])\n",
        "        else:\n",
        "          encrypted_letters.append(alphabet[j + shift])\n",
        "  encrypted_message = ''.join(encrypted_letters)\n",
        "  print(f\"The encoded text is {encrypted_message}\")\n",
        "\n",
        "    #TODO-2: Inside the 'encrypt' function, shift each letter of the 'text' forwards in the alphabet by the shift amount and print the encrypted text.  \n",
        "    #e.g. \n",
        "    #plain_text = \"hello\"\n",
        "    #shift = 5\n",
        "    #cipher_text = \"mjqqt\"\n",
        "    #print output: \"The encoded text is mjqqt\"\n",
        "\n",
        "    ##HINT: How do you get the index of an item in a list:\n",
        "    #https://stackoverflow.com/questions/176918/finding-the-index-of-an-item-in-a-list\n",
        "\n",
        "    ##🐛Bug alert: What happens if you try to encode the word 'civilization'?🐛\n",
        "\n",
        "#TODO-3: Call the encrypt function and pass in the user inputs. You should be able to test the code and encrypt a message.\n",
        "encrypt(text, shift)"
      ],
      "metadata": {
        "id": "DK-WW15IlMP8",
        "colab": {
          "base_uri": "https://localhost:8080/"
        },
        "outputId": "4b69c965-ed48-441c-fdee-f0de41051f9d"
      },
      "execution_count": null,
      "outputs": [
        {
          "output_type": "stream",
          "name": "stdout",
          "text": [
            "Type 'encode' to encrypt, type 'decode' to decrypt:\n",
            "Bom dia\n",
            "Type your message:\n",
            "Bom dia\n",
            "Type the shift number:\n",
            "3\n",
            "The encoded text is erpgld\n"
          ]
        }
      ]
    },
    {
      "cell_type": "code",
      "source": [
        "# Teacher's Way\n",
        "alphabet = ['a', 'b', 'c', 'd', 'e', 'f', 'g', 'h', 'i', 'j', 'k', 'l', 'm', 'n', 'o', 'p', 'q', 'r', 's', 't', 'u', 'v', 'w', 'x', 'y', 'z',\n",
        "            'a', 'b', 'c', 'd', 'e', 'f', 'g', 'h', 'i', 'j', 'k', 'l', 'm', 'n', 'o', 'p', 'q', 'r', 's', 't', 'u', 'v', 'w', 'x', 'y', 'z']\n",
        "\n",
        "direction = input(\"Type 'encode' to encrypt, type 'decode' to decrypt:\\n\")\n",
        "text = input(\"Type your message:\\n\").lower()\n",
        "shift = int(input(\"Type the shift number:\\n\"))\n",
        "\n",
        "#TODO-1: Create a function called 'encrypt' that takes the 'text' and 'shift' as inputs.\n",
        "def encrypt(plain_text, shift_amount):\n",
        "  cipher_text = \"\"\n",
        "  for letter in plain_text:\n",
        "    position = alphabet.index(letter)\n",
        "    new_position = position + shift\n",
        "    new_letter = alphabet[new_position]\n",
        "    cipher_text += new_letter\n",
        "  print(f\"The encoded text is {cipher_text}\")\n",
        "\n",
        "    #TODO-2: Inside the 'encrypt' function, shift each letter of the 'text' forwards in the alphabet by the shift amount and print the encrypted text.  \n",
        "    #e.g. \n",
        "    #plain_text = \"hello\"\n",
        "    #shift = 5\n",
        "    #cipher_text = \"mjqqt\"\n",
        "    #print output: \"The encoded text is mjqqt\"\n",
        "\n",
        "    ##HINT: How do you get the index of an item in a list:\n",
        "    #https://stackoverflow.com/questions/176918/finding-the-index-of-an-item-in-a-list\n",
        "\n",
        "    ##🐛Bug alert: What happens if you try to encode the word 'civilization'?🐛\n",
        "\n",
        "#TODO-3: Call the encrypt function and pass in the user inputs. You should be able to test the code and encrypt a message. \n",
        "encrypt(plain_text = text, shift_amount = shift)"
      ],
      "metadata": {
        "colab": {
          "base_uri": "https://localhost:8080/"
        },
        "id": "DbvZFoElQh0P",
        "outputId": "9ae4612c-5c28-4d45-9f55-80d705845395"
      },
      "execution_count": null,
      "outputs": [
        {
          "output_type": "stream",
          "name": "stdout",
          "text": [
            "Type 'encode' to encrypt, type 'decode' to decrypt:\n",
            "\n",
            "Type your message:\n",
            "civilization\n",
            "Type the shift number:\n",
            "5\n",
            "The encoded text is hnanqnefynts\n"
          ]
        }
      ]
    },
    {
      "cell_type": "code",
      "source": [
        "'hnanqnefynts' == 'hnanqnefynts'"
      ],
      "metadata": {
        "colab": {
          "base_uri": "https://localhost:8080/"
        },
        "id": "i3fpGQLE5sBM",
        "outputId": "6169bc8d-944e-46b6-ae9c-dd3fbe930597"
      },
      "execution_count": null,
      "outputs": [
        {
          "output_type": "execute_result",
          "data": {
            "text/plain": [
              "True"
            ]
          },
          "metadata": {},
          "execution_count": 44
        }
      ]
    },
    {
      "cell_type": "markdown",
      "source": [
        "## Caesar Cipher Part 2 - Decryption"
      ],
      "metadata": {
        "id": "Fh9aIc8V6gD-"
      }
    },
    {
      "cell_type": "code",
      "source": [
        "# My way\n",
        "alphabet = ['a', 'b', 'c', 'd', 'e', 'f', 'g', 'h', 'i', 'j', 'k', 'l', 'm', 'n', 'o', 'p', 'q', 'r', 's', 't', 'u', 'v', 'w', 'x', 'y', 'z']\n",
        "\n",
        "direction = input(\"Type 'encode' to encrypt, type 'decode' to decrypt:\\n\")\n",
        "text = input(\"Type your message:\\n\").lower()\n",
        "shift = int(input(\"Type the shift number:\\n\"))\n",
        "\n",
        "def encrypt(text, shift):\n",
        "  encrypted_letters = list()\n",
        "  for i in text:\n",
        "    for j in range(len(alphabet)):\n",
        "      if i == alphabet[j]:\n",
        "        if (j + shift) >= len(alphabet):\n",
        "          encrypted_letters.append(alphabet[(j + shift) - len(alphabet)])\n",
        "        else:\n",
        "          encrypted_letters.append(alphabet[j + shift])\n",
        "  encrypted_message = ''.join(encrypted_letters)\n",
        "  print(f\"The encoded text is {encrypted_message}\")\n",
        "\n",
        "#TODO-1: Create a different function called 'decrypt' that takes the 'text' and 'shift' as inputs.\n",
        "def decrypt(text, shift):\n",
        "  decrypted_letters = list()\n",
        "  for i in text:\n",
        "    for j in range(len(alphabet)):\n",
        "      if i == alphabet[j]:\n",
        "        decrypted_letters.append(alphabet[j - shift])\n",
        "  decrypted_message = ''.join(decrypted_letters)\n",
        "  print(f\"The decoded text is {decrypted_message}\")\n",
        "\n",
        "  #TODO-2: Inside the 'decrypt' function, shift each letter of the 'text' *backwards* in the alphabet by the shift amount and print the decrypted text.  \n",
        "  #e.g. \n",
        "  #cipher_text = \"mjqqt\"\n",
        "  #shift = 5\n",
        "  #plain_text = \"hello\"\n",
        "  #print output: \"The decoded text is hello\"\n",
        "\n",
        "\n",
        "#TODO-3: Check if the user wanted to encrypt or decrypt the message by checking the 'direction' variable.\n",
        "#Then call the correct function based on that 'drection' variable. You should be able to test the code to encrypt *AND* decrypt a message.\n",
        "if direction == \"encode\":\n",
        "  encrypt(text = text, shift = shift)\n",
        "else:\n",
        "  decrypt(text = text, shift = shift)"
      ],
      "metadata": {
        "colab": {
          "base_uri": "https://localhost:8080/"
        },
        "id": "HyX4DdZj6ft-",
        "outputId": "44ca1016-223b-46f2-abb2-702f7571eaf4"
      },
      "execution_count": null,
      "outputs": [
        {
          "output_type": "stream",
          "name": "stdout",
          "text": [
            "Type 'encode' to encrypt, type 'decode' to decrypt:\n",
            "decode\n",
            "Type your message:\n",
            "otsfymfs\n",
            "Type the shift number:\n",
            "5\n",
            "The decoded text is jonathan\n"
          ]
        }
      ]
    },
    {
      "cell_type": "code",
      "source": [
        "# Teacher's Way\n",
        "alphabet = ['a', 'b', 'c', 'd', 'e', 'f', 'g', 'h', 'i', 'j', 'k', 'l', 'm', 'n', 'o', 'p', 'q', 'r', 's', 't', 'u', 'v', 'w', 'x', 'y', 'z', 'a', 'b', 'c', 'd', 'e', 'f', 'g', 'h', 'i', 'j', 'k', 'l', 'm', 'n', 'o', 'p', 'q', 'r', 's', 't', 'u', 'v', 'w', 'x', 'y', 'z']\n",
        "\n",
        "direction = input(\"Type 'encode' to encrypt, type 'decode' to decrypt:\\n\")\n",
        "text = input(\"Type your message:\\n\").lower()\n",
        "shift = int(input(\"Type the shift number:\\n\"))\n",
        "\n",
        "def encrypt(plain_text, shift_amount):\n",
        "  cipher_text = \"\"\n",
        "  for letter in plain_text:\n",
        "    position = alphabet.index(letter)\n",
        "    new_position = position + shift_amount\n",
        "    cipher_text += alphabet[new_position]\n",
        "  print(f\"The encoded text is {cipher_text}\")\n",
        "\n",
        "#TODO-1: Create a different function called 'decrypt' that takes the 'text' and 'shift' as inputs.\n",
        "def decrypt(cipher_text, shift_amount):\n",
        "  plain_text = \"\"\n",
        "  for letter in cipher_text:\n",
        "    position = alphabet.index(letter)\n",
        "    new_position = position - shift_amount\n",
        "    plain_text += alphabet[new_position]\n",
        "  print(f\"The decoded text is {plain_text}\")\n",
        "\n",
        "\n",
        "  #TODO-2: Inside the 'decrypt' function, shift each letter of the 'text' *backwards* in the alphabet by the shift amount and print the decrypted text.  \n",
        "  #e.g. \n",
        "  #cipher_text = \"mjqqt\"\n",
        "  #shift = 5\n",
        "  #plain_text = \"hello\"\n",
        "  #print output: \"The decoded text is hello\"\n",
        "\n",
        "\n",
        "#TODO-3: Check if the user wanted to encrypt or decrypt the message by checking the 'direction' variable. Then call the correct function based on that 'drection' variable. You should be able to test the code to encrypt *AND* decrypt a message.\n",
        "if direction == \"encode\":\n",
        "  encrypt(plain_text=text, shift_amount=shift)\n",
        "elif direction == \"decode\":\n",
        "  decrypt(cipher_text=text, shift_amount=shift)"
      ],
      "metadata": {
        "id": "8o_dydLNJ75t",
        "colab": {
          "base_uri": "https://localhost:8080/"
        },
        "outputId": "3b0f7b64-917b-4ba6-c62b-ceec9c199c74"
      },
      "execution_count": null,
      "outputs": [
        {
          "output_type": "stream",
          "name": "stdout",
          "text": [
            "Type 'encode' to encrypt, type 'decode' to decrypt:\n",
            "decode\n",
            "Type your message:\n",
            "xgbpwv\n",
            "Type the shift number:\n",
            "8\n",
            "The decoded text is python\n"
          ]
        }
      ]
    },
    {
      "cell_type": "markdown",
      "source": [
        "## Caesar Cipher Part 3 - Reorganising our Code"
      ],
      "metadata": {
        "id": "5Q5OsvkADlh0"
      }
    },
    {
      "cell_type": "code",
      "source": [
        "# My way\n",
        "alphabet = ['a', 'b', 'c', 'd', 'e', 'f', 'g', 'h', 'i', 'j', 'k', 'l', 'm', 'n', 'o', 'p', 'q', 'r', 's', 't', 'u', 'v', 'w', 'x', 'y', 'z']\n",
        "\n",
        "direction = input(\"Type 'encode' to encrypt, type 'decode' to decrypt:\\n\")\n",
        "text = input(\"Type your message:\\n\").lower()\n",
        "shift = int(input(\"Type the shift number:\\n\"))\n",
        "\n",
        "#TODO-1: Combine the encrypt() and decrypt() functions into a single function called caesar(). \n",
        "def caesar(start_text, shift_amount, cipher_direction):\n",
        "  end_list = list()\n",
        "  for i in start_text:\n",
        "    for j in range(len(alphabet)):\n",
        "      if i == alphabet[j]:\n",
        "        if cipher_direction == \"encode\":\n",
        "          if (j + shift_amount) >= len(alphabet):\n",
        "            end_list.append(alphabet[(j + shift_amount) - len(alphabet)])\n",
        "          else:\n",
        "            end_list.append(alphabet[j + shift_amount])\n",
        "        elif cipher_direction == \"decode\":\n",
        "          end_list.append(alphabet[j - shift_amount])\n",
        "  message = ''.join(end_list)\n",
        "  print(f\"The {cipher_direction}d text is {message}\")\n",
        "\n",
        "#TODO-2: Call the caesar() function, passing over the 'text', 'shift' and 'direction' values.\n",
        "caesar(text, shift, direction)"
      ],
      "metadata": {
        "colab": {
          "base_uri": "https://localhost:8080/"
        },
        "id": "Zg_xv3q6DwS2",
        "outputId": "fb3607f4-596b-41ed-ebe6-817d123cf457"
      },
      "execution_count": null,
      "outputs": [
        {
          "output_type": "stream",
          "name": "stdout",
          "text": [
            "Type 'encode' to encrypt, type 'decode' to decrypt:\n",
            "encode\n",
            "Type your message:\n",
            "aaaaabbbbb\n",
            "Type the shift number:\n",
            "1\n",
            "The encoded text is bbbbbccccc\n"
          ]
        }
      ]
    },
    {
      "cell_type": "code",
      "source": [
        "# Teacher's way\n",
        "alphabet = ['a', 'b', 'c', 'd', 'e', 'f', 'g', 'h', 'i', 'j', 'k', 'l', 'm', 'n', 'o', 'p', 'q', 'r', 's', 't', 'u', 'v', 'w', 'x', 'y', 'z', 'a', 'b', 'c', 'd', 'e', 'f', 'g', 'h', 'i', 'j', 'k', 'l', 'm', 'n', 'o', 'p', 'q', 'r', 's', 't', 'u', 'v', 'w', 'x', 'y', 'z']\n",
        "\n",
        "direction = input(\"Type 'encode' to encrypt, type 'decode' to decrypt:\\n\").lower()\n",
        "text = input(\"Type your message:\\n\").lower()\n",
        "shift = int(input(\"Type the shift number:\\n\"))\n",
        "\n",
        "#TODO-1: Combine the encrypt() and decrypt() functions into a single function called caesar().\n",
        "def caesar(start_text, shift_amount, cipher_direction):\n",
        "  end_text = \"\"\n",
        "  if cipher_direction == \"decode\":\n",
        "    shift_amount *= -1\n",
        "  for letter in start_text:\n",
        "    position = alphabet.index(letter)\n",
        "    new_position = position + shift_amount\n",
        "    end_text += alphabet[new_position]\n",
        "  print(f\"The {cipher_direction}d text is {end_text}\")\n",
        "\n",
        "#TODO-2: Call the caesar() function, passing over the 'text', 'shift' and 'direction' values.\n",
        "caesar(start_text = text, shift_amount = shift, cipher_direction = direction)"
      ],
      "metadata": {
        "colab": {
          "base_uri": "https://localhost:8080/"
        },
        "id": "mgDMIa_KJVQB",
        "outputId": "d7ab712d-e277-4807-948f-f7a307c2225c"
      },
      "execution_count": null,
      "outputs": [
        {
          "output_type": "stream",
          "name": "stdout",
          "text": [
            "Type 'encode' to encrypt, type 'decode' to decrypt:\n",
            "decode\n",
            "Type your message:\n",
            "mjqqt\n",
            "Type the shift number:\n",
            "5\n",
            "The decoded text is hello\n"
          ]
        }
      ]
    },
    {
      "cell_type": "markdown",
      "source": [
        "## Caesar Cipher Part 4 - User Experience Improvements & Final Touchs"
      ],
      "metadata": {
        "id": "KMfYXa3rl6cJ"
      }
    },
    {
      "cell_type": "code",
      "source": [
        "from google.colab import files"
      ],
      "metadata": {
        "id": "BEJoHZ0xoCSj"
      },
      "execution_count": null,
      "outputs": []
    },
    {
      "cell_type": "code",
      "source": [
        "files.upload() # import the art.py module"
      ],
      "metadata": {
        "id": "E68VNW9toFUT"
      },
      "execution_count": null,
      "outputs": []
    },
    {
      "cell_type": "code",
      "source": [
        "# My Way\n",
        "alphabet = ['a', 'b', 'c', 'd', 'e', 'f', 'g', 'h', 'i', 'j', 'k', 'l', 'm', 'n', 'o', 'p', 'q', 'r', 's', 't', 'u', 'v', 'w', 'x', 'y', 'z']\n",
        "\n",
        "def caesar(start_text, shift_amount, cipher_direction):\n",
        "  end_list = list()\n",
        "  for i in start_text:\n",
        "    if i not in alphabet:\n",
        "      end_list.append(i)\n",
        "    #TODO-3: What happens if the user enters a number/symbol/space?\n",
        "    #Can you fix the code to keep the number/symbol/space when the text is encoded/decoded?\n",
        "    #e.g. start_text = \"meet me at 3\"\n",
        "    #end_text = \"•••• •• •• 3\"\n",
        "    for j in range(len(alphabet)):\n",
        "      if i == alphabet[j]:\n",
        "        if cipher_direction == \"encode\":\n",
        "          if (j + shift_amount) >= len(alphabet):\n",
        "            end_list.append(alphabet[(j + shift_amount) - len(alphabet)])\n",
        "          else:\n",
        "            end_list.append(alphabet[j + shift_amount])\n",
        "        elif cipher_direction == \"decode\":\n",
        "          end_list.append(alphabet[j - shift_amount])\n",
        "  message = ''.join(end_list)\n",
        "  print(f\"The {cipher_direction}d text is {message}\")\n",
        "\n",
        "#TODO-1: Import and print the logo from art.py when the program starts.\n",
        "from art import logo\n",
        "\n",
        "print(logo)\n",
        "\n",
        "#TODO-4: Can you figure out a way to ask the user if they want to restart the cipher program?\n",
        "#e.g. Type 'yes' if you want to go again. Otherwise type 'no'.\n",
        "#If they type 'yes' then ask them for the direction/text/shift again and call the caesar() function again?\n",
        "#Hint: Try creating a while loop that continues to execute the program if the user types 'yes'.\n",
        "choice = True\n",
        "\n",
        "while choice:\n",
        "  direction = input(\"Type 'encode' to encrypt, type 'decode' to decrypt:\\n\").lower()\n",
        "  text = input(\"Type your message:\\n\").lower()\n",
        "  shift = int(input(\"Type the shift number:\\n\"))\n",
        "  if shift >= len(alphabet):\n",
        "    shift %= len(alphabet)\n",
        "  caesar(text, shift, direction)\n",
        "  user_choice = input(\"Type 'yes' if you want to go again. Otherwise type 'no'.\")\n",
        "  if user_choice == 'yes':\n",
        "    continue\n",
        "  else:\n",
        "    print(\"Good bye.\")\n",
        "    choice = False\n",
        "\n",
        "#TODO-2: What if the user enters a shift that is greater than the number of letters in the alphabet?\n",
        "#Try running the program and entering a shift number of 45.\n",
        "#Add some code so that the program continues to work even if the user enters a shift number greater than 26. \n",
        "#Hint: Think about how you can use the modulus (%).\n",
        "\n",
        "\n"
      ],
      "metadata": {
        "colab": {
          "base_uri": "https://localhost:8080/"
        },
        "id": "1DNwsQ2wmSrO",
        "outputId": "13920bcb-3b57-4fe2-831c-38ae7fe67637"
      },
      "execution_count": null,
      "outputs": [
        {
          "output_type": "stream",
          "name": "stdout",
          "text": [
            "           \n",
            " ,adPPYba, ,adPPYYba,  ,adPPYba, ,adPPYba, ,adPPYYba, 8b,dPPYba,  \n",
            "a8\"     \"\" \"\"     `Y8 a8P_____88 I8[    \"\" \"\"     `Y8 88P'   \"Y8  \n",
            "8b         ,adPPPPP88 8PP\"  `\"Y8ba,  ,adPPPPP88 88          \n",
            "\"8a,   ,aa 88,    ,88 \"8b,   ,aa aa    ]8I 88,    ,88 88          \n",
            " `\"Ybbd8\"' `\"8bbdP\"Y8  `\"Ybbd8\"' `\"YbbdP\"' `\"8bbdP\"Y8 88   \n",
            "            88             88                                 \n",
            "           \"\"             88                                 \n",
            "                          88                                 \n",
            " ,adPPYba, 88 8b,dPPYba,  88,dPPYba,   ,adPPYba, 8b,dPPYba,  \n",
            "a8\"     \"\" 88 88P'    \"8a 88P'    \"8a a8P_____88 88P'   \"Y8  \n",
            "8b         88 88       d8 88       88 8PP\" 88          \n",
            "\"8a,   ,aa 88 88b,   ,a8\" 88       88 \"8b,   ,aa 88          \n",
            " `\"Ybbd8\"' 88 88`YbbdP\"'  88       88  `\"Ybbd8\"' 88          \n",
            "              88                                             \n",
            "              88           \n",
            "\n",
            "Type 'encode' to encrypt, type 'decode' to decrypt:\n",
            "encode\n",
            "Type your message:\n",
            "hello\n",
            "Type the shift number:\n",
            "657\n",
            "The encoded text is olssv\n",
            "Type 'yes' if you want to go again. Otherwise type 'no'.yes\n",
            "Type 'encode' to encrypt, type 'decode' to decrypt:\n",
            "decode\n",
            "Type your message:\n",
            "olssv\n",
            "Type the shift number:\n",
            "657\n",
            "The decoded text is hello\n",
            "Type 'yes' if you want to go again. Otherwise type 'no'.no\n",
            "Good bye.\n"
          ]
        }
      ]
    },
    {
      "cell_type": "code",
      "source": [
        "# Teacher's Way\n",
        "\n",
        "alphabet = ['a', 'b', 'c', 'd', 'e', 'f', 'g', 'h', 'i', 'j', 'k', 'l', 'm', 'n', 'o', 'p', 'q', 'r', 's', 't', 'u', 'v', 'w', 'x', 'y', 'z', 'a', 'b', 'c', 'd', 'e', 'f', 'g', 'h', 'i', 'j', 'k', 'l', 'm', 'n', 'o', 'p', 'q', 'r', 's', 't', 'u', 'v', 'w', 'x', 'y', 'z']\n",
        "\n",
        "def caesar(start_text, shift_amount, cipher_direction):\n",
        "  end_text = \"\"\n",
        "  if cipher_direction == \"decode\":\n",
        "    shift_amount *= -1\n",
        "  for char in start_text:\n",
        "    if char in alphabet:\n",
        "      position = alphabet.index(char)\n",
        "      new_position = position + shift_amount\n",
        "      end_text += alphabet[new_position]\n",
        "    else:\n",
        "      end_text += char\n",
        "    #TODO-3: What happens if the user enters a number/symbol/space?\n",
        "    #Can you fix the code to keep the number/symbol/space when the text is encoded/decoded?\n",
        "    #e.g. start_text = \"meet me at 3\"\n",
        "    #end_text = \"•••• •• •• 3\"\n",
        "  print(f\"Here's the {cipher_direction}d result: {end_text}\")\n",
        "\n",
        "#TODO-1: Import and print the logo from art.py when the program starts.\n",
        "from art import logo\n",
        "print(logo)\n",
        "\n",
        "#TODO-4: Can you figure out a way to ask the user if they want to restart the cipher program?\n",
        "#e.g. Type 'yes' if you want to go again. Otherwise type 'no'.\n",
        "#If they type 'yes' then ask them for the direction/text/shift again and call the caesar() function again?\n",
        "#Hint: Try creating a while loop that continues to execute the program if the user types 'yes'. \n",
        "should_end = False\n",
        "\n",
        "while not should_end:\n",
        "\n",
        "  direction = input(\"Type 'encode' to encrypt, type 'decode' to decrypt:\\n\")\n",
        "  text = input(\"Type your message:\\n\").lower()\n",
        "  shift = int(input(\"Type the shift number:\\n\"))\n",
        "  shift %= 25\n",
        "\n",
        "#TODO-2: What if the user enters a shift that is greater than the number of letters in the alphabet?\n",
        "#Try running the program and entering a shift number of 45.\n",
        "#Add some code so that the program continues to work even if the user enters a shift number greater than 26. \n",
        "#Hint: Think about how you can use the modulus (%).\n",
        "\n",
        "\n",
        "  caesar(start_text=text, shift_amount=shift, cipher_direction=direction)\n",
        "  result = input(\"Type 'yes' if you want to go again. Otherwise type 'no'.\\n\")\n",
        "  if result == \"no\":\n",
        "    should_end = True\n",
        "    print(\"Good bye.\")"
      ],
      "metadata": {
        "id": "CoBEIP4_mB5Q",
        "colab": {
          "base_uri": "https://localhost:8080/"
        },
        "outputId": "862902dc-7193-4f60-ed8f-6c440dcc9b1b"
      },
      "execution_count": null,
      "outputs": [
        {
          "output_type": "stream",
          "name": "stdout",
          "text": [
            "           \n",
            " ,adPPYba, ,adPPYYba,  ,adPPYba, ,adPPYba, ,adPPYYba, 8b,dPPYba,  \n",
            "a8\"     \"\" \"\"     `Y8 a8P_____88 I8[    \"\" \"\"     `Y8 88P'   \"Y8  \n",
            "8b         ,adPPPPP88 8PP\"  `\"Y8ba,  ,adPPPPP88 88          \n",
            "\"8a,   ,aa 88,    ,88 \"8b,   ,aa aa    ]8I 88,    ,88 88          \n",
            " `\"Ybbd8\"' `\"8bbdP\"Y8  `\"Ybbd8\"' `\"YbbdP\"' `\"8bbdP\"Y8 88   \n",
            "            88             88                                 \n",
            "           \"\"             88                                 \n",
            "                          88                                 \n",
            " ,adPPYba, 88 8b,dPPYba,  88,dPPYba,   ,adPPYba, 8b,dPPYba,  \n",
            "a8\"     \"\" 88 88P'    \"8a 88P'    \"8a a8P_____88 88P'   \"Y8  \n",
            "8b         88 88       d8 88       88 8PP\" 88          \n",
            "\"8a,   ,aa 88 88b,   ,a8\" 88       88 \"8b,   ,aa 88          \n",
            " `\"Ybbd8\"' 88 88`YbbdP\"'  88       88  `\"Ybbd8\"' 88          \n",
            "              88                                             \n",
            "              88           \n",
            "\n",
            "Type 'encode' to encrypt, type 'decode' to decrypt:\n",
            "encode\n",
            "Type your message:\n",
            "hello\n",
            "Type the shift number:\n",
            "657\n",
            "Here's the encoded result: olssv\n",
            "Type 'yes' if you want to go again. Otherwise type 'no'.\n",
            "yes\n",
            "Type 'encode' to encrypt, type 'decode' to decrypt:\n",
            "decode\n",
            "Type your message:\n",
            "olssv\n",
            "Type the shift number:\n",
            "657\n",
            "Here's the decoded result: hello\n",
            "Type 'yes' if you want to go again. Otherwise type 'no'.\n",
            "no\n",
            "Good bye.\n"
          ]
        }
      ]
    },
    {
      "cell_type": "markdown",
      "source": [
        "# Day 08 - Final Project - Caesar Cipher"
      ],
      "metadata": {
        "id": "K2HBMeLs4VMx"
      }
    },
    {
      "cell_type": "markdown",
      "source": [
        "##My way"
      ],
      "metadata": {
        "id": "fckQMz7s4b0y"
      }
    },
    {
      "cell_type": "code",
      "source": [
        "# My Way\n",
        "alphabet = ['a', 'b', 'c', 'd', 'e', 'f', 'g', 'h', 'i', 'j', 'k', 'l', 'm', 'n', 'o', 'p', 'q', 'r', 's', 't', 'u', 'v', 'w', 'x', 'y', 'z']\n",
        "\n",
        "def caesar(start_text, shift_amount, cipher_direction):\n",
        "  end_list = list()\n",
        "  for i in start_text:\n",
        "    if i not in alphabet:\n",
        "      end_list.append(i)\n",
        "    for j in range(len(alphabet)):\n",
        "      if i == alphabet[j]:\n",
        "        if cipher_direction == \"encode\":\n",
        "          if (j + shift_amount) >= len(alphabet):\n",
        "            end_list.append(alphabet[(j + shift_amount) - len(alphabet)])\n",
        "          else:\n",
        "            end_list.append(alphabet[j + shift_amount])\n",
        "        elif cipher_direction == \"decode\":\n",
        "          end_list.append(alphabet[j - shift_amount])\n",
        "  message = ''.join(end_list)\n",
        "  print(f\"The {cipher_direction}d text is {message}\")\n",
        "\n",
        "from art import logo\n",
        "\n",
        "print(logo)\n",
        "\n",
        "choice = True\n",
        "\n",
        "while choice:\n",
        "  direction = input(\"Type 'encode' to encrypt, type 'decode' to decrypt:\\n\").lower()\n",
        "  text = input(\"Type your message:\\n\").lower()\n",
        "  shift = int(input(\"Type the shift number:\\n\"))\n",
        "  if shift >= len(alphabet):\n",
        "    shift %= len(alphabet)\n",
        "  caesar(text, shift, direction)\n",
        "  user_choice = input(\"Type 'yes' if you want to go again. Otherwise type 'no'. \").lower()\n",
        "  if user_choice != 'yes':\n",
        "    print(\"Good bye.\")\n",
        "    choice = False"
      ],
      "metadata": {
        "id": "3aO3gS_68B4b",
        "colab": {
          "base_uri": "https://localhost:8080/"
        },
        "outputId": "e6720e18-6fa0-4cf7-8699-e4d30a3297b7"
      },
      "execution_count": null,
      "outputs": [
        {
          "output_type": "stream",
          "name": "stdout",
          "text": [
            "           \n",
            " ,adPPYba, ,adPPYYba,  ,adPPYba, ,adPPYba, ,adPPYYba, 8b,dPPYba,  \n",
            "a8\"     \"\" \"\"     `Y8 a8P_____88 I8[    \"\" \"\"     `Y8 88P'   \"Y8  \n",
            "8b         ,adPPPPP88 8PP\"  `\"Y8ba,  ,adPPPPP88 88          \n",
            "\"8a,   ,aa 88,    ,88 \"8b,   ,aa aa    ]8I 88,    ,88 88          \n",
            " `\"Ybbd8\"' `\"8bbdP\"Y8  `\"Ybbd8\"' `\"YbbdP\"' `\"8bbdP\"Y8 88   \n",
            "            88             88                                 \n",
            "           \"\"             88                                 \n",
            "                          88                                 \n",
            " ,adPPYba, 88 8b,dPPYba,  88,dPPYba,   ,adPPYba, 8b,dPPYba,  \n",
            "a8\"     \"\" 88 88P'    \"8a 88P'    \"8a a8P_____88 88P'   \"Y8  \n",
            "8b         88 88       d8 88       88 8PP\" 88          \n",
            "\"8a,   ,aa 88 88b,   ,a8\" 88       88 \"8b,   ,aa 88          \n",
            " `\"Ybbd8\"' 88 88`YbbdP\"'  88       88  `\"Ybbd8\"' 88          \n",
            "              88                                             \n",
            "              88           \n",
            "\n",
            "Type 'encode' to encrypt, type 'decode' to decrypt:\n",
            "encode\n",
            "Type your message:\n",
            "Luciana Helena Garcia da Silva\n",
            "Type the shift number:\n",
            "36967034\n",
            "The encoded text is luciana helena garcia da silva\n",
            "Type 'yes' if you want to go again. Otherwise type 'no'. yes\n",
            "Type 'encode' to encrypt, type 'decode' to decrypt:\n",
            "encode\n",
            "Type your message:\n",
            "Luciana Helena Garcia da Silva\n",
            "Type the shift number:\n",
            "36967035\n",
            "The encoded text is mvdjbob ifmfob hbsdjb eb tjmwb\n",
            "Type 'yes' if you want to go again. Otherwise type 'no'. yes\n",
            "Type 'encode' to encrypt, type 'decode' to decrypt:\n",
            "decode\n",
            "Type your message:\n",
            "mvdjbob ifmfob hbsdjb eb tjmwb\n",
            "Type the shift number:\n",
            "36967035\n",
            "The decoded text is luciana helena garcia da silva\n",
            "Type 'yes' if you want to go again. Otherwise type 'no'. no\n",
            "Good bye.\n"
          ]
        }
      ]
    },
    {
      "cell_type": "markdown",
      "source": [
        "## Teacher's Way"
      ],
      "metadata": {
        "id": "4dyi6uh865I3"
      }
    },
    {
      "cell_type": "code",
      "source": [
        "# Teacher's Way\n",
        "\n",
        "alphabet = ['a', 'b', 'c', 'd', 'e', 'f', 'g', 'h', 'i', 'j', 'k', 'l', 'm', 'n', 'o', 'p', 'q', 'r', 's', 't', 'u', 'v', 'w', 'x', 'y', 'z', 'a', 'b', 'c', 'd', 'e', 'f', 'g', 'h', 'i', 'j', 'k', 'l', 'm', 'n', 'o', 'p', 'q', 'r', 's', 't', 'u', 'v', 'w', 'x', 'y', 'z']\n",
        "\n",
        "def caesar(start_text, shift_amount, cipher_direction):\n",
        "  end_text = \"\"\n",
        "  if cipher_direction == \"decode\":\n",
        "    shift_amount *= -1\n",
        "  for char in start_text:\n",
        "    if char in alphabet:\n",
        "      position = alphabet.index(char)\n",
        "      new_position = position + shift_amount\n",
        "      end_text += alphabet[new_position]\n",
        "    else:\n",
        "      end_text += char\n",
        "  print(f\"Here's the {cipher_direction}d result: {end_text}\")\n",
        "\n",
        "\n",
        "from art import logo\n",
        "print(logo)\n",
        "should_end = False\n",
        "\n",
        "while not should_end:\n",
        "\n",
        "  direction = input(\"Type 'encode' to encrypt, type 'decode' to decrypt:\\n\")\n",
        "  text = input(\"Type your message:\\n\").lower()\n",
        "  shift = int(input(\"Type the shift number:\\n\"))\n",
        "  shift %= 25\n",
        "  caesar(start_text=text, shift_amount=shift, cipher_direction=direction)\n",
        "  result = input(\"Type 'yes' if you want to go again. Otherwise type 'no'.\\n\")\n",
        "  if result == \"no\":\n",
        "    should_end = True\n",
        "    print(\"Good bye.\")"
      ],
      "metadata": {
        "id": "8GwEIM1666wI"
      },
      "execution_count": null,
      "outputs": []
    }
  ]
}