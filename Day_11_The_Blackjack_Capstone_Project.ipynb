{
  "cells": [
    {
      "cell_type": "markdown",
      "metadata": {
        "colab_type": "text",
        "id": "view-in-github"
      },
      "source": [
        "<a href=\"https://colab.research.google.com/github/jmacedo91/My-Python-Studies/blob/main/Day_11_The_Blackjack_Capstone_Project.ipynb\" target=\"_parent\"><img src=\"https://colab.research.google.com/assets/colab-badge.svg\" alt=\"Open In Colab\"/></a>"
      ]
    },
    {
      "cell_type": "markdown",
      "metadata": {
        "id": "86HKJRHGG63S"
      },
      "source": [
        "***\n",
        "# <font color=u size=8>Day 11 - The Blackjack Capstone Project</font>\n",
        "***"
      ]
    },
    {
      "cell_type": "markdown",
      "metadata": {
        "id": "7x7GO4PZQ57I"
      },
      "source": [
        "## Blackjack Program Requirements and Game Rules"
      ]
    },
    {
      "cell_type": "code",
      "execution_count": null,
      "metadata": {
        "id": "QauZSsARG4vf"
      },
      "outputs": [],
      "source": [
        "############### Blackjack Project #####################\n",
        "\n",
        "#Difficulty Normal 😎: Use all Hints below to complete the project.\n",
        "#Difficulty Hard 🤔: Use only Hints 1, 2, 3 to complete the project.\n",
        "#Difficulty Extra Hard 😭: Only use Hints 1 & 2 to complete the project.\n",
        "#Difficulty Expert 🤯: Only use Hint 1 to complete the project.\n",
        "\n",
        "############### Our Blackjack House Rules #####################\n",
        "\n",
        "## The deck is unlimited in size. \n",
        "## There are no jokers. \n",
        "## The Jack/Queen/King all count as 10.\n",
        "## The the Ace can count as 11 or 1.\n",
        "## Use the following list as the deck of cards:\n",
        "## cards = [11, 2, 3, 4, 5, 6, 7, 8, 9, 10, 10, 10, 10]\n",
        "## The cards in the list have equal probability of being drawn.\n",
        "## Cards are not removed from the deck as they are drawn.\n",
        "## The computer is the dealer.\n",
        "\n",
        "##################### Hints #####################\n",
        "\n",
        "#Hint 1: Go to this website and try out the Blackjack game: \n",
        "#   https://games.washingtonpost.com/games/blackjack/\n",
        "#Then try out the completed Blackjack project here: \n",
        "#   http://blackjack-final.appbrewery.repl.run\n",
        "\n",
        "#Hint 2: Read this breakdown of program requirements: \n",
        "#   http://listmoz.com/view/6h34DJpvJBFVRlZfJvxF\n",
        "#Then try to create your own flowchart for the program.\n",
        "\n",
        "#Hint 3: Download and read this flow chart I've created: \n",
        "#   https://drive.google.com/uc?export=download&id=1rDkiHCrhaf9eX7u7yjM1qwSuyEk-rPnt\n",
        "\n",
        "#Hint 4: Create a deal_card() function that uses the List below to *return* a random card.\n",
        "#11 is the Ace.\n",
        "#cards = [11, 2, 3, 4, 5, 6, 7, 8, 9, 10, 10, 10, 10]\n",
        "\n",
        "#Hint 5: Deal the user and computer 2 cards each using deal_card() and append().\n",
        "#user_cards = []\n",
        "#computer_cards = []\n",
        "\n",
        "#Hint 6: Create a function called calculate_score() that takes a List of cards as input \n",
        "#and returns the score. \n",
        "#Look up the sum() function to help you do this.\n",
        "\n",
        "#Hint 7: Inside calculate_score() check for a blackjack (a hand with only 2 cards: ace + 10) and return 0 instead of the actual score. 0 will represent a blackjack in our game.\n",
        "\n",
        "#Hint 8: Inside calculate_score() check for an 11 (ace). If the score is already over 21, remove the 11 and replace it with a 1. You might need to look up append() and remove().\n",
        "\n",
        "#Hint 9: Call calculate_score(). If the computer or the user has a blackjack (0) or if the user's score is over 21, then the game ends.\n",
        "\n",
        "#Hint 10: If the game has not ended, ask the user if they want to draw another card. If yes, then use the deal_card() function to add another card to the user_cards List. If no, then the game has ended.\n",
        "\n",
        "#Hint 11: The score will need to be rechecked with every new card drawn and the checks in Hint 9 need to be repeated until the game ends.\n",
        "\n",
        "#Hint 12: Once the user is done, it's time to let the computer play. The computer should keep drawing cards as long as it has a score less than 17.\n",
        "\n",
        "#Hint 13: Create a function called compare() and pass in the user_score and computer_score. If the computer and user both have the same score, then it's a draw. If the computer has a blackjack (0), then the user loses. If the user has a blackjack (0), then the user wins. If the user_score is over 21, then the user loses. If the computer_score is over 21, then the computer loses. If none of the above, then the player with the highest score wins.\n",
        "\n",
        "#Hint 14: Ask the user if they want to restart the game. If they answer yes, clear the console and start a new game of blackjack and show the logo from art.py.\n",
        "\n"
      ]
    },
    {
      "cell_type": "code",
      "execution_count": 2,
      "metadata": {
        "colab": {
          "base_uri": "https://localhost:8080/"
        },
        "id": "RmBOz8P7egw7",
        "outputId": "e35859c3-5d71-4a05-ed13-eb984337f375"
      },
      "outputs": [
        {
          "ename": "ModuleNotFoundError",
          "evalue": "No module named 'art_blackjack'",
          "output_type": "error",
          "traceback": [
            "\u001b[1;31m---------------------------------------------------------------------------\u001b[0m",
            "\u001b[1;31mModuleNotFoundError\u001b[0m                       Traceback (most recent call last)",
            "Cell \u001b[1;32mIn[2], line 38\u001b[0m\n\u001b[0;32m     36\u001b[0m \u001b[39mimport\u001b[39;00m \u001b[39mrandom\u001b[39;00m\n\u001b[0;32m     37\u001b[0m \u001b[39mfrom\u001b[39;00m \u001b[39mIPython\u001b[39;00m\u001b[39m.\u001b[39;00m\u001b[39mdisplay\u001b[39;00m \u001b[39mimport\u001b[39;00m clear_output\n\u001b[1;32m---> 38\u001b[0m \u001b[39mfrom\u001b[39;00m \u001b[39mart_blackjack\u001b[39;00m \u001b[39mimport\u001b[39;00m logo\n\u001b[0;32m     40\u001b[0m \u001b[39mdef\u001b[39;00m \u001b[39mdeal_card\u001b[39m():\n\u001b[0;32m     41\u001b[0m   cards \u001b[39m=\u001b[39m [\u001b[39m11\u001b[39m, \u001b[39m2\u001b[39m, \u001b[39m3\u001b[39m, \u001b[39m4\u001b[39m, \u001b[39m5\u001b[39m, \u001b[39m6\u001b[39m, \u001b[39m7\u001b[39m, \u001b[39m8\u001b[39m, \u001b[39m9\u001b[39m, \u001b[39m10\u001b[39m, \u001b[39m10\u001b[39m, \u001b[39m10\u001b[39m, \u001b[39m10\u001b[39m]\n",
            "\u001b[1;31mModuleNotFoundError\u001b[0m: No module named 'art_blackjack'"
          ]
        }
      ],
      "source": [
        "############### Blackjack Project #####################\n",
        "\n",
        "#Difficulty Normal 😎: Use all Hints below to complete the project.\n",
        "#Difficulty Hard 🤔: Use only Hints 1, 2, 3 to complete the project.\n",
        "#Difficulty Extra Hard 😭: Only use Hints 1 & 2 to complete the project.\n",
        "#Difficulty Expert 🤯: Only use Hint 1 to complete the project.\n",
        "\n",
        "############### Our Blackjack House Rules #####################\n",
        "\n",
        "## The deck is unlimited in size. \n",
        "## There are no jokers. \n",
        "## The Jack/Queen/King all count as 10.\n",
        "## The the Ace can count as 11 or 1.\n",
        "## Use the following list as the deck of cards:\n",
        "## cards = [11, 2, 3, 4, 5, 6, 7, 8, 9, 10, 10, 10, 10]\n",
        "## The cards in the list have equal probability of being drawn.\n",
        "## Cards are not removed from the deck as they are drawn.\n",
        "## The computer is the dealer.\n",
        "\n",
        "##################### Hints #####################\n",
        "\n",
        "#Hint 1: Go to this website and try out the Blackjack game: \n",
        "#   https://games.washingtonpost.com/games/blackjack/\n",
        "#Then try out the completed Blackjack project here: \n",
        "#   http://blackjack-final.appbrewery.repl.run\n",
        "\n",
        "#Hint 2: Read this breakdown of program requirements: \n",
        "#   http://listmoz.com/view/6h34DJpvJBFVRlZfJvxF\n",
        "#Then try to create your own flowchart for the program.\n",
        "\n",
        "#Hint 3: Download and read this flow chart I've created: \n",
        "#   https://drive.google.com/uc?export=download&id=1rDkiHCrhaf9eX7u7yjM1qwSuyEk-rPnt\n",
        "\n",
        "#Hint 4: Create a deal_card() function that uses the List below to *return* a random card.\n",
        "#11 is the Ace.\n",
        "import random\n",
        "from IPython.display import clear_output\n",
        "from art_blackjack import logo\n",
        "\n",
        "def deal_card():\n",
        "  cards = [11, 2, 3, 4, 5, 6, 7, 8, 9, 10, 10, 10, 10]\n",
        "  card = random.choice(cards)\n",
        "  return card\n",
        "\n",
        "#Hint 6: Create a function called calculate_score() that takes a List of cards as input \n",
        "#and returns the score. \n",
        "#Look up the sum() function to help you do this.\n",
        "def calculate_score(cards):\n",
        "  \"\"\"Take a list of cards and return the score calculated from the cards\"\"\"\n",
        "  #Hint 7: Inside calculate_score() check for a blackjack (a hand with only 2 cards: ace + 10) and return 0 instead of the actual score. 0 will represent a blackjack in our game.\n",
        "  if sum(cards) == 21:\n",
        "    return 0\n",
        "  #Hint 8: Inside calculate_score() check for an 11 (ace). If the score is already over 21, remove the 11 and replace it with a 1. You might need to look up append() and remove().\n",
        "  if 11 in cards[2:]:\n",
        "    cards.remove(11)\n",
        "    cards.append(1)\n",
        "  return sum(cards)\n",
        "\n",
        "def compare(user_score, computer_score):\n",
        "  if user_score == computer_score:\n",
        "    return \"Drawm 🙃\"\n",
        "  elif computer_score == 0:\n",
        "    return \"Lose, opponent has Blackjack 😱\"\n",
        "  elif user_score == 0:\n",
        "    return \"Win with a Blackjack 😎\"\n",
        "  elif user_score > 21:\n",
        "    return \"You went over. You lose 😭\"\n",
        "  elif computer_score > 21:\n",
        "    return \"Opponent went over. You win 😁\"\n",
        "  elif user_score > computer_score:\n",
        "    return \"You win 😀\"\n",
        "  else:\n",
        "    return \"You lose 😤\"\n",
        "\n",
        "def play_game():\n",
        "\n",
        "  print(logo)\n",
        "  \n",
        "  #Hint 5: Deal the user and computer 2 cards each using deal_card() and append().\n",
        "  user_cards = []\n",
        "  computer_cards = []\n",
        "  is_game_over = False\n",
        "\n",
        "  for _ in range(2):\n",
        "    \"\"\"Returns a random card from the deck.\"\"\"\n",
        "    user_cards.append(deal_card())\n",
        "    computer_cards.append(deal_card())\n",
        "\n",
        "  #Hint 11: The score will need to be rechecked with every new card drawn and the checks in Hint 9 need to be repeated until the game ends.\n",
        "  while not is_game_over:\n",
        "    #Hint 9: Call calculate_score(). If the computer or the user has a blackjack (0) or if the user's score is over 21, then the game ends.\n",
        "    user_score = calculate_score(user_cards)\n",
        "    computer_score = calculate_score(computer_cards)\n",
        "    print(f\"    Your cards: {user_cards}, current score: {user_score}\")\n",
        "    print(f\"    Computer's first card: {computer_cards[0]}\")\n",
        "\n",
        "    if user_score == 0 or computer_score == 0 or user_score > 21:\n",
        "      is_game_over = True\n",
        "    else:\n",
        "      #Hint 10: If the game has not ended, ask the user if they want to draw another card. If yes, then use the deal_card() function to add another card to the user_cards List. If no, then the game has ended.\n",
        "      user_should_deal = input(f\"Type 'y' to get another card, type 'n' to pass: \")\n",
        "      if user_should_deal == \"y\":\n",
        "        user_cards.append(deal_card())\n",
        "      else:\n",
        "        is_game_over = True\n",
        "\n",
        "  #Hint 12: Once the user is done, it's time to let the computer play. The computer should keep drawing cards as long as it has a score less than 17.\n",
        "  while computer_score != 0 and computer_score < 17:\n",
        "    computer_cards.append(deal_card())\n",
        "    computer_score = calculate_score(computer_cards)\n",
        "\n",
        "  #Hint 13: Create a function called compare() and pass in the user_score and computer_score. If the computer and user both have the same score, then it's a draw. If the computer has a blackjack (0), then the user loses. If the user has a blackjack (0), then the user wins. If the user_score is over 21, then the user loses. If the computer_score is over 21, then the computer loses. If none of the above, then the player with the highest score wins.\n",
        "  print(f\"   Your final hand: {user_cards}, final score: {user_score}\")\n",
        "  print(f\"   Computer's final hand: {computer_cards}, final score {computer_score}\")\n",
        "  print(compare(user_score, computer_score))\n",
        "\n",
        "#Hint 14: Ask the user if they want to restart the game. If they answer yes, clear the console and start a new game of blackjack and show the logo from art.py.\n",
        "while input(\"Do you want to play a game of Blackjack? Type 'y' or 'n': \") == 'y':\n",
        "  clear_output()\n",
        "  play_game()\n",
        "\n"
      ]
    }
  ],
  "metadata": {
    "colab": {
      "authorship_tag": "ABX9TyOUZtHvi9bRGjF7nvlK2BHD",
      "collapsed_sections": [],
      "include_colab_link": true,
      "name": "Day 11 - The Blackjack Capstone Project.ipynb",
      "provenance": []
    },
    "kernelspec": {
      "display_name": "Python 3",
      "language": "python",
      "name": "python3"
    },
    "language_info": {
      "codemirror_mode": {
        "name": "ipython",
        "version": 3
      },
      "file_extension": ".py",
      "mimetype": "text/x-python",
      "name": "python",
      "nbconvert_exporter": "python",
      "pygments_lexer": "ipython3",
      "version": "3.10.9 (tags/v3.10.9:1dd9be6, Dec  6 2022, 20:01:21) [MSC v.1934 64 bit (AMD64)]"
    },
    "vscode": {
      "interpreter": {
        "hash": "d71d571e7616aa1d4e2fd60cc757c39b5c3185d6d9fd4167e01b401dade2cd06"
      }
    }
  },
  "nbformat": 4,
  "nbformat_minor": 0
}
