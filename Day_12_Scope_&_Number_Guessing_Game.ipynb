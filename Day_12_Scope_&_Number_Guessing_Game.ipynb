{
  "nbformat": 4,
  "nbformat_minor": 0,
  "metadata": {
    "colab": {
      "name": "Day 12 - Scope & Number Guessing Game.ipynb",
      "provenance": [],
      "authorship_tag": "ABX9TyPB41gnVcuVAIcnwkv6nFnX",
      "include_colab_link": true
    },
    "kernelspec": {
      "name": "python3",
      "display_name": "Python 3"
    },
    "language_info": {
      "name": "python"
    }
  },
  "cells": [
    {
      "cell_type": "markdown",
      "metadata": {
        "id": "view-in-github",
        "colab_type": "text"
      },
      "source": [
        "<a href=\"https://colab.research.google.com/github/jmacedo91/My-Python-Studies/blob/main/Day_12_Scope_%26_Number_Guessing_Game.ipynb\" target=\"_parent\"><img src=\"https://colab.research.google.com/assets/colab-badge.svg\" alt=\"Open In Colab\"/></a>"
      ]
    },
    {
      "cell_type": "markdown",
      "source": [
        "***\n",
        "# <font color=u size=8>Day 12 - Scope & Number Guessing Game</font>\n",
        "***"
      ],
      "metadata": {
        "id": "FjKoQt_ythTt"
      }
    },
    {
      "cell_type": "markdown",
      "source": [
        "## Namespaces: Local vs Global Scope"
      ],
      "metadata": {
        "id": "XYi1D23fuE7n"
      }
    },
    {
      "cell_type": "code",
      "execution_count": null,
      "metadata": {
        "colab": {
          "base_uri": "https://localhost:8080/"
        },
        "id": "CN3drHgTstIy",
        "outputId": "3ed5426c-77e9-4ec7-8287-d1cbe0357720"
      },
      "outputs": [
        {
          "output_type": "stream",
          "name": "stdout",
          "text": [
            "enemies inside function: 2\n",
            "enemies outside function: 1\n"
          ]
        }
      ],
      "source": [
        "################### Scope ####################\n",
        "\n",
        "enemies = 1\n",
        "\n",
        "def increase_enemies():\n",
        "  enemies = 2\n",
        "  print(f\"enemies inside function: {enemies}\")\n",
        "\n",
        "increase_enemies()\n",
        "print(f\"enemies outside function: {enemies}\")"
      ]
    },
    {
      "cell_type": "markdown",
      "source": [
        "###Local Scope"
      ],
      "metadata": {
        "id": "Ip5meboz48MM"
      }
    },
    {
      "cell_type": "code",
      "source": [
        "def drink_potion():\n",
        "  potion_strength = 2\n",
        "  print(potion_strength)"
      ],
      "metadata": {
        "id": "-yS0v3cstpwf"
      },
      "execution_count": null,
      "outputs": []
    },
    {
      "cell_type": "code",
      "source": [
        "drink_potion()"
      ],
      "metadata": {
        "colab": {
          "base_uri": "https://localhost:8080/"
        },
        "id": "Zp2fv_-R5IOo",
        "outputId": "0f8a4474-11b0-43bb-c0dd-b681a57af89f"
      },
      "execution_count": null,
      "outputs": [
        {
          "output_type": "stream",
          "name": "stdout",
          "text": [
            "2\n"
          ]
        }
      ]
    },
    {
      "cell_type": "code",
      "source": [
        "# print(potion_strength) name 'potion_strength' is not defined"
      ],
      "metadata": {
        "id": "Q60-bb8Z5QW_"
      },
      "execution_count": null,
      "outputs": []
    },
    {
      "cell_type": "markdown",
      "source": [
        "###Global Scope"
      ],
      "metadata": {
        "id": "7LXs1uRk5eie"
      }
    },
    {
      "cell_type": "code",
      "source": [
        "player_health = 10 # Global Variable"
      ],
      "metadata": {
        "id": "JNqu66_B5Vo4"
      },
      "execution_count": null,
      "outputs": []
    },
    {
      "cell_type": "code",
      "source": [
        "def game():\n",
        "  def drink_potion():\n",
        "    potion_strength = 2\n",
        "    print(player_health)"
      ],
      "metadata": {
        "id": "RzxJfAld5iIb"
      },
      "execution_count": null,
      "outputs": []
    },
    {
      "cell_type": "code",
      "source": [
        "# drink_potion() name 'drink_potion' is not defined"
      ],
      "metadata": {
        "id": "slQaveUO5l12"
      },
      "execution_count": null,
      "outputs": []
    },
    {
      "cell_type": "markdown",
      "source": [
        "### Does Python Have Block Scope?"
      ],
      "metadata": {
        "id": "pOr6nm3_7C5y"
      }
    },
    {
      "cell_type": "code",
      "source": [
        "game_level = 3\n",
        "def create_enemy():\n",
        "  enemies = [\"Skeleton\", \"Zombie\", \"Alien\"]\n",
        "  if game_level < 5:\n",
        "    new_enemy = enemies[0]\n",
        "\n",
        "print(new_enemy)"
      ],
      "metadata": {
        "colab": {
          "base_uri": "https://localhost:8080/"
        },
        "id": "uG5x_OC25nL7",
        "outputId": "60233818-1b62-445a-8668-f38a96b13809"
      },
      "execution_count": null,
      "outputs": [
        {
          "output_type": "stream",
          "name": "stdout",
          "text": [
            "Skeleton\n"
          ]
        }
      ]
    },
    {
      "cell_type": "markdown",
      "source": [
        "### How to Modify a Global Scope"
      ],
      "metadata": {
        "id": "I_SNv4WL8URU"
      }
    },
    {
      "cell_type": "code",
      "source": [
        "enemies = 1\n",
        "\n",
        "def increase_enemies():\n",
        "  global enemies\n",
        "  enemies += 1\n",
        "  print(f\"enemies inside function: {enemies}\")\n",
        "\n",
        "increase_enemies()\n",
        "print(f\"enemies outside function: {enemies}\")"
      ],
      "metadata": {
        "colab": {
          "base_uri": "https://localhost:8080/"
        },
        "id": "Tgv2v6YK7aFe",
        "outputId": "976a54c4-5c9a-4ef0-d159-750fc4d38d24"
      },
      "execution_count": null,
      "outputs": [
        {
          "output_type": "stream",
          "name": "stdout",
          "text": [
            "enemies inside function: 2\n",
            "enemies outside function: 2\n"
          ]
        }
      ]
    },
    {
      "cell_type": "code",
      "source": [
        "enemies = 1\n",
        "\n",
        "def increase_enemies():\n",
        "  print(f\"enemies inside function: {enemies}\")\n",
        "  return enemies + 1\n",
        "\n",
        "enemies = increase_enemies()\n",
        "print(f\"enemies outside function: {enemies}\")"
      ],
      "metadata": {
        "colab": {
          "base_uri": "https://localhost:8080/"
        },
        "id": "x-iOZmfH-EwH",
        "outputId": "38954a74-a601-46c5-f28b-bb4043f411b7"
      },
      "execution_count": null,
      "outputs": [
        {
          "output_type": "stream",
          "name": "stdout",
          "text": [
            "enemies inside function: 1\n",
            "enemies outside function: 2\n"
          ]
        }
      ]
    },
    {
      "cell_type": "markdown",
      "source": [
        "### Python Constants and Global Scope"
      ],
      "metadata": {
        "id": "8NcxF_LTB9HJ"
      }
    },
    {
      "cell_type": "code",
      "source": [
        "PI = 3.14159\n",
        "URL = \"https://www.globo.com\"\n",
        "TWITTER_HANDLE = \"@yu_angela\""
      ],
      "metadata": {
        "id": "BZnI4L3K-vd0"
      },
      "execution_count": null,
      "outputs": []
    },
    {
      "cell_type": "markdown",
      "source": [
        "## Day 12 - Final Project - ❓ The Guessing Game ❓"
      ],
      "metadata": {
        "id": "X5WidpabErEr"
      }
    },
    {
      "cell_type": "code",
      "source": [
        "#Number Guessing Game Objectives:\n",
        "\n",
        "# Include an ASCII art logo.\n",
        "# Allow the player to submit a guess for a number between 1 and 100.\n",
        "# Check user's guess against actual answer. Print \"Too high.\" or \"Too low.\" depending on the user's answer. \n",
        "# If they got the answer correct, show the actual answer to the player.\n",
        "# Track the number of turns remaining.\n",
        "# If they run out of turns, provide feedback to the player. \n",
        "# Include two different difficulty levels (e.g., 10 guesses in easy mode, only 5 guesses in hard mode)."
      ],
      "metadata": {
        "id": "jJ3TfUqzmn6n"
      },
      "execution_count": null,
      "outputs": []
    },
    {
      "cell_type": "code",
      "source": [
        "# My Way\n",
        "from random import randint\n",
        "from art_guess import logo\n",
        "\n",
        "print(logo)\n",
        "print(\"Welcome to the Number Guessing Game!\")\n",
        "print(\"I'm thinking of a number between 1 and 100.\")\n",
        "number = randint(1, 100)\n",
        "\n",
        "print(f\"Pssst, the correct answer is {number}\")\n",
        "\n",
        "def select_difficulty():\n",
        "  global attempts # ⬅️\n",
        "  global user_choice\n",
        "  difficulty = input(\"Choose a difficulty. Type 'easy' or 'hard': \").lower()\n",
        "  if difficulty == \"easy\":\n",
        "    attempts = 10\n",
        "  elif difficulty == \"hard\":\n",
        "    attempts = 5\n",
        "  else:\n",
        "    user_choice = 0\n",
        "    attempts = 0\n",
        "\n",
        "select_difficulty()\n",
        "\n",
        "\n",
        "while attempts != 0:\n",
        "  print(f\"You have {attempts} attempts remaining to guess the number.\")\n",
        "\n",
        "  user_choice = int(input(\"Make a guess: \"))\n",
        "\n",
        "  if user_choice > number:\n",
        "    print(\"Too high.\")\n",
        "    attempts -= 1\n",
        "    if attempts != 0:\n",
        "      print(\"Guess again.\")\n",
        "  elif user_choice < number:\n",
        "    print(\"Too low.\")\n",
        "    attempts -= 1\n",
        "    if attempts != 0:\n",
        "      print(\"Guess again.\")\n",
        "  elif user_choice == number:\n",
        "    print(f\"You got it! The answer was {number}.\")\n",
        "    attempts = 0\n",
        "  \n",
        "if user_choice != number:\n",
        "  print(\"You've run out of guesses, you lose.\")\n"
      ],
      "metadata": {
        "id": "OpHRl4qUCXsx",
        "colab": {
          "base_uri": "https://localhost:8080/"
        },
        "outputId": "ea5578b3-ec7a-4111-d440-f6ebc8b6670c"
      },
      "execution_count": 22,
      "outputs": [
        {
          "output_type": "stream",
          "name": "stdout",
          "text": [
            "   ___                  _   _          _  _            _             \n",
            "  / __|_  _ ___ ______ | |_| |_  ___  | \\| |_  _ _ __ | |__  ___ _ _ \n",
            " | (_ | || / -_|_-<_-< |  _| ' \\/ -_) | .` | || | '  \\| '_ \\/ -_) '_|\n",
            "  \\___|\\_,_\\___/__/__/  \\__|_||_\\___| |_|\\_|\\_,_|_|_|_|_.__/\\___|_|  \n",
            "Welcome to the Number Guessing Game!\n",
            "I'm thinking of a number between 1 and 100.\n",
            "Pssst, the correct answer is 67\n",
            "Choose a difficulty. Type 'easy' or 'hard': hard\n",
            "You have 5 attempts remaining to guess the number.\n",
            "Make a guess: 50\n",
            "Too low.\n",
            "Guess again.\n",
            "You have 4 attempts remaining to guess the number.\n",
            "Make a guess: 75\n",
            "Too high.\n",
            "Guess again.\n",
            "You have 3 attempts remaining to guess the number.\n",
            "Make a guess: 40\n",
            "Too low.\n",
            "Guess again.\n",
            "You have 2 attempts remaining to guess the number.\n",
            "Make a guess: 45\n",
            "Too low.\n",
            "Guess again.\n",
            "You have 1 attempts remaining to guess the number.\n",
            "Make a guess: 34\n",
            "Too low.\n",
            "You've run out of guesses, you lose.\n"
          ]
        }
      ]
    },
    {
      "cell_type": "code",
      "source": [
        "# Teacher's Way\n",
        "from random import randint\n",
        "from art_guess import logo\n",
        "\n",
        "EASY_LEVEL_TURNS = 10\n",
        "HARD_LEVEL_TURNS = 5\n",
        "\n",
        "turns = 0\n",
        "#Function to check user's guess against actual answer.\n",
        "def check_answer(guess, answer, turns):\n",
        "  \"\"\"checks answer against guess. Returns the number of turns remaining\"\"\"\n",
        "  if guess > answer:\n",
        "    print(\"Too high.\")\n",
        "    return turns - 1\n",
        "  elif guess < answer:\n",
        "    print(\"Too low.\")\n",
        "    return turns - 1\n",
        "  else:\n",
        "    print(f\"You got it! The answer was {answer}\")\n",
        "\n",
        "#Make function to set difficulty.\n",
        "def set_difficulty():\n",
        "  level = input(\"Choose a difficulty. Type 'easy' or 'hard': \")\n",
        "  if level == \"easy\":\n",
        "    return EASY_LEVEL_TURNS\n",
        "  else:\n",
        "    return HARD_LEVEL_TURNS\n",
        "\n",
        "def game():\n",
        "  #Choosing a random number between 1 and 100.\n",
        "  print(logo)\n",
        "  print(\"Welcome to the Number Guessing Game!\")\n",
        "  print(\"I'm thinking of a number between 1 and 100.\")\n",
        "  answer = randint(1, 100)\n",
        "  print(f\"Pssst, the correct answer is {answer}\")\n",
        "\n",
        "  turns = set_difficulty()\n",
        "\n",
        "  guess = 0\n",
        "  while guess != answer:\n",
        "    print(f\"You have {turns} attempts remaining to guess the number.\")\n",
        "    #Let the user guess a number.\n",
        "    guess = int(input(\"Make a guess:\"))\n",
        "\n",
        "    turns = check_answer(guess, answer, turns)\n",
        "    if turns == 0:\n",
        "      print(\"You've run out of guesses, you lose.\")\n",
        "      return\n",
        "    elif guess != answer:\n",
        "      print(\"Guess again.\")\n",
        "\n",
        "\n",
        "game()\n",
        "  \n",
        "# Track the number of turns and reduce by 1 if they get it wrong.\n",
        "\n",
        "#Repeat the guessing functionalitym if they get it wrong."
      ],
      "metadata": {
        "id": "DcfaJnh1gx24",
        "colab": {
          "base_uri": "https://localhost:8080/"
        },
        "outputId": "359a954f-d3c7-4e72-a856-95f9b78c8fb1"
      },
      "execution_count": 19,
      "outputs": [
        {
          "output_type": "stream",
          "name": "stdout",
          "text": [
            "   ___                  _   _          _  _            _             \n",
            "  / __|_  _ ___ ______ | |_| |_  ___  | \\| |_  _ _ __ | |__  ___ _ _ \n",
            " | (_ | || / -_|_-<_-< |  _| ' \\/ -_) | .` | || | '  \\| '_ \\/ -_) '_|\n",
            "  \\___|\\_,_\\___/__/__/  \\__|_||_\\___| |_|\\_|\\_,_|_|_|_|_.__/\\___|_|  \n",
            "Welcome to the Number Guessing Game!\n",
            "I'm thinking of a number between 1 and 100.\n",
            "Pssst, the correct answer is 4\n",
            "Choose a difficulty. Type 'easy' or 'hard': hard\n",
            "You have 5 attempts remaining to guess the number.\n",
            "Make a guess:50\n",
            "Too high.\n",
            "Guess again.\n",
            "You have 4 attempts remaining to guess the number.\n",
            "Make a guess:25\n",
            "Too high.\n",
            "Guess again.\n",
            "You have 3 attempts remaining to guess the number.\n",
            "Make a guess:13\n",
            "Too high.\n",
            "Guess again.\n",
            "You have 2 attempts remaining to guess the number.\n",
            "Make a guess:6\n",
            "Too high.\n",
            "Guess again.\n",
            "You have 1 attempts remaining to guess the number.\n",
            "Make a guess:3\n",
            "Too low.\n",
            "You've run out of guesses, you lose.\n"
          ]
        }
      ]
    },
    {
      "cell_type": "code",
      "source": [
        ""
      ],
      "metadata": {
        "id": "F9tneqC17J29"
      },
      "execution_count": null,
      "outputs": []
    }
  ]
}