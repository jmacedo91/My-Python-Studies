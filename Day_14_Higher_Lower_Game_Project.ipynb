{
  "nbformat": 4,
  "nbformat_minor": 0,
  "metadata": {
    "colab": {
      "name": "Day 14 - Higher Lower Game Project.ipynb",
      "provenance": [],
      "collapsed_sections": [],
      "authorship_tag": "ABX9TyOZCaEPmOWDS5HgiTny7Ikx",
      "include_colab_link": true
    },
    "kernelspec": {
      "name": "python3",
      "display_name": "Python 3"
    },
    "language_info": {
      "name": "python"
    }
  },
  "cells": [
    {
      "cell_type": "markdown",
      "metadata": {
        "id": "view-in-github",
        "colab_type": "text"
      },
      "source": [
        "<a href=\"https://colab.research.google.com/github/jmacedo91/My-Python-Studies/blob/main/Day_14_Higher_Lower_Game_Project.ipynb\" target=\"_parent\"><img src=\"https://colab.research.google.com/assets/colab-badge.svg\" alt=\"Open In Colab\"/></a>"
      ]
    },
    {
      "cell_type": "markdown",
      "source": [
        "***\n",
        "# <font color=u size=8>Day 14 - Higher Lower Game Project</font>\n",
        "***"
      ],
      "metadata": {
        "id": "OGkgih84k2ZJ"
      }
    },
    {
      "cell_type": "code",
      "execution_count": 26,
      "metadata": {
        "id": "el3jlBlpktoM"
      },
      "outputs": [],
      "source": [
        "# My Way\n",
        "from IPython.core.display import clear_output\n",
        "import random\n",
        "from day_14_art import logo, vs\n",
        "from day_14_game_data import data\n",
        "\n",
        "def compare():\n",
        "\n",
        "  print(logo)\n",
        "  A = random.choice(data)\n",
        "  score = 0\n",
        "  is_game_over = False\n",
        "\n",
        "  while not is_game_over:\n",
        "\n",
        "    B = random.choice(data)\n",
        "    while A == B:\n",
        "      B = random.choice(data)\n",
        "\n",
        "    print(f\"Compare A: {A['name']}, a {A['description']}, from {A['country']}.\")\n",
        "    print(vs)\n",
        "    print(f\"Compare B: {B['name']}, a {B['description']}, from {B['country']}.\")\n",
        "\n",
        "    user_choice = input(\"Who has more followers? Type 'A' or 'B': \").upper()\n",
        "    \n",
        "    if user_choice == \"A\":\n",
        "      user_choice = A[\"follower_count\"]\n",
        "      computer_choice = B[\"follower_count\"]\n",
        "    else:\n",
        "      user_choice = B[\"follower_count\"]\n",
        "      computer_choice = A[\"follower_count\"]\n",
        "    \n",
        "    if user_choice > computer_choice:\n",
        "      score += 1\n",
        "      clear_output()\n",
        "      print(f\"You'are right! Current score: {score}\")\n",
        "      if B[\"follower_count\"] > A[\"follower_count\"]:\n",
        "        A = B\n",
        "    else:\n",
        "      is_game_over = True\n",
        "      clear_output()\n",
        "      print(f\"Sorry, that's wrong! Final score {score}\")  "
      ]
    },
    {
      "cell_type": "code",
      "source": [
        "compare()"
      ],
      "metadata": {
        "colab": {
          "base_uri": "https://localhost:8080/"
        },
        "id": "GKPVQ9F64kYM",
        "outputId": "732ba265-5a1e-4f24-e32a-c47d0faf005b"
      },
      "execution_count": 30,
      "outputs": [
        {
          "output_type": "stream",
          "name": "stdout",
          "text": [
            "Sorry, that's wrong! Final score 0\n"
          ]
        }
      ]
    },
    {
      "cell_type": "code",
      "source": [
        "# Teacher's Way\n",
        "from IPython.display import clear_output\n",
        "from day_14_art import logo, vs\n",
        "from day_14_game_data import data\n",
        "import random\n",
        "\n",
        "def format_data(account):\n",
        "  \"\"\"Takes the account data and returns the printable format.\"\"\"\n",
        "  account_name = account[\"name\"]\n",
        "  account_description = account[\"description\"]\n",
        "  account_country = account[\"country\"]\n",
        "  return f\"{account_name}, a {account_description}, from {account_country}\"\n",
        "\n",
        "def check_answer(guess, a_followers, b_followers):\n",
        "  \"\"\"Takes the user guess and follower counts and returns if they got it right.\"\"\"\n",
        "  if a_followers > b_followers:\n",
        "    return guess == \"a\"\n",
        "  else:\n",
        "    return guess == \"b\"\n",
        "\n",
        "\n",
        "# Display art\n",
        "print(logo)\n",
        "score = 0\n",
        "game_should_continue = True\n",
        "account_b = random.choice(data)\n",
        "\n",
        "\n",
        "# Make the game repeatable.\n",
        "while game_should_continue:\n",
        "  # Generate a random account from the game data\n",
        "\n",
        "  # Making account at position B become the next account at position A.  \n",
        "  account_a = account_b\n",
        "  account_b = random.choice(data)\n",
        "\n",
        "  if account_a == account_b:\n",
        "    account_b = random.choice(data)\n",
        "\n",
        "  # Format the account data into printable format\n",
        "  print(f\"Compare A: {format_data(account_a)}.\")\n",
        "  print(vs)\n",
        "  print(f\"Against B: {format_data(account_b)}.\")\n",
        "\n",
        "  # Ask user for a guess.\n",
        "  guess = input(\"Who has more followers? Type 'A' or 'B': \").lower()\n",
        "\n",
        "  # Check if user is correct.\n",
        "  ## Get follower count of each account.\n",
        "  a_follower_count = account_a[\"follower_count\"]\n",
        "  b_follower_count = account_b[\"follower_count\"]\n",
        "  is_correct = check_answer(guess, a_follower_count, b_follower_count)\n",
        "\n",
        "  # Clear the screen between rounds.\n",
        "  clear_output()\n",
        "  print(logo)\n",
        "\n",
        "  # Give user feedback on their guess.\n",
        "  # Score keeping.\n",
        "  if is_correct:\n",
        "    score += 1\n",
        "    print(f\"You are right! Current score: {score}.\")\n",
        "  else:\n",
        "    game_should_continue = False\n",
        "    print(f\"Dorry, that's wrong. Final score: {score}.\")"
      ],
      "metadata": {
        "colab": {
          "base_uri": "https://localhost:8080/"
        },
        "id": "-9_bV7K1GTSl",
        "outputId": "9db8b94b-008f-4d07-dbee-39086b40b008"
      },
      "execution_count": 6,
      "outputs": [
        {
          "output_type": "stream",
          "name": "stdout",
          "text": [
            "\n",
            "    __  ___       __             \n",
            "   / / / (_)___ _/ /_  ___  _____\n",
            "  / /_/ / / __ `/ __ \\/ _ \\/ ___/\n",
            " / __  / / /_/ / / / /  __/ /    \n",
            "/_/ ///_/\\__, /_/ /_/\\___/_/     \n",
            "   / /  /____/_      _____  _____\n",
            "  / /   / __ \\ | /| / / _ \\/ ___/\n",
            " / /___/ /_/ / |/ |/ /  __/ /    \n",
            "/_____/\\____/|__/|__/\\___/_/     \n",
            "\n",
            "Dorry, that's wrong. Final score: 0.\n"
          ]
        }
      ]
    }
  ]
}