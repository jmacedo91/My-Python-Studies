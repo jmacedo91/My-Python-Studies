{
  "nbformat": 4,
  "nbformat_minor": 0,
  "metadata": {
    "colab": {
      "name": "Day 13 - Debbuging: How to Find and Fix Errors in your Code.ipynb",
      "provenance": [],
      "collapsed_sections": [],
      "authorship_tag": "ABX9TyMlT9TnK2a+yYHwvrLu2a2L",
      "include_colab_link": true
    },
    "kernelspec": {
      "name": "python3",
      "display_name": "Python 3"
    },
    "language_info": {
      "name": "python"
    }
  },
  "cells": [
    {
      "cell_type": "markdown",
      "metadata": {
        "id": "view-in-github",
        "colab_type": "text"
      },
      "source": [
        "<a href=\"https://colab.research.google.com/github/jmacedo91/My-Python-Studies/blob/main/Day_13_Debbuging_How_to_Find_and_Fix_Errors_in_your_Code.ipynb\" target=\"_parent\"><img src=\"https://colab.research.google.com/assets/colab-badge.svg\" alt=\"Open In Colab\"/></a>"
      ]
    },
    {
      "cell_type": "markdown",
      "source": [
        "***\n",
        "# <font color=u size=8>Day 13 - Debbuging: How to Find and Fix Errors in your Code 🐞</font>\n",
        "***"
      ],
      "metadata": {
        "id": "dB5YyRjKDZqR"
      }
    },
    {
      "cell_type": "code",
      "execution_count": null,
      "metadata": {
        "id": "vrOD7RirDW5F"
      },
      "outputs": [],
      "source": [
        "############DEBUGGING#####################\n",
        "\n",
        "# # Describe Problem\n",
        "# def my_function():\n",
        "#   for i in range(1, 20):\n",
        "#     if i == 20:\n",
        "#       print(\"You got it\")\n",
        "# my_function()\n",
        "\n",
        "# # Reproduce the Bug\n",
        "# from random import randint\n",
        "# dice_imgs = [\"❶\", \"❷\", \"❸\", \"❹\", \"❺\", \"❻\"]\n",
        "# dice_num = randint(1, 6)\n",
        "# print(dice_imgs[dice_num])\n",
        "\n",
        "# # Play Computer\n",
        "# year = int(input(\"What's your year of birth?\"))\n",
        "# if year > 1980 and year < 1994:\n",
        "#   print(\"You are a millenial.\")\n",
        "# elif year > 1994:\n",
        "#   print(\"You are a Gen Z.\")\n",
        "\n",
        "# # Fix the Errors\n",
        "# age = input(\"How old are you?\")\n",
        "# if age > 18:\n",
        "# print(\"You can drive at age {age}.\")\n",
        "\n",
        "# #Print is Your Friend\n",
        "# pages = 0\n",
        "# word_per_page = 0\n",
        "# pages = int(input(\"Number of pages: \"))\n",
        "# word_per_page == int(input(\"Number of words per page: \"))\n",
        "# total_words = pages * word_per_page\n",
        "# print(total_words)\n",
        "\n",
        "# #Use a Debugger\n",
        "# def mutate(a_list):\n",
        "#   b_list = []\n",
        "#   for item in a_list:\n",
        "#     new_item = item * 2\n",
        "#   b_list.append(new_item)\n",
        "#   print(b_list)\n",
        "\n",
        "# mutate([1,2,3,5,8,13])"
      ]
    },
    {
      "cell_type": "code",
      "source": [
        "# Describe Problem\n",
        "def my_function():\n",
        "  for i in range(1, 21):\n",
        "    if i == 20:\n",
        "      print(\"You got it\")\n",
        "\n",
        "my_function()"
      ],
      "metadata": {
        "colab": {
          "base_uri": "https://localhost:8080/"
        },
        "id": "BmkNm43SKH9y",
        "outputId": "ee24fc4b-7dec-4094-984a-18487cd6391e"
      },
      "execution_count": null,
      "outputs": [
        {
          "output_type": "stream",
          "name": "stdout",
          "text": [
            "You got it\n"
          ]
        }
      ]
    },
    {
      "cell_type": "code",
      "source": [
        "# Reproduce the Bug\n",
        "from random import randint\n",
        "dice_imgs = [\"1️⃣\", \"2️⃣\", \"3️⃣\", \"4️⃣\", \"5️⃣\", \"6️⃣\"]\n",
        "dice_num = randint(0, 5)\n",
        "print(dice_imgs[dice_num])"
      ],
      "metadata": {
        "colab": {
          "base_uri": "https://localhost:8080/"
        },
        "id": "kUpcE7reNFPZ",
        "outputId": "5345590f-c81b-4e90-ad55-5ef94e31baf1"
      },
      "execution_count": null,
      "outputs": [
        {
          "output_type": "stream",
          "name": "stdout",
          "text": [
            "3️⃣\n"
          ]
        }
      ]
    },
    {
      "cell_type": "code",
      "source": [
        "# Play Computer\n",
        "year = int(input(\"What's your year of birth? \"))\n",
        "if year > 1980 and year <= 1994:\n",
        "  print(\"You are a millenial.\")\n",
        "elif year > 1994:\n",
        "  print(\"You are a Gen Z.\")"
      ],
      "metadata": {
        "id": "MHVcrarAO1xB",
        "colab": {
          "base_uri": "https://localhost:8080/"
        },
        "outputId": "38fc2877-90cb-42e4-868f-972b6a67bcf4"
      },
      "execution_count": 2,
      "outputs": [
        {
          "output_type": "stream",
          "name": "stdout",
          "text": [
            "What's your year of birth? 1994\n",
            "You are a millenial.\n"
          ]
        }
      ]
    },
    {
      "cell_type": "code",
      "source": [
        "# Fix the Errors\n",
        "age = int(input(\"How old are you? \"))\n",
        "if age > 18:\n",
        "  print(f\"You can drive at age {age}.\")"
      ],
      "metadata": {
        "id": "1iSBEfgBYKuq",
        "colab": {
          "base_uri": "https://localhost:8080/"
        },
        "outputId": "e6df1c75-95e4-441a-8c70-dfeea23b0d08"
      },
      "execution_count": 10,
      "outputs": [
        {
          "output_type": "stream",
          "name": "stdout",
          "text": [
            "How old are you? 33\n",
            "You can drive at age 33.\n"
          ]
        }
      ]
    },
    {
      "cell_type": "code",
      "source": [
        "#Print is Your Friend\n",
        "pages = 0\n",
        "word_per_page = 0\n",
        "pages = int(input(\"Number of pages: \"))\n",
        "word_per_page = int(input(\"Number of words per page: \"))\n",
        "total_words = pages * word_per_page\n",
        "print(total_words)"
      ],
      "metadata": {
        "colab": {
          "base_uri": "https://localhost:8080/"
        },
        "id": "XCl5xrjwcdfN",
        "outputId": "0c45eaa0-eb57-4c93-af21-cc69bffcb82b"
      },
      "execution_count": 11,
      "outputs": [
        {
          "output_type": "stream",
          "name": "stdout",
          "text": [
            "Number of pages: 40\n",
            "Number of words per page: 40\n",
            "1600\n"
          ]
        }
      ]
    },
    {
      "cell_type": "code",
      "source": [
        "#Use a Debugger\n",
        "def mutate(a_list):\n",
        "  b_list = []\n",
        "  for item in a_list:\n",
        "    new_item = item * 2\n",
        "    b_list.append(new_item)\n",
        "  print(b_list)\n",
        "\n",
        "mutate([1,2,3,5,8,13])"
      ],
      "metadata": {
        "colab": {
          "base_uri": "https://localhost:8080/"
        },
        "id": "Eyoa_04JdeXw",
        "outputId": "4aa0afea-7393-49d0-c8e8-aed6bc86d0d0"
      },
      "execution_count": 13,
      "outputs": [
        {
          "output_type": "stream",
          "name": "stdout",
          "text": [
            "[2, 4, 6, 10, 16, 26]\n"
          ]
        }
      ]
    },
    {
      "cell_type": "markdown",
      "source": [
        "##Exercise 1 - Debbuging Odd or Even"
      ],
      "metadata": {
        "id": "jBmvaaFhg5U1"
      }
    },
    {
      "cell_type": "code",
      "source": [
        "# number = int(input(\"Which number do you want to check?\"))\n",
        "\n",
        "# if number % 2 = 0:\n",
        "#   print(\"This is an even number.\")\n",
        "# else:\n",
        "#   print(\"This is an odd number.\")\n",
        "\n",
        "number = int(input(\"Which number do you want to check? \"))\n",
        "\n",
        "if number % 2 == 0:\n",
        "  print(\"This is an even number. \")\n",
        "else:\n",
        "  print(\"This is an odd number. \")"
      ],
      "metadata": {
        "colab": {
          "base_uri": "https://localhost:8080/"
        },
        "id": "rxqU3TZrg-jn",
        "outputId": "e46cd901-a485-415d-94e8-f199038f3c3e"
      },
      "execution_count": 15,
      "outputs": [
        {
          "output_type": "stream",
          "name": "stdout",
          "text": [
            "Which number do you want to check?33\n",
            "This is an odd number.\n"
          ]
        }
      ]
    },
    {
      "cell_type": "markdown",
      "source": [
        "##Exercise 2 - Debbuging Leap Year"
      ],
      "metadata": {
        "id": "y6hWjE43hzey"
      }
    },
    {
      "cell_type": "code",
      "source": [
        "# year = input(\"Which year do you want to check?\")\n",
        "\n",
        "# if year % 4 == 0:\n",
        "#   if year % 100 == 0:\n",
        "#     if year % 400 == 0:\n",
        "#       print(\"Leap year.\")\n",
        "#     else:\n",
        "#       print(\"Not leap year.\")\n",
        "#   else:\n",
        "#     print(\"Leap year.\")\n",
        "# else:\n",
        "#   print(\"Not leap year.\")\n",
        "\n",
        "year = int(input(\"Which year do you want to check? \"))\n",
        "\n",
        "if year % 4 == 0:\n",
        "  if year % 100 == 0:\n",
        "    if year % 400 == 0:\n",
        "      print(\"Leap year.\")\n",
        "    else:\n",
        "      print(\"Not leap year.\")\n",
        "  else:\n",
        "    print(\"Leap year.\")\n",
        "else:\n",
        "  print(\"Not leap year.\")"
      ],
      "metadata": {
        "colab": {
          "base_uri": "https://localhost:8080/"
        },
        "id": "pBwjkshxh3uG",
        "outputId": "060e8461-162a-4d5f-deeb-9a13c300a6ca"
      },
      "execution_count": 17,
      "outputs": [
        {
          "output_type": "stream",
          "name": "stdout",
          "text": [
            "Which year do you want to check?1992\n",
            "Leap year.\n"
          ]
        }
      ]
    },
    {
      "cell_type": "markdown",
      "source": [
        "##Exercise 3 - Debbuging FizzBuzz"
      ],
      "metadata": {
        "id": "hWriWJ5_jHb-"
      }
    },
    {
      "cell_type": "code",
      "source": [
        "# for number in range(1, 101):\n",
        "#   if number % 3 == 0 or number % 5 == 0:\n",
        "#     print(\"FizzBuzz\")\n",
        "#   if number % 3 == 0:\n",
        "#     print(\"Fizz\")\n",
        "#   if number % 5 == 0:\n",
        "#     print(\"Buzz\")\n",
        "#   else:\n",
        "#     print([number])\n",
        "\n",
        "for number in range(1, 101):\n",
        "  if number % 3 == 0 and number % 5 == 0:\n",
        "    print(\"FizzBuzz\")\n",
        "  elif number % 3 == 0:\n",
        "    print(\"Fizz\")\n",
        "  elif number % 5 == 0:\n",
        "    print(\"Buzz\")\n",
        "  else:\n",
        "    print([number])"
      ],
      "metadata": {
        "colab": {
          "base_uri": "https://localhost:8080/"
        },
        "id": "8nRxl7EsjK_t",
        "outputId": "bbcde490-e3ce-433c-ce4c-d563f260801f"
      },
      "execution_count": 21,
      "outputs": [
        {
          "output_type": "stream",
          "name": "stdout",
          "text": [
            "[1]\n",
            "[2]\n",
            "Fizz\n",
            "[4]\n",
            "Buzz\n",
            "Fizz\n",
            "[7]\n",
            "[8]\n",
            "Fizz\n",
            "Buzz\n",
            "[11]\n",
            "Fizz\n",
            "[13]\n",
            "[14]\n",
            "FizzBuzz\n",
            "[16]\n",
            "[17]\n",
            "Fizz\n",
            "[19]\n",
            "Buzz\n",
            "Fizz\n",
            "[22]\n",
            "[23]\n",
            "Fizz\n",
            "Buzz\n",
            "[26]\n",
            "Fizz\n",
            "[28]\n",
            "[29]\n",
            "FizzBuzz\n",
            "[31]\n",
            "[32]\n",
            "Fizz\n",
            "[34]\n",
            "Buzz\n",
            "Fizz\n",
            "[37]\n",
            "[38]\n",
            "Fizz\n",
            "Buzz\n",
            "[41]\n",
            "Fizz\n",
            "[43]\n",
            "[44]\n",
            "FizzBuzz\n",
            "[46]\n",
            "[47]\n",
            "Fizz\n",
            "[49]\n",
            "Buzz\n",
            "Fizz\n",
            "[52]\n",
            "[53]\n",
            "Fizz\n",
            "Buzz\n",
            "[56]\n",
            "Fizz\n",
            "[58]\n",
            "[59]\n",
            "FizzBuzz\n",
            "[61]\n",
            "[62]\n",
            "Fizz\n",
            "[64]\n",
            "Buzz\n",
            "Fizz\n",
            "[67]\n",
            "[68]\n",
            "Fizz\n",
            "Buzz\n",
            "[71]\n",
            "Fizz\n",
            "[73]\n",
            "[74]\n",
            "FizzBuzz\n",
            "[76]\n",
            "[77]\n",
            "Fizz\n",
            "[79]\n",
            "Buzz\n",
            "Fizz\n",
            "[82]\n",
            "[83]\n",
            "Fizz\n",
            "Buzz\n",
            "[86]\n",
            "Fizz\n",
            "[88]\n",
            "[89]\n",
            "FizzBuzz\n",
            "[91]\n",
            "[92]\n",
            "Fizz\n",
            "[94]\n",
            "Buzz\n",
            "Fizz\n",
            "[97]\n",
            "[98]\n",
            "Fizz\n",
            "Buzz\n"
          ]
        }
      ]
    }
  ]
}