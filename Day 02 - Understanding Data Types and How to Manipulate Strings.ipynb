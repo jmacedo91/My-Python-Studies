{
  "nbformat": 4,
  "nbformat_minor": 0,
  "metadata": {
    "colab": {
      "name": "Day 02 - Tip Calculator.ipynb",
      "provenance": [],
      "collapsed_sections": [],
      "toc_visible": true,
      "authorship_tag": "ABX9TyMxNc4vbtiuxETNQU0HUHGR",
      "include_colab_link": true
    },
    "kernelspec": {
      "name": "python3",
      "display_name": "Python 3"
    },
    "language_info": {
      "name": "python"
    }
  },
  "cells": [
    {
      "cell_type": "markdown",
      "metadata": {
        "id": "view-in-github",
        "colab_type": "text"
      },
      "source": [
        "<a href=\"https://colab.research.google.com/github/jmacedo91/Python-100-Days-of-Code/blob/main/Day_02_Tip_Calculator.ipynb\" target=\"_parent\"><img src=\"https://colab.research.google.com/assets/colab-badge.svg\" alt=\"Open In Colab\"/></a>"
      ]
    },
    {
      "cell_type": "markdown",
      "source": [
        "***\n",
        "# <font color=u size=8>Day 02 - Beginner - Understanding Data Types and How to Manipulate Strings</font>\n",
        "***"
      ],
      "metadata": {
        "id": "kVGHVX-vya2f"
      }
    },
    {
      "cell_type": "markdown",
      "source": [
        "## Primitive Data Types"
      ],
      "metadata": {
        "id": "W8NmKpBezN-E"
      }
    },
    {
      "cell_type": "markdown",
      "source": [
        "###Strings"
      ],
      "metadata": {
        "id": "jKT6kJF_0F8v"
      }
    },
    {
      "cell_type": "code",
      "source": [
        "\"Hello\""
      ],
      "metadata": {
        "colab": {
          "base_uri": "https://localhost:8080/",
          "height": 35
        },
        "id": "K1hjHyVg0PqB",
        "outputId": "7cc5425a-58e8-4320-9b04-daab50126285"
      },
      "execution_count": null,
      "outputs": [
        {
          "output_type": "execute_result",
          "data": {
            "text/plain": [
              "'Hello'"
            ],
            "application/vnd.google.colaboratory.intrinsic+json": {
              "type": "string"
            }
          },
          "metadata": {},
          "execution_count": 5
        }
      ]
    },
    {
      "cell_type": "code",
      "source": [
        "\"Hello\"[0]"
      ],
      "metadata": {
        "colab": {
          "base_uri": "https://localhost:8080/",
          "height": 35
        },
        "id": "ccqDsdxW0YIT",
        "outputId": "4831db11-5c00-44ff-d19f-d8be231c0a11"
      },
      "execution_count": null,
      "outputs": [
        {
          "output_type": "execute_result",
          "data": {
            "text/plain": [
              "'H'"
            ],
            "application/vnd.google.colaboratory.intrinsic+json": {
              "type": "string"
            }
          },
          "metadata": {},
          "execution_count": 6
        }
      ]
    },
    {
      "cell_type": "code",
      "source": [
        "print(\"Hello\"[4])"
      ],
      "metadata": {
        "colab": {
          "base_uri": "https://localhost:8080/"
        },
        "id": "PCU_9Mur0gHI",
        "outputId": "f27506c7-fd75-47f9-faf5-83cb82961000"
      },
      "execution_count": null,
      "outputs": [
        {
          "output_type": "stream",
          "name": "stdout",
          "text": [
            "o\n"
          ]
        }
      ]
    },
    {
      "cell_type": "code",
      "source": [
        "print(\"123\" + \"456\")"
      ],
      "metadata": {
        "colab": {
          "base_uri": "https://localhost:8080/"
        },
        "id": "41BQEndL2dAd",
        "outputId": "60903481-b08a-46bb-c02c-e78fb8b8f036"
      },
      "execution_count": null,
      "outputs": [
        {
          "output_type": "stream",
          "name": "stdout",
          "text": [
            "123456\n"
          ]
        }
      ]
    },
    {
      "cell_type": "code",
      "source": [
        "\"123456\"[3:]"
      ],
      "metadata": {
        "colab": {
          "base_uri": "https://localhost:8080/",
          "height": 35
        },
        "id": "rO-55_L02hr_",
        "outputId": "17dbbac3-976e-4b83-d5c7-e078b80b2003"
      },
      "execution_count": null,
      "outputs": [
        {
          "output_type": "execute_result",
          "data": {
            "text/plain": [
              "'456'"
            ],
            "application/vnd.google.colaboratory.intrinsic+json": {
              "type": "string"
            }
          },
          "metadata": {},
          "execution_count": 13
        }
      ]
    },
    {
      "cell_type": "markdown",
      "source": [
        "### Integer"
      ],
      "metadata": {
        "id": "qxqa098K20pr"
      }
    },
    {
      "cell_type": "code",
      "source": [
        "print(123 + 345)"
      ],
      "metadata": {
        "colab": {
          "base_uri": "https://localhost:8080/"
        },
        "id": "kzgSSTi-24vX",
        "outputId": "f2d1f7b6-db2c-4979-b22a-9216d2e835eb"
      },
      "execution_count": null,
      "outputs": [
        {
          "output_type": "stream",
          "name": "stdout",
          "text": [
            "468\n"
          ]
        }
      ]
    },
    {
      "cell_type": "code",
      "source": [
        "123_456_789"
      ],
      "metadata": {
        "colab": {
          "base_uri": "https://localhost:8080/"
        },
        "id": "1-ADAdpH4etr",
        "outputId": "5ef1b976-b6d2-49d3-91ea-76f6773abe2e"
      },
      "execution_count": null,
      "outputs": [
        {
          "output_type": "execute_result",
          "data": {
            "text/plain": [
              "123456789"
            ]
          },
          "metadata": {},
          "execution_count": 15
        }
      ]
    },
    {
      "cell_type": "markdown",
      "source": [
        "### Float"
      ],
      "metadata": {
        "id": "hCxHHN8Q4pUo"
      }
    },
    {
      "cell_type": "code",
      "source": [
        "3.14159"
      ],
      "metadata": {
        "colab": {
          "base_uri": "https://localhost:8080/"
        },
        "id": "r3nex8Be4rSN",
        "outputId": "17827c2d-3ecd-491e-c7dd-fe1e5c6397ed"
      },
      "execution_count": null,
      "outputs": [
        {
          "output_type": "execute_result",
          "data": {
            "text/plain": [
              "3.14159"
            ]
          },
          "metadata": {},
          "execution_count": 16
        }
      ]
    },
    {
      "cell_type": "markdown",
      "source": [
        "### Boolean"
      ],
      "metadata": {
        "id": "ux390XGm4yPX"
      }
    },
    {
      "cell_type": "code",
      "source": [
        "True"
      ],
      "metadata": {
        "colab": {
          "base_uri": "https://localhost:8080/"
        },
        "id": "hisN1NU04rKA",
        "outputId": "d35d2497-82e5-442b-816b-81d557790710"
      },
      "execution_count": null,
      "outputs": [
        {
          "output_type": "execute_result",
          "data": {
            "text/plain": [
              "True"
            ]
          },
          "metadata": {},
          "execution_count": 17
        }
      ]
    },
    {
      "cell_type": "code",
      "source": [
        "False"
      ],
      "metadata": {
        "colab": {
          "base_uri": "https://localhost:8080/"
        },
        "id": "UzfeQQEP451h",
        "outputId": "79a8e2ce-e149-4ed7-ed31-1b6c91fb096e"
      },
      "execution_count": null,
      "outputs": [
        {
          "output_type": "execute_result",
          "data": {
            "text/plain": [
              "False"
            ]
          },
          "metadata": {},
          "execution_count": 18
        }
      ]
    },
    {
      "cell_type": "markdown",
      "source": [
        "### Type Error, Type Checking and Type Conversion"
      ],
      "metadata": {
        "id": "gCPkcPex5Kz1"
      }
    },
    {
      "cell_type": "code",
      "source": [
        "num_char = len(input(\"What's your name? \"))\n",
        "\n",
        "new_num_char = str(num_char)\n",
        "\n",
        "print(\"Your name has \" + new_num_char + \" characters.\")\n"
      ],
      "metadata": {
        "colab": {
          "base_uri": "https://localhost:8080/"
        },
        "id": "L_FB1qIyN-aB",
        "outputId": "e5e8222f-faac-4d85-bc61-0b1a6379dacf"
      },
      "execution_count": null,
      "outputs": [
        {
          "output_type": "stream",
          "name": "stdout",
          "text": [
            "What's your name? Jonathan\n",
            "Your name has 8 characters.\n"
          ]
        }
      ]
    },
    {
      "cell_type": "code",
      "source": [
        "a = 123\n",
        "print(type(a))"
      ],
      "metadata": {
        "colab": {
          "base_uri": "https://localhost:8080/"
        },
        "id": "FY1nYk9BO__3",
        "outputId": "217c8994-9ea8-4878-a5b3-83542459263d"
      },
      "execution_count": null,
      "outputs": [
        {
          "output_type": "stream",
          "name": "stdout",
          "text": [
            "<class 'int'>\n"
          ]
        }
      ]
    },
    {
      "cell_type": "code",
      "source": [
        "a = str(123)\n",
        "print(type(a))"
      ],
      "metadata": {
        "colab": {
          "base_uri": "https://localhost:8080/"
        },
        "id": "r3zC_Bw_PI_Y",
        "outputId": "033fb42d-52fc-4ab9-c36a-b85385a3b415"
      },
      "execution_count": null,
      "outputs": [
        {
          "output_type": "stream",
          "name": "stdout",
          "text": [
            "<class 'str'>\n"
          ]
        }
      ]
    },
    {
      "cell_type": "code",
      "source": [
        "print(70 + float(\"100.5\"))"
      ],
      "metadata": {
        "colab": {
          "base_uri": "https://localhost:8080/"
        },
        "id": "rlaJ0eh2PNq3",
        "outputId": "5a681565-1c39-4c9d-b6de-c9f628c4f360"
      },
      "execution_count": null,
      "outputs": [
        {
          "output_type": "stream",
          "name": "stdout",
          "text": [
            "170.5\n"
          ]
        }
      ]
    },
    {
      "cell_type": "code",
      "source": [
        "print(str(70) + str(100))"
      ],
      "metadata": {
        "colab": {
          "base_uri": "https://localhost:8080/"
        },
        "id": "NhX1LuyuPYom",
        "outputId": "64ce3288-dd9f-4c41-9941-abd410e60e86"
      },
      "execution_count": null,
      "outputs": [
        {
          "output_type": "stream",
          "name": "stdout",
          "text": [
            "70100\n"
          ]
        }
      ]
    },
    {
      "cell_type": "markdown",
      "source": [
        "### Exercise 1"
      ],
      "metadata": {
        "id": "AnqcC565OB2D"
      }
    },
    {
      "cell_type": "code",
      "source": [
        "# 🚨 Don't change the code below 👇\n",
        "two_digit_number = input(\"Type a two digit number: \")\n",
        "# 🚨 Don't change the code above 👆\n",
        "\n",
        "####################################\n",
        "#Write your code below this line 👇\n",
        "print(int(two_digit_number[0]) + int(two_digit_number[1]))"
      ],
      "metadata": {
        "colab": {
          "base_uri": "https://localhost:8080/"
        },
        "id": "FGExCuD8G3KW",
        "outputId": "15e5503c-dfb5-4717-f9fb-6569ad0ab0fc"
      },
      "execution_count": null,
      "outputs": [
        {
          "output_type": "stream",
          "name": "stdout",
          "text": [
            "Type a two digit number: 35\n",
            "8\n"
          ]
        }
      ]
    },
    {
      "cell_type": "markdown",
      "source": [
        "## Mathematical Operations in Python"
      ],
      "metadata": {
        "id": "yTwealcpQhjr"
      }
    },
    {
      "cell_type": "markdown",
      "source": [
        "Priorities:\n",
        "\n",
        "- ()\n",
        "- **\n",
        "- (* or /)\n",
        "- (+ or -)\n"
      ],
      "metadata": {
        "id": "kOu4kjg8R0vA"
      }
    },
    {
      "cell_type": "code",
      "source": [
        "print(3 * 3 + 3 / 3 - 3)"
      ],
      "metadata": {
        "colab": {
          "base_uri": "https://localhost:8080/"
        },
        "id": "RXMF56y3SFru",
        "outputId": "356378f6-2509-4a99-ff79-6c665ba3e7ae"
      },
      "execution_count": null,
      "outputs": [
        {
          "output_type": "stream",
          "name": "stdout",
          "text": [
            "7.0\n"
          ]
        }
      ]
    },
    {
      "cell_type": "code",
      "source": [
        "print(3 * (3 + 3) / 3 - 3)"
      ],
      "metadata": {
        "colab": {
          "base_uri": "https://localhost:8080/"
        },
        "id": "1ksqpY13SJXE",
        "outputId": "02c275dc-575e-4f4a-fe92-3d37f21ed242"
      },
      "execution_count": null,
      "outputs": [
        {
          "output_type": "stream",
          "name": "stdout",
          "text": [
            "3.0\n"
          ]
        }
      ]
    },
    {
      "cell_type": "markdown",
      "source": [
        "### Exercise 2"
      ],
      "metadata": {
        "id": "ykszfBx-O9J5"
      }
    },
    {
      "cell_type": "code",
      "source": [
        "# 🚨 Don't change the code below 👇\n",
        "height = input(\"enter your height in m: \")\n",
        "weight = input(\"enter your weight in kg: \")\n",
        "# 🚨 Don't change the code above 👆\n",
        "\n",
        "#Write your code below this line 👇\n",
        "bmi = int(weight) / float(height) ** 2\n",
        "bmi = int(bmi)\n",
        "print(bmi)"
      ],
      "metadata": {
        "id": "JAYjl5kBO_X5",
        "colab": {
          "base_uri": "https://localhost:8080/"
        },
        "outputId": "6b5af82f-4f26-4a4a-eb1a-7ca62a4fdea1"
      },
      "execution_count": null,
      "outputs": [
        {
          "output_type": "stream",
          "name": "stdout",
          "text": [
            "enter your height in m: 1.7\n",
            "enter your weight in kg: 60\n",
            "20\n"
          ]
        }
      ]
    },
    {
      "cell_type": "markdown",
      "source": [
        "## Number Manipulation and F Strings em Python"
      ],
      "metadata": {
        "id": "flc7cLl6VKnA"
      }
    },
    {
      "cell_type": "code",
      "source": [
        "print(8 / 3)"
      ],
      "metadata": {
        "colab": {
          "base_uri": "https://localhost:8080/"
        },
        "id": "TbI2aeudVTqG",
        "outputId": "1fe2f44c-4a0f-4e3c-9fc8-211f807750dc"
      },
      "execution_count": null,
      "outputs": [
        {
          "output_type": "stream",
          "name": "stdout",
          "text": [
            "2.6666666666666665\n"
          ]
        }
      ]
    },
    {
      "cell_type": "code",
      "source": [
        "print(int(8 / 3))"
      ],
      "metadata": {
        "colab": {
          "base_uri": "https://localhost:8080/"
        },
        "id": "NzW0GB-fYj3W",
        "outputId": "ca03d7da-cff2-4a73-8713-14eb69c81b14"
      },
      "execution_count": null,
      "outputs": [
        {
          "output_type": "stream",
          "name": "stdout",
          "text": [
            "2\n"
          ]
        }
      ]
    },
    {
      "cell_type": "code",
      "source": [
        "print(8 // 3) # Floor Division"
      ],
      "metadata": {
        "colab": {
          "base_uri": "https://localhost:8080/"
        },
        "id": "XbwdF61AYn_E",
        "outputId": "055e82d0-45aa-49a2-a819-caeefd798115"
      },
      "execution_count": null,
      "outputs": [
        {
          "output_type": "stream",
          "name": "stdout",
          "text": [
            "2\n"
          ]
        }
      ]
    },
    {
      "cell_type": "code",
      "source": [
        "print(round(8 / 3))"
      ],
      "metadata": {
        "colab": {
          "base_uri": "https://localhost:8080/"
        },
        "id": "uaAh6ghlZrNw",
        "outputId": "5b8e3787-c592-4beb-e926-dd569eb9a958"
      },
      "execution_count": null,
      "outputs": [
        {
          "output_type": "stream",
          "name": "stdout",
          "text": [
            "3\n"
          ]
        }
      ]
    },
    {
      "cell_type": "code",
      "source": [
        "print(round((8 / 3), 2))"
      ],
      "metadata": {
        "colab": {
          "base_uri": "https://localhost:8080/"
        },
        "id": "1ZpAGw14ZwaO",
        "outputId": "95a7df9c-b3fe-4bd3-d717-7a3ae1b8b43a"
      },
      "execution_count": null,
      "outputs": [
        {
          "output_type": "stream",
          "name": "stdout",
          "text": [
            "2.67\n"
          ]
        }
      ]
    },
    {
      "cell_type": "code",
      "source": [
        "result = 4 / 2\n",
        "result /= 2\n",
        "print(result)"
      ],
      "metadata": {
        "colab": {
          "base_uri": "https://localhost:8080/"
        },
        "id": "N71A9IWpc1J5",
        "outputId": "1b1700ba-0a93-4318-9ead-dca42b5e24b9"
      },
      "execution_count": null,
      "outputs": [
        {
          "output_type": "stream",
          "name": "stdout",
          "text": [
            "1.0\n"
          ]
        }
      ]
    },
    {
      "cell_type": "code",
      "source": [
        "score = 0\n",
        "score += 1\n",
        "print(score)"
      ],
      "metadata": {
        "colab": {
          "base_uri": "https://localhost:8080/"
        },
        "id": "5I1kkNMRdJ2Z",
        "outputId": "7a80e767-080c-4a8d-fa09-a93dc4a529d4"
      },
      "execution_count": null,
      "outputs": [
        {
          "output_type": "stream",
          "name": "stdout",
          "text": [
            "1\n"
          ]
        }
      ]
    },
    {
      "cell_type": "code",
      "source": [
        "print(f\"Your score is {score}\")"
      ],
      "metadata": {
        "colab": {
          "base_uri": "https://localhost:8080/"
        },
        "id": "2JdmDlYNdPwa",
        "outputId": "09ebb6bc-713b-49ad-f25e-5d7268c3261b"
      },
      "execution_count": null,
      "outputs": [
        {
          "output_type": "stream",
          "name": "stdout",
          "text": [
            "Your score is 1\n"
          ]
        }
      ]
    },
    {
      "cell_type": "markdown",
      "source": [
        "### Exercise 3"
      ],
      "metadata": {
        "id": "qxFIwQOLPE4_"
      }
    },
    {
      "cell_type": "code",
      "source": [
        "# 🚨 Don't change the code below 👇\n",
        "age = input(\"What is your current age? \")\n",
        "# 🚨 Don't change the code above 👆\n",
        "\n",
        "#Write your code below this line 👇\n",
        "days_left = (90 - int(age)) * 365\n",
        "weeks_left = (90 - int(age)) * 52\n",
        "months_left = (90 - int(age)) * 12\n",
        "\n",
        "print(f'You have {days_left} days, {weeks_left} weeks, and {months_left} months left.')"
      ],
      "metadata": {
        "colab": {
          "base_uri": "https://localhost:8080/"
        },
        "id": "5d7wMBV-PDVo",
        "outputId": "1ff4aa0b-4499-4101-a1a7-fe70a1a73d9c"
      },
      "execution_count": null,
      "outputs": [
        {
          "output_type": "stream",
          "name": "stdout",
          "text": [
            "What is your current age? 32\n",
            "You have 21170 days, 3016 weeks, and 696 months left.\n"
          ]
        }
      ]
    },
    {
      "cell_type": "markdown",
      "source": [
        "# Day 2 Project - Tip Calculator 🧮"
      ],
      "metadata": {
        "id": "sVi8DrZlV4YD"
      }
    },
    {
      "cell_type": "code",
      "source": [
        "#If the bill was $150.00, split between 5 people, with 12% tip. \n",
        "\n",
        "#Each person should pay (150.00 / 5) * 1.12 = 33.6\n",
        "#Format the result to 2 decimal places = 33.60\n",
        "\n",
        "#Tip: There are 2 ways to round a number. You might have to do some Googling to solve this.💪\n",
        "\n",
        "#Write your code below this line 👇\n",
        "print('Welcome to the tip calculator!', end = '\\n\\n')\n",
        "\n",
        "bill = float(input('What was the total bill? $'))\n",
        "tip = int(input('How much tip would you like to give? 10, 12, or 15? '))\n",
        "people = int(input('How many people to split the bill? '))\n",
        "\n",
        "bill_with_tip = (bill * (1 + (tip / 100))) / people\n",
        "\n",
        "\n",
        "# Two ways to round the number\n",
        "bill_with_tip = round(bill_with_tip, 2)\n",
        "bill_with_tip = '{:.2f}'.format(bill_with_tip)\n",
        "\n",
        "print(f'Each person should pay: ${bill_with_tip}')"
      ],
      "metadata": {
        "colab": {
          "base_uri": "https://localhost:8080/"
        },
        "id": "zo0oTCZwVt9n",
        "outputId": "9880c32a-0f38-42f8-d8b2-2b5397d54afc"
      },
      "execution_count": null,
      "outputs": [
        {
          "output_type": "stream",
          "name": "stdout",
          "text": [
            "Welcome to the tip calculator!\n",
            "\n",
            "What was the total bill? $500\n",
            "How much tip would you like to give? 10, 12, or 15? 10\n",
            "How many people to split the bill? 7\n",
            "Each person should pay: $78.57\n"
          ]
        }
      ]
    }
  ]
}