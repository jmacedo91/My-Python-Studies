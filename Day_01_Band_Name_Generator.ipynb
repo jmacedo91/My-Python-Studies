{
  "nbformat": 4,
  "nbformat_minor": 0,
  "metadata": {
    "colab": {
      "name": "Day 01 - Band Name Generator.ipynb",
      "provenance": [],
      "toc_visible": true,
      "authorship_tag": "ABX9TyMjmt5eeZqWGxQATjWPs9VS",
      "include_colab_link": true
    },
    "kernelspec": {
      "name": "python3",
      "display_name": "Python 3"
    },
    "language_info": {
      "name": "python"
    }
  },
  "cells": [
    {
      "cell_type": "markdown",
      "metadata": {
        "id": "view-in-github",
        "colab_type": "text"
      },
      "source": [
        "<a href=\"https://colab.research.google.com/github/jmacedo91/My-Python-Studies/blob/main/Day_01_Band_Name_Generator.ipynb\" target=\"_parent\"><img src=\"https://colab.research.google.com/assets/colab-badge.svg\" alt=\"Open In Colab\"/></a>"
      ]
    },
    {
      "cell_type": "markdown",
      "source": [
        "***\n",
        "# <font color=u size=8>Day 01 - Beginner - Working with Variables in Python to Manage Data</font>\n",
        "***"
      ],
      "metadata": {
        "id": "Vch19HylfmMw"
      }
    },
    {
      "cell_type": "markdown",
      "source": [
        "## Printing"
      ],
      "metadata": {
        "id": "HQuAhhMLlWYj"
      }
    },
    {
      "cell_type": "code",
      "source": [
        "print(\"Hello World!\")"
      ],
      "metadata": {
        "colab": {
          "base_uri": "https://localhost:8080/"
        },
        "id": "diNFgfXNfWr9",
        "outputId": "a5b43da7-8f33-4d5a-eaa6-37dd24e3affc"
      },
      "execution_count": null,
      "outputs": [
        {
          "output_type": "stream",
          "name": "stdout",
          "text": [
            "Hello World!\n"
          ]
        }
      ]
    },
    {
      "cell_type": "code",
      "source": [
        "print('Olá Mundo!')"
      ],
      "metadata": {
        "colab": {
          "base_uri": "https://localhost:8080/"
        },
        "id": "h1iIs3zplmY1",
        "outputId": "ad5b6ee7-a115-4298-b1d9-7d944a15241b"
      },
      "execution_count": null,
      "outputs": [
        {
          "output_type": "stream",
          "name": "stdout",
          "text": [
            "Olá Mundo!\n"
          ]
        }
      ]
    },
    {
      "cell_type": "markdown",
      "source": [
        "### Exercice 1 - Printing"
      ],
      "metadata": {
        "id": "dBCysaZXi7h9"
      }
    },
    {
      "cell_type": "markdown",
      "source": [
        "After you have written your code, you should run your program and it should print the following:\n",
        "\n",
        "Day 1 - Python Print Function\n",
        "\n",
        "The function is declared like this:\n",
        "\n",
        "print('what to print')"
      ],
      "metadata": {
        "id": "uwF-cZBTkC_V"
      }
    },
    {
      "cell_type": "code",
      "source": [
        "print(\"Day 1 - Python Print Function\")\n",
        "print(\"The function is declared like this:\")\n",
        "print(\"print('what to print')\")"
      ],
      "metadata": {
        "colab": {
          "base_uri": "https://localhost:8080/"
        },
        "id": "mImmtkMSi7Le",
        "outputId": "c07a2f57-0873-49a5-8b72-3b6a4983fa67"
      },
      "execution_count": null,
      "outputs": [
        {
          "output_type": "stream",
          "name": "stdout",
          "text": [
            "Day 1 - Python Print Function\n",
            "The function is declared like this:\n",
            "print('what to print')\n"
          ]
        }
      ]
    },
    {
      "cell_type": "markdown",
      "source": [
        "## String Manipulation and Code Intelligence"
      ],
      "metadata": {
        "id": "KXmaK07TlZhL"
      }
    },
    {
      "cell_type": "code",
      "source": [
        "print(\"Hello\" + \"Jonathan.\") # String Concatenation"
      ],
      "metadata": {
        "colab": {
          "base_uri": "https://localhost:8080/"
        },
        "id": "LSemoWRNlk1c",
        "outputId": "2a1f496d-92cd-404e-cda8-124aaeb89d48"
      },
      "execution_count": null,
      "outputs": [
        {
          "output_type": "stream",
          "name": "stdout",
          "text": [
            "HelloJonathan.\n"
          ]
        }
      ]
    },
    {
      "cell_type": "code",
      "source": [
        "print(\"Hello \" + \"Jonathan.\")"
      ],
      "metadata": {
        "colab": {
          "base_uri": "https://localhost:8080/"
        },
        "id": "cy2sw96jmM-N",
        "outputId": "87682a2b-ef6f-4a7f-cf6e-92ffe0b18664"
      },
      "execution_count": null,
      "outputs": [
        {
          "output_type": "stream",
          "name": "stdout",
          "text": [
            "Hello Jonathan.\n"
          ]
        }
      ]
    },
    {
      "cell_type": "code",
      "source": [
        "print(\"Hello\" + \" \" + \"Jonathan.\")"
      ],
      "metadata": {
        "colab": {
          "base_uri": "https://localhost:8080/"
        },
        "id": "6KCvGSY2mZo4",
        "outputId": "117e6f5b-6e66-4237-fc09-086d7cb30201"
      },
      "execution_count": null,
      "outputs": [
        {
          "output_type": "stream",
          "name": "stdout",
          "text": [
            "Hello Jonathan.\n"
          ]
        }
      ]
    },
    {
      "cell_type": "code",
      "source": [
        "print(\"Hello\", \"Jonathan\")"
      ],
      "metadata": {
        "colab": {
          "base_uri": "https://localhost:8080/"
        },
        "id": "o-YkpBwcoE11",
        "outputId": "61173bfc-0292-40e3-f625-db9313a27509"
      },
      "execution_count": null,
      "outputs": [
        {
          "output_type": "stream",
          "name": "stdout",
          "text": [
            "Hello Jonathan\n"
          ]
        }
      ]
    },
    {
      "cell_type": "markdown",
      "source": [
        "### Exercice 2 - Debugging the Code"
      ],
      "metadata": {
        "id": "qmEqBDRsoMIV"
      }
    },
    {
      "cell_type": "markdown",
      "source": [
        "Fix the code below 👇\n",
        "\n",
        "print(Day 1 - String Manipulation\")\n",
        "\n",
        "print(\"String Concatenation is done with the \"+\" sign.\")\n",
        "\n",
        "\n",
        "> print('e.g. print(\"Hello \" + \"world\")')\n",
        "\n",
        "\n",
        "print((\"New lines can be created with a backslash and n.\")"
      ],
      "metadata": {
        "id": "1diXDwy7oe9q"
      }
    },
    {
      "cell_type": "code",
      "source": [
        "#Fix the code below 👇\n",
        "\n",
        "print(\"Day 1 - String Manipulation\")\n",
        "print(\"String Concatenation is done with the\" + \" sign.\")\n",
        "print('e.g. print(\"Hello \" + \"world\")')\n",
        "print(\"New lines can be created with a backslash and n.\")"
      ],
      "metadata": {
        "colab": {
          "base_uri": "https://localhost:8080/"
        },
        "id": "uV_iDrL-oeYn",
        "outputId": "ead1b7fb-7e03-4a2f-9f4d-6e354cca7393"
      },
      "execution_count": null,
      "outputs": [
        {
          "output_type": "stream",
          "name": "stdout",
          "text": [
            "Day 1 - String Manipulation\n",
            "String Concatenation is done with the sign.\n",
            "e.g. print(\"Hello \" + \"world\")\n",
            "New lines can be created with a backslash and n.\n"
          ]
        }
      ]
    },
    {
      "cell_type": "markdown",
      "source": [
        "## Input Function"
      ],
      "metadata": {
        "id": "Y_TYBxE22YG1"
      }
    },
    {
      "cell_type": "code",
      "source": [
        "input(\"What is your name?\")"
      ],
      "metadata": {
        "colab": {
          "base_uri": "https://localhost:8080/",
          "height": 53
        },
        "id": "5frduZqx2cRe",
        "outputId": "1e03e34a-3957-44ae-891b-ed109c6b9d08"
      },
      "execution_count": null,
      "outputs": [
        {
          "name": "stdout",
          "output_type": "stream",
          "text": [
            "What is your name?Jonathan\n"
          ]
        },
        {
          "output_type": "execute_result",
          "data": {
            "text/plain": [
              "'Jonathan'"
            ],
            "application/vnd.google.colaboratory.intrinsic+json": {
              "type": "string"
            }
          },
          "metadata": {},
          "execution_count": 12
        }
      ]
    },
    {
      "cell_type": "code",
      "source": [
        "print(\"Hello \" + input(\"What is your name? \") + \"!\")"
      ],
      "metadata": {
        "colab": {
          "base_uri": "https://localhost:8080/"
        },
        "id": "T3t5ZRwd2lwC",
        "outputId": "975bfa58-4c81-4c91-b343-1f6fc7c87725"
      },
      "execution_count": null,
      "outputs": [
        {
          "output_type": "stream",
          "name": "stdout",
          "text": [
            "What is your name? Jonathan\n",
            "Hello Jonathan!\n"
          ]
        }
      ]
    },
    {
      "cell_type": "markdown",
      "source": [
        "### Exercise 3 - Inputs exercise\n",
        "\n",
        "Write a program that prints the number of characters in a user's name. You might need to Google for a function that calculates the length of a string."
      ],
      "metadata": {
        "id": "hfnt2QjU30mn"
      }
    },
    {
      "cell_type": "code",
      "source": [
        "\n",
        "print(len(input(\"What's your name? \")))"
      ],
      "metadata": {
        "colab": {
          "base_uri": "https://localhost:8080/"
        },
        "id": "10bWPoDW4Sa_",
        "outputId": "88c01bff-3e32-411f-c410-53b08a9091e4"
      },
      "execution_count": null,
      "outputs": [
        {
          "output_type": "stream",
          "name": "stdout",
          "text": [
            "What's your name? Jonathan\n",
            "8\n"
          ]
        }
      ]
    },
    {
      "cell_type": "markdown",
      "source": [
        "## Python Variables"
      ],
      "metadata": {
        "id": "PDUNdJZR8C3X"
      }
    },
    {
      "cell_type": "code",
      "source": [
        "name = input(\"What's your name? \")\n",
        "print(name)"
      ],
      "metadata": {
        "colab": {
          "base_uri": "https://localhost:8080/"
        },
        "id": "pIOaAVA18a19",
        "outputId": "e2c9a49c-2dd2-467d-ba0d-35aef6d5eb15"
      },
      "execution_count": null,
      "outputs": [
        {
          "output_type": "stream",
          "name": "stdout",
          "text": [
            "Jack?\n"
          ]
        }
      ]
    },
    {
      "cell_type": "code",
      "source": [
        "name = \"Jack\"\n",
        "print(name)\n",
        "\n",
        "name = \"Angela\"\n",
        "print(name)"
      ],
      "metadata": {
        "colab": {
          "base_uri": "https://localhost:8080/"
        },
        "id": "Zp4_GKtS83Rd",
        "outputId": "4b7da8ed-179d-4e2b-b3f2-db3f0936f621"
      },
      "execution_count": null,
      "outputs": [
        {
          "output_type": "stream",
          "name": "stdout",
          "text": [
            "Jack\n",
            "Angela\n"
          ]
        }
      ]
    },
    {
      "cell_type": "code",
      "source": [
        "name = input(\"What's your name? \")\n",
        "length = len(name)\n",
        "print(length)"
      ],
      "metadata": {
        "colab": {
          "base_uri": "https://localhost:8080/"
        },
        "id": "JqlB40wo9Mzq",
        "outputId": "45eae027-e0c8-455b-d9f7-8ee90914240a"
      },
      "execution_count": null,
      "outputs": [
        {
          "output_type": "stream",
          "name": "stdout",
          "text": [
            "What's your name? Ozzy\n",
            "4\n"
          ]
        }
      ]
    },
    {
      "cell_type": "markdown",
      "source": [
        "### Exercise 4 - Variables Exercise"
      ],
      "metadata": {
        "id": "C8yxFlYK9fkz"
      }
    },
    {
      "cell_type": "markdown",
      "source": [
        "Write a program that switches the values stored in the variables a and b.\n",
        "\n",
        "Warning. Do not change the code on lines 1-4 and 12-18. Your program should work for different inputs. e.g. any value of a and b."
      ],
      "metadata": {
        "id": "gmkhsP_59-Vo"
      }
    },
    {
      "cell_type": "code",
      "source": [
        "# 🚨 Don't change the code below 👇\n",
        "a = input(\"a: \")\n",
        "b = input(\"b: \")\n",
        "# 🚨 Don't change the code above 👆\n",
        "\n",
        "####################################\n",
        "#Write your code below this line 👇\n",
        "c = a\n",
        "a = b\n",
        "b = c\n",
        "#Write your code above this line 👆\n",
        "####################################\n",
        "\n",
        "# 🚨 Don't change the code below 👇\n",
        "print(\"a: \" + a)\n",
        "print(\"b: \" + b)"
      ],
      "metadata": {
        "colab": {
          "base_uri": "https://localhost:8080/"
        },
        "id": "dSAu1VSR9m9h",
        "outputId": "786824a8-26b7-48e0-e027-d980bd6d2c68"
      },
      "execution_count": null,
      "outputs": [
        {
          "output_type": "stream",
          "name": "stdout",
          "text": [
            "a: 3\n",
            "b: 5\n",
            "a: 5\n",
            "b: 3\n"
          ]
        }
      ]
    },
    {
      "cell_type": "markdown",
      "source": [
        "# Day 1 Project: The Band Name Generator"
      ],
      "metadata": {
        "id": "HuAAKJ2XEN9p"
      }
    },
    {
      "cell_type": "code",
      "execution_count": null,
      "metadata": {
        "colab": {
          "base_uri": "https://localhost:8080/"
        },
        "id": "IzdYo5s96nGn",
        "outputId": "0537c511-ea6e-420b-ddcd-82df10efd02a"
      },
      "outputs": [
        {
          "output_type": "stream",
          "name": "stdout",
          "text": [
            "*****************************************\n",
            "🤘 Welcome to the Band Name Generator 🎸\n",
            "*****************************************\n",
            "What's name of the city you grew up in?\n",
            "Osasco\n",
            "What's your pet's name?\n",
            "Ozzy\n",
            "Your band name could be Osasco Ozzy\n"
          ]
        }
      ],
      "source": [
        "#1. Create a greeting for your program.\n",
        "print('*****************************************')\n",
        "print('🤘 Welcome to the Band Name Generator 🎸')\n",
        "print('*****************************************')\n",
        "#2. Ask the user for the city that they grew up in.\n",
        "city = input(\"What's name of the city you grew up in?\\n\")\n",
        "#3. Ask the user for the name of a pet.\n",
        "pet = input(\"What's your pet's name?\\n\")\n",
        "#4. Combine the name of their city and pet and show them their band name.\n",
        "print('Your band name could be', city, pet)\n",
        "#5. Make sure the input cursor shows on a new line, see the example at:\n",
        "#   https://replit.com/@appbrewery/band-name-generator-end"
      ]
    },
    {
      "cell_type": "code",
      "source": [
        "#1. Create a greeting for your program.\n",
        "print('*****************************************')\n",
        "print('❤️ Welcome to the Couple Card ❤️')\n",
        "print('*****************************************')\n",
        "\n",
        "#2. Ask the user their name.\n",
        "user_name = input(\"What's your name?\\n\")\n",
        "\n",
        "#3. Ask the user for the partner's name.\n",
        "partner = input(\"\\nWhat's your partner's name?\\n\")\n",
        "\n",
        "#4. Combine your name with your partner's name.\n",
        "print(\"\"\"\n",
        "            reICareI                           reICareIC\n",
        "         ICareICareICar                     ICareICareICare\n",
        "       reICareICareICareI                 reICareICareICareIC\n",
        "     CareICareICareICareICa             reICareICareICareICareI\n",
        "    ICarICareICareICareICareI          ICareICareICareICareICareI\n",
        "  ICarICareICareICareICareICare      CareICareICareICareICareICare\n",
        " ICareICareICareICareICareICareI    CareICareICareICareICareICareICa\n",
        "ICaICareICareICareICareICareICareI ICareICareICareICareICareICareICar\n",
        "eICareICareICareICareICareICareICareICareICareICareICareICareICareICar\n",
        " ICareICareICareICareICareICareICareICareICareICareICareICareICareICar\n",
        "  ICareICareICareICareICareICareICareICareICareICareICareICareICareIc\n",
        "   eICareICareICareICareICareICareICareICareICareICareICareICareICa\n",
        "    ICareICareICareICareICareICareICareICareICareICareICareICareI\n",
        "      reICareICareICareICareICareICareICareICareICareICareICare\n",
        "        ICareICareICareICareICareICareICareICareICareICareICa\n",
        "          reICareICareICareICareICareICareICareICareICareIc\n",
        "            ICareICareICareICareICareICareICareICareICare\n",
        "              reICareICareICareIICareICareICareICareIca\n",
        "                ICareICareICareICareICareICareICarICa\n",
        "                   reICareICareICareICareICarICare\n",
        "                      areICareICareICareICareICa\n",
        "                         ICareICareICareICare\n",
        "                           areICareICareICa\n",
        "                             eICareICareI   \"\"\" + user_name + \" ❤️ \" + partner + \"\"\"\n",
        "                               CareICar\n",
        "                                 reIC\n",
        "                                  eI\"\"\")"
      ],
      "metadata": {
        "id": "enTSRbCW3E8Y",
        "colab": {
          "base_uri": "https://localhost:8080/"
        },
        "outputId": "e5122510-d5ea-494e-f627-7ce5e9ec2b76"
      },
      "execution_count": 1,
      "outputs": [
        {
          "output_type": "stream",
          "name": "stdout",
          "text": [
            "*****************************************\n",
            "❤️ Welcome to the Couple Card ❤️\n",
            "*****************************************\n",
            "What's your name?\n",
            "Jonathan\n",
            "\n",
            "What's your partner's name?\n",
            "Lívia\n",
            "\n",
            "            reICareI                           reICareIC\n",
            "         ICareICareICar                     ICareICareICare\n",
            "       reICareICareICareI                 reICareICareICareIC\n",
            "     CareICareICareICareICa             reICareICareICareICareI\n",
            "    ICarICareICareICareICareI          ICareICareICareICareICareI\n",
            "  ICarICareICareICareICareICare      CareICareICareICareICareICare\n",
            " ICareICareICareICareICareICareI    CareICareICareICareICareICareICa\n",
            "ICaICareICareICareICareICareICareI ICareICareICareICareICareICareICar\n",
            "eICareICareICareICareICareICareICareICareICareICareICareICareICareICar\n",
            " ICareICareICareICareICareICareICareICareICareICareICareICareICareICar\n",
            "  ICareICareICareICareICareICareICareICareICareICareICareICareICareIc\n",
            "   eICareICareICareICareICareICareICareICareICareICareICareICareICa\n",
            "    ICareICareICareICareICareICareICareICareICareICareICareICareI\n",
            "      reICareICareICareICareICareICareICareICareICareICareICare\n",
            "        ICareICareICareICareICareICareICareICareICareICareICa\n",
            "          reICareICareICareICareICareICareICareICareICareIc\n",
            "            ICareICareICareICareICareICareICareICareICare\n",
            "              reICareICareICareIICareICareICareICareIca\n",
            "                ICareICareICareICareICareICareICarICa\n",
            "                   reICareICareICareICareICarICare\n",
            "                      areICareICareICareICareICa\n",
            "                         ICareICareICareICare\n",
            "                           areICareICareICa\n",
            "                             eICareICareI   Jonathan ❤️ Lívia\n",
            "                               CareICar\n",
            "                                 reIC\n",
            "                                  eI\n"
          ]
        }
      ]
    }
  ]
}