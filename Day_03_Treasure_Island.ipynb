{
  "nbformat": 4,
  "nbformat_minor": 0,
  "metadata": {
    "colab": {
      "name": "Day 03 - Treasure Island.ipynb",
      "provenance": [],
      "toc_visible": true,
      "authorship_tag": "ABX9TyNK9EYt8gtvIU2ugBCJsQJk",
      "include_colab_link": true
    },
    "kernelspec": {
      "name": "python3",
      "display_name": "Python 3"
    },
    "language_info": {
      "name": "python"
    }
  },
  "cells": [
    {
      "cell_type": "markdown",
      "metadata": {
        "id": "view-in-github",
        "colab_type": "text"
      },
      "source": [
        "<a href=\"https://colab.research.google.com/github/jmacedo91/Python-100-Days-of-Code/blob/main/Day_03_Treasure_Island.ipynb\" target=\"_parent\"><img src=\"https://colab.research.google.com/assets/colab-badge.svg\" alt=\"Open In Colab\"/></a>"
      ]
    },
    {
      "cell_type": "markdown",
      "source": [
        "***\n",
        "# <font color=u size=8>Day 03 - Beginner - Control Flow and Logical Operators</font>\n",
        "***"
      ],
      "metadata": {
        "id": "VA4GEvBrePpJ"
      }
    },
    {
      "cell_type": "markdown",
      "source": [
        "## Control Flow with if / else and Conditional Operators"
      ],
      "metadata": {
        "id": "VIRz2ga5epr7"
      }
    },
    {
      "cell_type": "code",
      "source": [
        "print(\"Welcome to the rollercoaster!!\")\n",
        "\n",
        "height = int(input(\"What is your height in cm? \"))\n",
        "\n",
        "if height >= 120:\n",
        "  print(\"You can ride the rollercoaster!\")\n",
        "else:\n",
        "  print(\"Sorry, you have to grow taller before you can ride.\")"
      ],
      "metadata": {
        "colab": {
          "base_uri": "https://localhost:8080/"
        },
        "id": "5_6DU9NzfmwZ",
        "outputId": "ee8e5a7a-309a-4fa5-b24b-9926506f5e8c"
      },
      "execution_count": null,
      "outputs": [
        {
          "output_type": "stream",
          "name": "stdout",
          "text": [
            "Welcome to the rollercoaster!!\n",
            "What is your height in cm? 90\n",
            "Sorry, you have to grow taller before you can ride.\n"
          ]
        }
      ]
    },
    {
      "cell_type": "markdown",
      "source": [
        "### Exercise 1"
      ],
      "metadata": {
        "id": "D5GmfaklkTc8"
      }
    },
    {
      "cell_type": "code",
      "execution_count": null,
      "metadata": {
        "colab": {
          "base_uri": "https://localhost:8080/"
        },
        "id": "oj_TrS7ijueq",
        "outputId": "189a9327-4086-43c4-a781-77dcd8cdd097"
      },
      "outputs": [
        {
          "output_type": "stream",
          "name": "stdout",
          "text": [
            "Which number do you want to check? 7\n",
            "This is an odd number\n"
          ]
        }
      ],
      "source": [
        "# 🚨 Don't change the code below 👇\n",
        "number = int(input(\"Which number do you want to check? \"))\n",
        "# 🚨 Don't change the code above 👆\n",
        "\n",
        "#Write your code below this line 👇\n",
        "if (number % 2) == 0:\n",
        "  print('This is an even number')\n",
        "else:\n",
        "  print('This is an odd number')"
      ]
    },
    {
      "cell_type": "markdown",
      "source": [
        "## Nested if statements and elif statements"
      ],
      "metadata": {
        "id": "ntya5NgAhNe7"
      }
    },
    {
      "cell_type": "code",
      "source": [
        "print(\"Welcome to the rollercoaster!!\")\n",
        "\n",
        "height = int(input(\"What is your height in cm? \"))\n",
        "\n",
        "if height >= 120:\n",
        "  print(\"You can ride the rollercoaster!\")\n",
        "  age = input(\"What's your age? \")\n",
        "  if age < 12:\n",
        "    print(\"Please pay $5.\")\n",
        "  elif age <= 18:\n",
        "    print(\"Please pay $7.\")\n",
        "  else:\n",
        "    print(\"Please pay $12.\")\n",
        "else:\n",
        "  print(\"Sorry, you have to grow taller before you can ride.\")"
      ],
      "metadata": {
        "id": "UDfNWJFBldB_"
      },
      "execution_count": null,
      "outputs": []
    },
    {
      "cell_type": "markdown",
      "source": [
        "### Exercise 2"
      ],
      "metadata": {
        "id": "nefDl5_RnwbO"
      }
    },
    {
      "cell_type": "code",
      "source": [
        "# 🚨 Don't change the code below 👇\n",
        "height = float(input(\"enter your height in m: \"))\n",
        "weight = float(input(\"enter your weight in kg: \"))\n",
        "# 🚨 Don't change the code above 👆\n",
        "\n",
        "#Write your code below this line 👇\n",
        "bmi = round(weight / height ** 2, 1)\n",
        "\n",
        "if bmi < 18.5:\n",
        "  print(f'Your BMI is {bmi}, you are underweight.')\n",
        "elif bmi < 25:\n",
        "  print(f'Your BMI is {bmi}, you have a normal weight.')\n",
        "elif bmi < 30:\n",
        "  print(f'Your BMI is {bmi}, you are slightly overweight.')\n",
        "elif bmi < 35:\n",
        "  print(f'Your BMI is {bmi}, you are obese.')\n",
        "else:\n",
        "  print(f'Your BMI is {bmi}, you are clinically obese')"
      ],
      "metadata": {
        "id": "a0XK1D6HnxAe",
        "colab": {
          "base_uri": "https://localhost:8080/"
        },
        "outputId": "80de724f-b834-40fc-ba67-4f860172310f"
      },
      "execution_count": null,
      "outputs": [
        {
          "output_type": "stream",
          "name": "stdout",
          "text": [
            "enter your height in m: 1.7\n",
            "enter your weight in kg: 60\n",
            "Your BMI is 20.8, you have a normal weight.\n"
          ]
        }
      ]
    },
    {
      "cell_type": "markdown",
      "source": [
        "### Exercise 3"
      ],
      "metadata": {
        "id": "ZXCHRGNMvbPK"
      }
    },
    {
      "cell_type": "markdown",
      "source": [
        "![leapyear.PNG](data:image/png;base64,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)"
      ],
      "metadata": {
        "id": "QpgOxAQjwryR"
      }
    },
    {
      "cell_type": "code",
      "source": [
        "# 🚨 Don't change the code below 👇\n",
        "year = int(input(\"Which year do you want to check? \"))\n",
        "# 🚨 Don't change the code above 👆\n",
        "\n",
        "#Write your code below this line 👇\n",
        "if year % 4 == 0:\n",
        "  if year % 100 == 0:\n",
        "    if year % 400 == 0:\n",
        "      print('Leap year.')\n",
        "    else:\n",
        "      print('Not leap year.')\n",
        "  else:\n",
        "    print('Leap year.')\n",
        "else:\n",
        "  print('Not leap year.')"
      ],
      "metadata": {
        "colab": {
          "base_uri": "https://localhost:8080/"
        },
        "id": "rLJ464phvcSr",
        "outputId": "4a4568b6-ae76-44ce-a07a-b4905731ab29"
      },
      "execution_count": null,
      "outputs": [
        {
          "output_type": "stream",
          "name": "stdout",
          "text": [
            "Which year do you want to check? 1992\n",
            "Leap year.\n"
          ]
        }
      ]
    },
    {
      "cell_type": "markdown",
      "source": [
        "## Multiple if Statements in Sucession"
      ],
      "metadata": {
        "id": "pjGe2vZhKpGd"
      }
    },
    {
      "cell_type": "markdown",
      "source": [
        "![fc.PNG](data:image/png;base64,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)"
      ],
      "metadata": {
        "id": "qncyhbXaKxHT"
      }
    },
    {
      "cell_type": "code",
      "source": [
        "print(\"Welcome to the rollercoaster!\")\n",
        "height = int(input(\"What is your height in cm? \"))\n",
        "bill = 0\n",
        "\n",
        "if height >= 120:\n",
        "  print(\"You can ride the rollercoaster!\")\n",
        "  age = int(input(\"What is your age? \"))\n",
        "  if age < 12:\n",
        "    bill = 5\n",
        "    print(\"Child tickets are $5.\")\n",
        "  elif age <= 18:\n",
        "    bill = 7\n",
        "    print(\"Youth tickets are $7.\")\n",
        "  elif age >= 45 and age <= 55:\n",
        "    print(\"Everything is going to be ok. Have a ride on us!\")\n",
        "  else:\n",
        "    bill = 12\n",
        "    print(\"Adult tickets are $12.\")\n",
        "  \n",
        "  wants_photo = input(\"Do you want a photo taken? Y or N. \")\n",
        "  if wants_photo == \"Y\":\n",
        "    bill += 3\n",
        "  \n",
        "  print(f\"Your final bill is ${bill}\")\n",
        "\n",
        "else:\n",
        "  print(\"Sorry, you have to grow taller before you can ride.\")"
      ],
      "metadata": {
        "colab": {
          "base_uri": "https://localhost:8080/"
        },
        "id": "yOPdUnig3ZIo",
        "outputId": "b66ed33f-a732-4842-bcfc-d61910978ea3"
      },
      "execution_count": null,
      "outputs": [
        {
          "output_type": "stream",
          "name": "stdout",
          "text": [
            "Welcome to the rollercoaster!\n",
            "What is your height in cm? 170\n",
            "You can ride the rollercoaster!\n",
            "What is your age? 45\n",
            "Everything is going to be ok. Have a ride on us!\n",
            "Do you want a photo taken? Y or N. Y\n",
            "Your final bill is $3\n"
          ]
        }
      ]
    },
    {
      "cell_type": "markdown",
      "source": [
        "### Exercise 4"
      ],
      "metadata": {
        "id": "SDkbj-yV_zAs"
      }
    },
    {
      "cell_type": "code",
      "source": [
        "# 🚨 Don't change the code below 👇\n",
        "print(\"Welcome to Python Pizza Deliveries!\")\n",
        "size = input(\"What size pizza do you want? S, M, or L \")\n",
        "add_pepperoni = input(\"Do you want pepperoni? Y or N \")\n",
        "extra_cheese = input(\"Do you want extra cheese? Y or N \")\n",
        "# 🚨 Don't change the code above 👆\n",
        "\n",
        "#Write your code below this line 👇\n",
        "price = 0\n",
        "\n",
        "#Size\n",
        "if size == \"S\":\n",
        "  price += 15\n",
        "if size == \"M\":\n",
        "  price += 20\n",
        "if size == \"L\":\n",
        "  price += 25\n",
        "\n",
        "# Pepperoni\n",
        "if add_pepperoni == \"Y\":\n",
        "  if size == \"S\":\n",
        "    price += 2\n",
        "  else:\n",
        "    price += 3\n",
        "\n",
        "# Extra Cheese\n",
        "if extra_cheese == \"Y\":\n",
        "  price += 1\n",
        "\n",
        "print(f\"Your final bill is: ${price}\")"
      ],
      "metadata": {
        "colab": {
          "base_uri": "https://localhost:8080/"
        },
        "id": "eNJCn9nI_1hv",
        "outputId": "c26fab13-32a7-4472-eb56-5d2b8efddb6c"
      },
      "execution_count": null,
      "outputs": [
        {
          "output_type": "stream",
          "name": "stdout",
          "text": [
            "Welcome to Python Pizza Deliveries!\n",
            "What size pizza do you want? S, M, or L L\n",
            "Do you want pepperoni? Y or N Y\n",
            "Do you want extra cheese? Y or N Y\n",
            "Your final bill is: $29\n"
          ]
        }
      ]
    },
    {
      "cell_type": "markdown",
      "source": [
        "## Logical Operators"
      ],
      "metadata": {
        "id": "gKIhBJ1pL3L5"
      }
    },
    {
      "cell_type": "code",
      "source": [
        "a = 12"
      ],
      "metadata": {
        "id": "02_aTjWjL6mf"
      },
      "execution_count": null,
      "outputs": []
    },
    {
      "cell_type": "code",
      "source": [
        "a > 10 and a < 15 "
      ],
      "metadata": {
        "colab": {
          "base_uri": "https://localhost:8080/"
        },
        "id": "NjzLqGn7MYNv",
        "outputId": "3dc7df0b-627b-4f71-cc3d-82b0a57061de"
      },
      "execution_count": null,
      "outputs": [
        {
          "output_type": "execute_result",
          "data": {
            "text/plain": [
              "True"
            ]
          },
          "metadata": {},
          "execution_count": 2
        }
      ]
    },
    {
      "cell_type": "code",
      "source": [
        "a > 10 or a > 15"
      ],
      "metadata": {
        "colab": {
          "base_uri": "https://localhost:8080/"
        },
        "id": "2i9QWIN8MiIt",
        "outputId": "7feeac34-c00b-4d5b-8970-7aa5c691dec0"
      },
      "execution_count": null,
      "outputs": [
        {
          "output_type": "execute_result",
          "data": {
            "text/plain": [
              "True"
            ]
          },
          "metadata": {},
          "execution_count": 4
        }
      ]
    },
    {
      "cell_type": "code",
      "source": [
        "a > 15"
      ],
      "metadata": {
        "colab": {
          "base_uri": "https://localhost:8080/"
        },
        "id": "uBq6fHK2Mv-s",
        "outputId": "a9dd5aab-cbe4-43c7-a5e2-b01f9a5c8f47"
      },
      "execution_count": null,
      "outputs": [
        {
          "output_type": "execute_result",
          "data": {
            "text/plain": [
              "False"
            ]
          },
          "metadata": {},
          "execution_count": 5
        }
      ]
    },
    {
      "cell_type": "code",
      "source": [
        "not a > 15"
      ],
      "metadata": {
        "colab": {
          "base_uri": "https://localhost:8080/"
        },
        "id": "mNonXmW7MxxL",
        "outputId": "6921c14f-dad4-43a6-ea81-b107a8cbd909"
      },
      "execution_count": null,
      "outputs": [
        {
          "output_type": "execute_result",
          "data": {
            "text/plain": [
              "True"
            ]
          },
          "metadata": {},
          "execution_count": 6
        }
      ]
    },
    {
      "cell_type": "markdown",
      "source": [
        "### Exercise 5"
      ],
      "metadata": {
        "id": "Eih97BDIEGw8"
      }
    },
    {
      "cell_type": "code",
      "source": [
        "# 🚨 Don't change the code below 👇\n",
        "print(\"Welcome to the Love Calculator!\")\n",
        "name1 = input(\"What is your name? \\n\")\n",
        "name2 = input(\"What is their name? \\n\")\n",
        "# 🚨 Don't change the code above 👆\n",
        "\n",
        "#Write your code below this line 👇\n",
        "test = name1 + name2\n",
        "test = test.lower()\n",
        "\n",
        "total_true = test.count('t') + test.count('r') + test.count('u') + test.count('e')\n",
        "\n",
        "total_love = test.count('l') + test.count('o') + test.count('v') + test.count('e')\n",
        "\n",
        "love_score = (total_true * 10) + total_love\n",
        "\n",
        "if love_score < 10 or love_score > 90:\n",
        "  print(f'Your score is {love_score}, you go together like coke and mentos.')\n",
        "\n",
        "elif love_score > 40 and love_score < 50:\n",
        "  print(f'Your score is {love_score}, you are alright together.')\n",
        "\n",
        "else:\n",
        "  print(f'Your score is {love_score}.')"
      ],
      "metadata": {
        "id": "FV_g_bjmEJY_",
        "colab": {
          "base_uri": "https://localhost:8080/"
        },
        "outputId": "7c02ad77-ef1c-4a67-a51c-5ad5ca435001"
      },
      "execution_count": null,
      "outputs": [
        {
          "output_type": "stream",
          "name": "stdout",
          "text": [
            "Welcome to the Love Calculator!\n",
            "What is your name? \n",
            "Jonathan Macedo\n",
            "What is their name? \n",
            "Luciana Helena\n",
            "Your score is 57.\n"
          ]
        }
      ]
    },
    {
      "cell_type": "markdown",
      "source": [
        "# Day 3 Project: Treasure Island 🗺️"
      ],
      "metadata": {
        "id": "aISul5Y_WtOf"
      }
    },
    {
      "cell_type": "code",
      "source": [
        "print('''\n",
        "*******************************************************************************\n",
        "          |                   |                  |                     |\n",
        " _________|________________.=\"\"_;=.______________|_____________________|_______\n",
        "|                   |  ,-\"_,=\"\"     `\"=.|                  |\n",
        "|___________________|__\"=._o`\"-._        `\"=.______________|___________________\n",
        "          |                `\"=._o`\"=._      _`\"=._                     |\n",
        " _________|_____________________:=._o \"=._.\"_.-=\"'\"=.__________________|_______\n",
        "|                   |    __.--\" , ; `\"=._o.\" ,-\"\"\"-._ \".   |\n",
        "|___________________|_._\"  ,. .` ` `` ,  `\"-._\"-._   \". '__|___________________\n",
        "          |           |o`\"=._` , \"` `; .\". ,  \"-._\"-._; ;              |\n",
        " _________|___________| ;`-.o`\"=._; .\" ` '`.\"\\` . \"-._ /_______________|_______\n",
        "|                   | |o;    `\"-.o`\"=._``  '` \" ,__.--o;   |\n",
        "|___________________|_| ;     (#) `-.o `\"=.`_.--\"_o.-; ;___|___________________\n",
        "____/______/______/___|o;._    \"      `\".o|o_.--\"    ;o;____/______/______/____\n",
        "/______/______/______/_\"=._o--._        ; | ;        ; ;/______/______/______/_\n",
        "____/______/______/______/__\"=._o--._   ;o|o;     _._;o;____/______/______/____\n",
        "/______/______/______/______/____\"=._o._; | ;_.--\"o.--\"_/______/______/______/_\n",
        "____/______/______/______/______/_____\"=.o|o_.--\"\"___/______/______/______/____\n",
        "/______/______/______/______/______/______/______/______/______/______/_____ /\n",
        "*******************************************************************************\n",
        "''')\n",
        "print(\"Welcome to Treasure Island.\")\n",
        "print(\"Your mission is to find the treasure.\") \n",
        "\n",
        "#https://www.draw.io/?lightbox=1&highlight=0000ff&edit=_blank&layers=1&nav=1&title=Treasure%20Island%20Conditional.drawio#Uhttps%3A%2F%2Fdrive.google.com%2Fuc%3Fid%3D1oDe4ehjWZipYRsVfeAx2HyB7LCQ8_Fvi%26export%3Ddownload\n",
        "\n",
        "#Write your code below this line 👇\n",
        "direction = input('You\\'re at a crossroad. Where do you want to go? Type \"left\" or \"right\"\\n').lower()\n",
        "\n",
        "if direction == 'left':\n",
        "  swim_or_wait = input('You\\'ve come to a lake. There is an island in the middle of the lake.\\nType \"wait\" to wait for a boat.Type \"swim\" to swim across.\\n').lower()\n",
        "  if swim_or_wait == 'wait':\n",
        "    which_door = input('You arrive at the island unharmed. There is a house with 3 doors.\\nOne red, one yellow and one blue. Which colour do you choose?\\n').lower()\n",
        "    if which_door == 'yellow':\n",
        "      print('You found the treasure! You Win!')\n",
        "    elif which_door == 'red':\n",
        "      print('It\\'s a room full of fire. Game Over.')\n",
        "    elif which_door == 'blue':\n",
        "      print('You enter a room of beasts. Game Over.')\n",
        "    else:\n",
        "      print('Game Over')      \n",
        "  else:\n",
        "    print('You get attacked by an angry trout. Game Over.')\n",
        "else:\n",
        "  print('You fell into a hole. Game Over')                                 "
      ],
      "metadata": {
        "colab": {
          "base_uri": "https://localhost:8080/"
        },
        "id": "oZcwi_M-W1Uf",
        "outputId": "e90b8ce3-c98c-4338-9e9e-182adb7e4006"
      },
      "execution_count": null,
      "outputs": [
        {
          "output_type": "stream",
          "name": "stdout",
          "text": [
            "\n",
            "*******************************************************************************\n",
            "          |                   |                  |                     |\n",
            " _________|________________.=\"\"_;=.______________|_____________________|_______\n",
            "|                   |  ,-\"_,=\"\"     `\"=.|                  |\n",
            "|___________________|__\"=._o`\"-._        `\"=.______________|___________________\n",
            "          |                `\"=._o`\"=._      _`\"=._                     |\n",
            " _________|_____________________:=._o \"=._.\"_.-=\"'\"=.__________________|_______\n",
            "|                   |    __.--\" , ; `\"=._o.\" ,-\"\"\"-._ \".   |\n",
            "|___________________|_._\"  ,. .` ` `` ,  `\"-._\"-._   \". '__|___________________\n",
            "          |           |o`\"=._` , \"` `; .\". ,  \"-._\"-._; ;              |\n",
            " _________|___________| ;`-.o`\"=._; .\" ` '`.\"\\` . \"-._ /_______________|_______\n",
            "|                   | |o;    `\"-.o`\"=._``  '` \" ,__.--o;   |\n",
            "|___________________|_| ;     (#) `-.o `\"=.`_.--\"_o.-; ;___|___________________\n",
            "____/______/______/___|o;._    \"      `\".o|o_.--\"    ;o;____/______/______/____\n",
            "/______/______/______/_\"=._o--._        ; | ;        ; ;/______/______/______/_\n",
            "____/______/______/______/__\"=._o--._   ;o|o;     _._;o;____/______/______/____\n",
            "/______/______/______/______/____\"=._o._; | ;_.--\"o.--\"_/______/______/______/_\n",
            "____/______/______/______/______/_____\"=.o|o_.--\"\"___/______/______/______/____\n",
            "/______/______/______/______/______/______/______/______/______/______/_____ /\n",
            "*******************************************************************************\n",
            "\n",
            "Welcome to Treasure Island.\n",
            "Your mission is to find the treasure.\n",
            "You're at a crossroad. Where do you want to go? Type \"left\" or \"right\"\n",
            "left\n",
            "You've come to a lake. There is an island in the middle of the lake.\n",
            "Type \"wait\" to wait for a boat.Type \"swim\" to swim across.\n",
            "wait\n",
            "You arrive at the island unharmed. There is a house with 3 doors.\n",
            "One red, one yellow and one blue. Which colour do you choose?\n",
            "yellow\n",
            "You found the treasure! You Win!\n"
          ]
        }
      ]
    }
  ]
}